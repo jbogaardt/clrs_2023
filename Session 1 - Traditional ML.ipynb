{
 "cells": [
  {
   "cell_type": "code",
   "execution_count": null,
   "metadata": {
    "id": "3Vt3v7rdLn7u"
   },
   "outputs": [],
   "source": [
    "#!pip install pycaret chainladder optuna"
   ]
  },
  {
   "cell_type": "code",
   "execution_count": 17,
   "metadata": {
    "tags": []
   },
   "outputs": [],
   "source": [
    "import matplotlib.pyplot as plt\n",
    "plt.style.use('ggplot')\n",
    "%config InlineBackend.figure_format = 'retina'"
   ]
  },
  {
   "cell_type": "markdown",
   "metadata": {
    "id": "PK32oxFimF7e"
   },
   "source": [
    "# Machine Learning in Python\n",
    "\n",
    "Machine learning\n",
    "\n",
    "\n",
    "## Python basics\n",
    "\n",
    "## Scikit-Learn\n",
    "Estimators and their properties\n",
    " * hyperparameters vs fitted parameters_\n",
    " * `fit`, `predict`, `transform`, `score` methods\n",
    "\n",
    "Classification Example - Determine LOB from triangle\n",
    "\n",
    "SKLEARN\n",
    "  * Simple train-test split\n",
    "  * kfold Cross-validation\n",
    "  * Gridsearch parameter tuning\n",
    "\n",
    "AutoML (pycaret)\n",
    "\n",
    "\n",
    "Automated parameter tuning\n",
    "Optuna\n"
   ]
  },
  {
   "cell_type": "code",
   "execution_count": 1,
   "metadata": {
    "id": "lkTimRmIXy3H",
    "tags": []
   },
   "outputs": [],
   "source": [
    "import chainladder as cl\n",
    "import pandas as pd"
   ]
  },
  {
   "cell_type": "markdown",
   "metadata": {},
   "source": [
    "# Intro to scikit-learn\n",
    "\n",
    "![](https://scikit-learn.org/stable/_static/ml_map.png)\n",
    "\n",
    "`sklearn` is the defacto standard Machine Learning  API in python. Almost everything is an estimator in `sklearn`."
   ]
  },
  {
   "cell_type": "markdown",
   "metadata": {
    "tags": []
   },
   "source": [
    "📜 All estimator objects can optionally be configured with **hyper**parameters to uniquely specify the model being built. This is done ahead of pushing any data through the model.\n",
    "\n",
    "Estimators are instances of a class (which is denoted by Uppercase naming convention).\n",
    "\n",
    "```python\n",
    "estimator = Estimator(param1=1, param2=2)\n",
    "```\n",
    "\n",
    "Creating an instance of a model is as simple as adding parenthesis at the end of the class name."
   ]
  },
  {
   "cell_type": "code",
   "execution_count": 166,
   "metadata": {
    "tags": []
   },
   "outputs": [
    {
     "data": {
      "text/html": [
       "<style>#sk-container-id-8 {color: black;background-color: white;}#sk-container-id-8 pre{padding: 0;}#sk-container-id-8 div.sk-toggleable {background-color: white;}#sk-container-id-8 label.sk-toggleable__label {cursor: pointer;display: block;width: 100%;margin-bottom: 0;padding: 0.3em;box-sizing: border-box;text-align: center;}#sk-container-id-8 label.sk-toggleable__label-arrow:before {content: \"▸\";float: left;margin-right: 0.25em;color: #696969;}#sk-container-id-8 label.sk-toggleable__label-arrow:hover:before {color: black;}#sk-container-id-8 div.sk-estimator:hover label.sk-toggleable__label-arrow:before {color: black;}#sk-container-id-8 div.sk-toggleable__content {max-height: 0;max-width: 0;overflow: hidden;text-align: left;background-color: #f0f8ff;}#sk-container-id-8 div.sk-toggleable__content pre {margin: 0.2em;color: black;border-radius: 0.25em;background-color: #f0f8ff;}#sk-container-id-8 input.sk-toggleable__control:checked~div.sk-toggleable__content {max-height: 200px;max-width: 100%;overflow: auto;}#sk-container-id-8 input.sk-toggleable__control:checked~label.sk-toggleable__label-arrow:before {content: \"▾\";}#sk-container-id-8 div.sk-estimator input.sk-toggleable__control:checked~label.sk-toggleable__label {background-color: #d4ebff;}#sk-container-id-8 div.sk-label input.sk-toggleable__control:checked~label.sk-toggleable__label {background-color: #d4ebff;}#sk-container-id-8 input.sk-hidden--visually {border: 0;clip: rect(1px 1px 1px 1px);clip: rect(1px, 1px, 1px, 1px);height: 1px;margin: -1px;overflow: hidden;padding: 0;position: absolute;width: 1px;}#sk-container-id-8 div.sk-estimator {font-family: monospace;background-color: #f0f8ff;border: 1px dotted black;border-radius: 0.25em;box-sizing: border-box;margin-bottom: 0.5em;}#sk-container-id-8 div.sk-estimator:hover {background-color: #d4ebff;}#sk-container-id-8 div.sk-parallel-item::after {content: \"\";width: 100%;border-bottom: 1px solid gray;flex-grow: 1;}#sk-container-id-8 div.sk-label:hover label.sk-toggleable__label {background-color: #d4ebff;}#sk-container-id-8 div.sk-serial::before {content: \"\";position: absolute;border-left: 1px solid gray;box-sizing: border-box;top: 0;bottom: 0;left: 50%;z-index: 0;}#sk-container-id-8 div.sk-serial {display: flex;flex-direction: column;align-items: center;background-color: white;padding-right: 0.2em;padding-left: 0.2em;position: relative;}#sk-container-id-8 div.sk-item {position: relative;z-index: 1;}#sk-container-id-8 div.sk-parallel {display: flex;align-items: stretch;justify-content: center;background-color: white;position: relative;}#sk-container-id-8 div.sk-item::before, #sk-container-id-8 div.sk-parallel-item::before {content: \"\";position: absolute;border-left: 1px solid gray;box-sizing: border-box;top: 0;bottom: 0;left: 50%;z-index: -1;}#sk-container-id-8 div.sk-parallel-item {display: flex;flex-direction: column;z-index: 1;position: relative;background-color: white;}#sk-container-id-8 div.sk-parallel-item:first-child::after {align-self: flex-end;width: 50%;}#sk-container-id-8 div.sk-parallel-item:last-child::after {align-self: flex-start;width: 50%;}#sk-container-id-8 div.sk-parallel-item:only-child::after {width: 0;}#sk-container-id-8 div.sk-dashed-wrapped {border: 1px dashed gray;margin: 0 0.4em 0.5em 0.4em;box-sizing: border-box;padding-bottom: 0.4em;background-color: white;}#sk-container-id-8 div.sk-label label {font-family: monospace;font-weight: bold;display: inline-block;line-height: 1.2em;}#sk-container-id-8 div.sk-label-container {text-align: center;}#sk-container-id-8 div.sk-container {/* jupyter's `normalize.less` sets `[hidden] { display: none; }` but bootstrap.min.css set `[hidden] { display: none !important; }` so we also need the `!important` here to be able to override the default hidden behavior on the sphinx rendered scikit-learn.org. See: https://github.com/scikit-learn/scikit-learn/issues/21755 */display: inline-block !important;position: relative;}#sk-container-id-8 div.sk-text-repr-fallback {display: none;}</style><div id=\"sk-container-id-8\" class=\"sk-top-container\"><div class=\"sk-text-repr-fallback\"><pre>LinearRegression()</pre><b>In a Jupyter environment, please rerun this cell to show the HTML representation or trust the notebook. <br />On GitHub, the HTML representation is unable to render, please try loading this page with nbviewer.org.</b></div><div class=\"sk-container\" hidden><div class=\"sk-item\"><div class=\"sk-estimator sk-toggleable\"><input class=\"sk-toggleable__control sk-hidden--visually\" id=\"sk-estimator-id-8\" type=\"checkbox\" checked><label for=\"sk-estimator-id-8\" class=\"sk-toggleable__label sk-toggleable__label-arrow\">LinearRegression</label><div class=\"sk-toggleable__content\"><pre>LinearRegression()</pre></div></div></div></div></div>"
      ],
      "text/plain": [
       "LinearRegression()"
      ]
     },
     "execution_count": 166,
     "metadata": {},
     "output_type": "execute_result"
    }
   ],
   "source": [
    "from sklearn.linear_model import LinearRegression\n",
    "\n",
    "model = LinearRegression()\n",
    "model"
   ]
  },
  {
   "cell_type": "markdown",
   "metadata": {
    "tags": []
   },
   "source": [
    "`sklearn` has sensible default hyperparameters. These can be viewed and optionally overridden."
   ]
  },
  {
   "cell_type": "code",
   "execution_count": 167,
   "metadata": {
    "tags": []
   },
   "outputs": [
    {
     "data": {
      "text/plain": [
       "{'copy_X': True, 'fit_intercept': True, 'n_jobs': None, 'positive': False}"
      ]
     },
     "execution_count": 167,
     "metadata": {},
     "output_type": "execute_result"
    }
   ],
   "source": [
    "model.get_params()"
   ]
  },
  {
   "cell_type": "markdown",
   "metadata": {},
   "source": [
    "Note that we can set our **hyperparameters** in the absence of looking at any data. These parameters are there to tell the model how it should behave during the fitting process."
   ]
  },
  {
   "cell_type": "code",
   "execution_count": 195,
   "metadata": {
    "tags": []
   },
   "outputs": [
    {
     "data": {
      "text/html": [
       "<style>#sk-container-id-11 {color: black;background-color: white;}#sk-container-id-11 pre{padding: 0;}#sk-container-id-11 div.sk-toggleable {background-color: white;}#sk-container-id-11 label.sk-toggleable__label {cursor: pointer;display: block;width: 100%;margin-bottom: 0;padding: 0.3em;box-sizing: border-box;text-align: center;}#sk-container-id-11 label.sk-toggleable__label-arrow:before {content: \"▸\";float: left;margin-right: 0.25em;color: #696969;}#sk-container-id-11 label.sk-toggleable__label-arrow:hover:before {color: black;}#sk-container-id-11 div.sk-estimator:hover label.sk-toggleable__label-arrow:before {color: black;}#sk-container-id-11 div.sk-toggleable__content {max-height: 0;max-width: 0;overflow: hidden;text-align: left;background-color: #f0f8ff;}#sk-container-id-11 div.sk-toggleable__content pre {margin: 0.2em;color: black;border-radius: 0.25em;background-color: #f0f8ff;}#sk-container-id-11 input.sk-toggleable__control:checked~div.sk-toggleable__content {max-height: 200px;max-width: 100%;overflow: auto;}#sk-container-id-11 input.sk-toggleable__control:checked~label.sk-toggleable__label-arrow:before {content: \"▾\";}#sk-container-id-11 div.sk-estimator input.sk-toggleable__control:checked~label.sk-toggleable__label {background-color: #d4ebff;}#sk-container-id-11 div.sk-label input.sk-toggleable__control:checked~label.sk-toggleable__label {background-color: #d4ebff;}#sk-container-id-11 input.sk-hidden--visually {border: 0;clip: rect(1px 1px 1px 1px);clip: rect(1px, 1px, 1px, 1px);height: 1px;margin: -1px;overflow: hidden;padding: 0;position: absolute;width: 1px;}#sk-container-id-11 div.sk-estimator {font-family: monospace;background-color: #f0f8ff;border: 1px dotted black;border-radius: 0.25em;box-sizing: border-box;margin-bottom: 0.5em;}#sk-container-id-11 div.sk-estimator:hover {background-color: #d4ebff;}#sk-container-id-11 div.sk-parallel-item::after {content: \"\";width: 100%;border-bottom: 1px solid gray;flex-grow: 1;}#sk-container-id-11 div.sk-label:hover label.sk-toggleable__label {background-color: #d4ebff;}#sk-container-id-11 div.sk-serial::before {content: \"\";position: absolute;border-left: 1px solid gray;box-sizing: border-box;top: 0;bottom: 0;left: 50%;z-index: 0;}#sk-container-id-11 div.sk-serial {display: flex;flex-direction: column;align-items: center;background-color: white;padding-right: 0.2em;padding-left: 0.2em;position: relative;}#sk-container-id-11 div.sk-item {position: relative;z-index: 1;}#sk-container-id-11 div.sk-parallel {display: flex;align-items: stretch;justify-content: center;background-color: white;position: relative;}#sk-container-id-11 div.sk-item::before, #sk-container-id-11 div.sk-parallel-item::before {content: \"\";position: absolute;border-left: 1px solid gray;box-sizing: border-box;top: 0;bottom: 0;left: 50%;z-index: -1;}#sk-container-id-11 div.sk-parallel-item {display: flex;flex-direction: column;z-index: 1;position: relative;background-color: white;}#sk-container-id-11 div.sk-parallel-item:first-child::after {align-self: flex-end;width: 50%;}#sk-container-id-11 div.sk-parallel-item:last-child::after {align-self: flex-start;width: 50%;}#sk-container-id-11 div.sk-parallel-item:only-child::after {width: 0;}#sk-container-id-11 div.sk-dashed-wrapped {border: 1px dashed gray;margin: 0 0.4em 0.5em 0.4em;box-sizing: border-box;padding-bottom: 0.4em;background-color: white;}#sk-container-id-11 div.sk-label label {font-family: monospace;font-weight: bold;display: inline-block;line-height: 1.2em;}#sk-container-id-11 div.sk-label-container {text-align: center;}#sk-container-id-11 div.sk-container {/* jupyter's `normalize.less` sets `[hidden] { display: none; }` but bootstrap.min.css set `[hidden] { display: none !important; }` so we also need the `!important` here to be able to override the default hidden behavior on the sphinx rendered scikit-learn.org. See: https://github.com/scikit-learn/scikit-learn/issues/21755 */display: inline-block !important;position: relative;}#sk-container-id-11 div.sk-text-repr-fallback {display: none;}</style><div id=\"sk-container-id-11\" class=\"sk-top-container\"><div class=\"sk-text-repr-fallback\"><pre>LinearRegression()</pre><b>In a Jupyter environment, please rerun this cell to show the HTML representation or trust the notebook. <br />On GitHub, the HTML representation is unable to render, please try loading this page with nbviewer.org.</b></div><div class=\"sk-container\" hidden><div class=\"sk-item\"><div class=\"sk-estimator sk-toggleable\"><input class=\"sk-toggleable__control sk-hidden--visually\" id=\"sk-estimator-id-11\" type=\"checkbox\" checked><label for=\"sk-estimator-id-11\" class=\"sk-toggleable__label sk-toggleable__label-arrow\">LinearRegression</label><div class=\"sk-toggleable__content\"><pre>LinearRegression()</pre></div></div></div></div></div>"
      ],
      "text/plain": [
       "LinearRegression()"
      ]
     },
     "execution_count": 195,
     "metadata": {},
     "output_type": "execute_result"
    }
   ],
   "source": [
    "model = LinearRegression(fit_intercept=True)\n",
    "model"
   ]
  },
  {
   "cell_type": "markdown",
   "metadata": {},
   "source": [
    "📜 All estimator objects expose a `fit` method that takes as input, `X`:\n",
    "\n",
    "```python\n",
    "estimator.fit(X, y)\n",
    "```\n",
    " \n",
    "\n",
    "Models also optionally support a response, `y` or and weights, `sample_weight`.\n",
    "\n",
    "Let's create some data to explore the concept."
   ]
  },
  {
   "cell_type": "code",
   "execution_count": 190,
   "metadata": {
    "tags": []
   },
   "outputs": [
    {
     "data": {
      "text/html": [
       "<div>\n",
       "<style scoped>\n",
       "    .dataframe tbody tr th:only-of-type {\n",
       "        vertical-align: middle;\n",
       "    }\n",
       "\n",
       "    .dataframe tbody tr th {\n",
       "        vertical-align: top;\n",
       "    }\n",
       "\n",
       "    .dataframe thead th {\n",
       "        text-align: right;\n",
       "    }\n",
       "</style>\n",
       "<table border=\"1\" class=\"dataframe\">\n",
       "  <thead>\n",
       "    <tr style=\"text-align: right;\">\n",
       "      <th></th>\n",
       "      <th>X</th>\n",
       "      <th>y</th>\n",
       "    </tr>\n",
       "  </thead>\n",
       "  <tbody>\n",
       "    <tr>\n",
       "      <th>0</th>\n",
       "      <td>-50.000000</td>\n",
       "      <td>-62.565031</td>\n",
       "    </tr>\n",
       "    <tr>\n",
       "      <th>1</th>\n",
       "      <td>-48.989899</td>\n",
       "      <td>-42.754012</td>\n",
       "    </tr>\n",
       "    <tr>\n",
       "      <th>2</th>\n",
       "      <td>-47.979798</td>\n",
       "      <td>-18.260358</td>\n",
       "    </tr>\n",
       "    <tr>\n",
       "      <th>3</th>\n",
       "      <td>-46.969697</td>\n",
       "      <td>-38.733277</td>\n",
       "    </tr>\n",
       "    <tr>\n",
       "      <th>4</th>\n",
       "      <td>-45.959596</td>\n",
       "      <td>-49.983364</td>\n",
       "    </tr>\n",
       "  </tbody>\n",
       "</table>\n",
       "</div>"
      ],
      "text/plain": [
       "           X          y\n",
       "0 -50.000000 -62.565031\n",
       "1 -48.989899 -42.754012\n",
       "2 -47.979798 -18.260358\n",
       "3 -46.969697 -38.733277\n",
       "4 -45.959596 -49.983364"
      ]
     },
     "execution_count": 190,
     "metadata": {},
     "output_type": "execute_result"
    }
   ],
   "source": [
    "import numpy as np\n",
    "\n",
    "data = pd.DataFrame(\n",
    "    {'X': np.linspace(-50, 50, 100), \n",
    "     'y': 1.5 * X  + 30 + np.random.normal(0, 15, 100)})\n",
    "data.head()"
   ]
  },
  {
   "cell_type": "markdown",
   "metadata": {},
   "source": [
    "We know the linear equation that generated this data, but becuase we added an error term, we can see the errors in our data."
   ]
  },
  {
   "cell_type": "code",
   "execution_count": 199,
   "metadata": {
    "tags": []
   },
   "outputs": [
    {
     "data": {
      "image/png": "[encoded data removed]",
      "text/plain": [
       "<Figure size 640x480 with 1 Axes>"
      ]
     },
     "metadata": {
      "image/png": {
       "height": 459,
       "width": 577
      }
     },
     "output_type": "display_data"
    }
   ],
   "source": [
    "data.plot(kind='scatter', x='X', y='y', title='Simple Regression Data');"
   ]
  },
  {
   "cell_type": "markdown",
   "metadata": {},
   "source": [
    "Let's fit our model to our data."
   ]
  },
  {
   "cell_type": "code",
   "execution_count": 220,
   "metadata": {
    "tags": []
   },
   "outputs": [
    {
     "data": {
      "text/html": [
       "<style>#sk-container-id-13 {color: black;background-color: white;}#sk-container-id-13 pre{padding: 0;}#sk-container-id-13 div.sk-toggleable {background-color: white;}#sk-container-id-13 label.sk-toggleable__label {cursor: pointer;display: block;width: 100%;margin-bottom: 0;padding: 0.3em;box-sizing: border-box;text-align: center;}#sk-container-id-13 label.sk-toggleable__label-arrow:before {content: \"▸\";float: left;margin-right: 0.25em;color: #696969;}#sk-container-id-13 label.sk-toggleable__label-arrow:hover:before {color: black;}#sk-container-id-13 div.sk-estimator:hover label.sk-toggleable__label-arrow:before {color: black;}#sk-container-id-13 div.sk-toggleable__content {max-height: 0;max-width: 0;overflow: hidden;text-align: left;background-color: #f0f8ff;}#sk-container-id-13 div.sk-toggleable__content pre {margin: 0.2em;color: black;border-radius: 0.25em;background-color: #f0f8ff;}#sk-container-id-13 input.sk-toggleable__control:checked~div.sk-toggleable__content {max-height: 200px;max-width: 100%;overflow: auto;}#sk-container-id-13 input.sk-toggleable__control:checked~label.sk-toggleable__label-arrow:before {content: \"▾\";}#sk-container-id-13 div.sk-estimator input.sk-toggleable__control:checked~label.sk-toggleable__label {background-color: #d4ebff;}#sk-container-id-13 div.sk-label input.sk-toggleable__control:checked~label.sk-toggleable__label {background-color: #d4ebff;}#sk-container-id-13 input.sk-hidden--visually {border: 0;clip: rect(1px 1px 1px 1px);clip: rect(1px, 1px, 1px, 1px);height: 1px;margin: -1px;overflow: hidden;padding: 0;position: absolute;width: 1px;}#sk-container-id-13 div.sk-estimator {font-family: monospace;background-color: #f0f8ff;border: 1px dotted black;border-radius: 0.25em;box-sizing: border-box;margin-bottom: 0.5em;}#sk-container-id-13 div.sk-estimator:hover {background-color: #d4ebff;}#sk-container-id-13 div.sk-parallel-item::after {content: \"\";width: 100%;border-bottom: 1px solid gray;flex-grow: 1;}#sk-container-id-13 div.sk-label:hover label.sk-toggleable__label {background-color: #d4ebff;}#sk-container-id-13 div.sk-serial::before {content: \"\";position: absolute;border-left: 1px solid gray;box-sizing: border-box;top: 0;bottom: 0;left: 50%;z-index: 0;}#sk-container-id-13 div.sk-serial {display: flex;flex-direction: column;align-items: center;background-color: white;padding-right: 0.2em;padding-left: 0.2em;position: relative;}#sk-container-id-13 div.sk-item {position: relative;z-index: 1;}#sk-container-id-13 div.sk-parallel {display: flex;align-items: stretch;justify-content: center;background-color: white;position: relative;}#sk-container-id-13 div.sk-item::before, #sk-container-id-13 div.sk-parallel-item::before {content: \"\";position: absolute;border-left: 1px solid gray;box-sizing: border-box;top: 0;bottom: 0;left: 50%;z-index: -1;}#sk-container-id-13 div.sk-parallel-item {display: flex;flex-direction: column;z-index: 1;position: relative;background-color: white;}#sk-container-id-13 div.sk-parallel-item:first-child::after {align-self: flex-end;width: 50%;}#sk-container-id-13 div.sk-parallel-item:last-child::after {align-self: flex-start;width: 50%;}#sk-container-id-13 div.sk-parallel-item:only-child::after {width: 0;}#sk-container-id-13 div.sk-dashed-wrapped {border: 1px dashed gray;margin: 0 0.4em 0.5em 0.4em;box-sizing: border-box;padding-bottom: 0.4em;background-color: white;}#sk-container-id-13 div.sk-label label {font-family: monospace;font-weight: bold;display: inline-block;line-height: 1.2em;}#sk-container-id-13 div.sk-label-container {text-align: center;}#sk-container-id-13 div.sk-container {/* jupyter's `normalize.less` sets `[hidden] { display: none; }` but bootstrap.min.css set `[hidden] { display: none !important; }` so we also need the `!important` here to be able to override the default hidden behavior on the sphinx rendered scikit-learn.org. See: https://github.com/scikit-learn/scikit-learn/issues/21755 */display: inline-block !important;position: relative;}#sk-container-id-13 div.sk-text-repr-fallback {display: none;}</style><div id=\"sk-container-id-13\" class=\"sk-top-container\"><div class=\"sk-text-repr-fallback\"><pre>LinearRegression()</pre><b>In a Jupyter environment, please rerun this cell to show the HTML representation or trust the notebook. <br />On GitHub, the HTML representation is unable to render, please try loading this page with nbviewer.org.</b></div><div class=\"sk-container\" hidden><div class=\"sk-item\"><div class=\"sk-estimator sk-toggleable\"><input class=\"sk-toggleable__control sk-hidden--visually\" id=\"sk-estimator-id-13\" type=\"checkbox\" checked><label for=\"sk-estimator-id-13\" class=\"sk-toggleable__label sk-toggleable__label-arrow\">LinearRegression</label><div class=\"sk-toggleable__content\"><pre>LinearRegression()</pre></div></div></div></div></div>"
      ],
      "text/plain": [
       "LinearRegression()"
      ]
     },
     "execution_count": 220,
     "metadata": {},
     "output_type": "execute_result"
    }
   ],
   "source": [
    "model.fit(data[['X']], data['y'])"
   ]
  },
  {
   "cell_type": "markdown",
   "metadata": {},
   "source": [
    "It looks like nothing happened, but in actuality, our model has be fitted to the data.  The `model` object itself displays the same, but it now has additional features.  \n",
    "\n",
    "📜 When a model is fit, the fitted attributes are denoted by a trailing **underscore**. \n",
    "\n",
    "```python\n",
    "estimator.estimated_param_\n",
    "```\n",
    "\n",
    "The use of the underscore is a key API design style of scikit-learn that allows for the quicker recognition of fitted parameters vs hyperparameters:"
   ]
  },
  {
   "cell_type": "code",
   "execution_count": 221,
   "metadata": {
    "tags": []
   },
   "outputs": [
    {
     "data": {
      "text/plain": [
       "'The slope of the model is [1.52709365] and the intercept is 29.46818836898374.'"
      ]
     },
     "execution_count": 221,
     "metadata": {},
     "output_type": "execute_result"
    }
   ],
   "source": [
    "f'The slope of the model is {model.coef_} and the intercept is {model.intercept_}.'"
   ]
  },
  {
   "cell_type": "markdown",
   "metadata": {},
   "source": [
    "Can we do statistical inference with `sklearn`?\n",
    "\n",
    "Only in limited ways at an overall level. There are no coefficient-specific t-statistics, p-values, etc, associated with this model retained by `sklearn`. The machine learning focus of the library promotes overall model performance over a"
   ]
  },
  {
   "cell_type": "code",
   "execution_count": 232,
   "metadata": {
    "tags": []
   },
   "outputs": [
    {
     "data": {
      "text/plain": [
       "0.900839582031013"
      ]
     },
     "execution_count": 232,
     "metadata": {},
     "output_type": "execute_result"
    }
   ],
   "source": [
    "model.score(data[['X']], data['y'])"
   ]
  },
  {
   "cell_type": "code",
   "execution_count": null,
   "metadata": {},
   "outputs": [],
   "source": [
    "predictions = model.predict(data[['X']])"
   ]
  },
  {
   "cell_type": "code",
   "execution_count": 242,
   "metadata": {
    "tags": []
   },
   "outputs": [
    {
     "data": {
      "text/plain": [
       "218.2363876071182"
      ]
     },
     "execution_count": 242,
     "metadata": {},
     "output_type": "execute_result"
    }
   ],
   "source": [
    "metrics.mean_squared_error(data['y'], predictions)"
   ]
  },
  {
   "cell_type": "code",
   "execution_count": 226,
   "metadata": {
    "tags": []
   },
   "outputs": [
    {
     "data": {
      "image/png": "[encoded data removed]",
      "text/plain": [
       "<Figure size 640x480 with 1 Axes>"
      ]
     },
     "metadata": {
      "image/png": {
       "height": 459,
       "width": 577
      }
     },
     "output_type": "display_data"
    }
   ],
   "source": [
    "ax = data.plot(kind='scatter', x='X', y='y', title='Simple Regression Data');\n",
    "\n",
    "pd.concat(\n",
    "    (data[['X']], pd.Series(predictions, name='y')), \n",
    "    axis=1\n",
    ").plot(\n",
    "    kind='line', x='X', y='y', \n",
    "    ax=ax, legend=False, \n",
    "    linestyle='dashed');"
   ]
  },
  {
   "cell_type": "markdown",
   "metadata": {},
   "source": [
    "These are the very basics of `sklearn`, but let's try something on a "
   ]
  },
  {
   "cell_type": "markdown",
   "metadata": {},
   "source": [
    "# The Dataset - a segue into `chainladder`\n",
    "\n",
    "Let's explore the `clrd`  ([CAS Loss Reserve Database](https://www.casact.org/publications-research/research/research-resources/loss-reserving-data-pulled-naic-schedule-p)) dataset stored within the `chainladder` python package."
   ]
  },
  {
   "cell_type": "code",
   "execution_count": 4,
   "metadata": {
    "id": "KjFqRlfmogZy",
    "tags": []
   },
   "outputs": [
    {
     "data": {
      "text/html": [
       "<table border=\"1\" class=\"dataframe\">\n",
       "  <thead>\n",
       "    <tr style=\"text-align: right;\">\n",
       "      <th></th>\n",
       "      <th>Triangle Summary</th>\n",
       "    </tr>\n",
       "  </thead>\n",
       "  <tbody>\n",
       "    <tr>\n",
       "      <th>Valuation:</th>\n",
       "      <td>1997-12</td>\n",
       "    </tr>\n",
       "    <tr>\n",
       "      <th>Grain:</th>\n",
       "      <td>OYDY</td>\n",
       "    </tr>\n",
       "    <tr>\n",
       "      <th>Shape:</th>\n",
       "      <td>(775, 6, 10, 10)</td>\n",
       "    </tr>\n",
       "    <tr>\n",
       "      <th>Index:</th>\n",
       "      <td>[GRNAME, LOB]</td>\n",
       "    </tr>\n",
       "    <tr>\n",
       "      <th>Columns:</th>\n",
       "      <td>[IncurLoss, CumPaidLoss, BulkLoss, EarnedPremDIR, EarnedPremCeded, EarnedPremNet]</td>\n",
       "    </tr>\n",
       "  </tbody>\n",
       "</table>"
      ],
      "text/plain": [
       "                                             Triangle Summary\n",
       "Valuation:                                            1997-12\n",
       "Grain:                                                   OYDY\n",
       "Shape:                                       (775, 6, 10, 10)\n",
       "Index:                                          [GRNAME, LOB]\n",
       "Columns:    [IncurLoss, CumPaidLoss, BulkLoss, EarnedPremD..."
      ]
     },
     "execution_count": 4,
     "metadata": {},
     "output_type": "execute_result"
    }
   ],
   "source": [
    "clrd = cl.load_sample('clrd')\n",
    "clrd"
   ]
  },
  {
   "cell_type": "markdown",
   "metadata": {
    "tags": []
   },
   "source": [
    "We are using a `chainladder.Triangle` to explore the dataset."
   ]
  },
  {
   "cell_type": "code",
   "execution_count": 244,
   "metadata": {
    "tags": []
   },
   "outputs": [
    {
     "data": {
      "text/plain": [
       "chainladder.core.triangle.Triangle"
      ]
     },
     "execution_count": 244,
     "metadata": {},
     "output_type": "execute_result"
    }
   ],
   "source": [
    "type(clrd)"
   ]
  },
  {
   "cell_type": "markdown",
   "metadata": {},
   "source": [
    "The `Triangle` object is like a pandas DataFrame with an individual triangle as a datatype.  We can have different rows of a triangle representing Companies and Lines of Business.  We can have different rows covering the different measures like Paid Loss, Premium, etc.  The result is a 4D object (Table of Triangles):\n",
    "\n",
    "\n",
    "![](https://raw.githubusercontent.com/casact/chainladder-python/master/docs/images/triangle_graphic.PNG)"
   ]
  },
  {
   "cell_type": "markdown",
   "metadata": {
    "tags": []
   },
   "source": [
    "## Similarity to Pandas\n",
    "The `Triangle` object is very similar to a pandas DataFrame and uses a subset of the pandas API for data manipulation. There are several advantages in having a dedicated Triangle object:\n",
    "\n",
    "* Actuaries work with sets of triangles. DataFrames, being two dimensional, support single triangles with grace but become unwieldy with multiple triangles.\n",
    "* We can carry through the meaningful pandas functionality while also supporting triangle specific methods not found in pandas\n",
    "* Improved memory footprint with sparse array representation in backend\n",
    "* Calculated fields with “virtual” columns allows for lazy column evaluation of Triangles as well as improved memory footprint for larger triangles.\n",
    "\n",
    "Ultimately, there are a lot of things pandas can do that are not relevant to reserving, and there are a lot of things a Triangle needs to do that are not handled easily with pandas.  That said, a lot of pandas functionality works with Triangles.  For example, we can calculate aggregate values over all \"rows\" of the `Triangle`:"
   ]
  },
  {
   "cell_type": "code",
   "execution_count": 9,
   "metadata": {
    "tags": []
   },
   "outputs": [
    {
     "data": {
      "text/html": [
       "<table border=\"1\" class=\"dataframe\">\n",
       "  <thead>\n",
       "    <tr style=\"text-align: right;\">\n",
       "      <th></th>\n",
       "      <th>12</th>\n",
       "      <th>24</th>\n",
       "      <th>36</th>\n",
       "      <th>48</th>\n",
       "      <th>60</th>\n",
       "      <th>72</th>\n",
       "      <th>84</th>\n",
       "      <th>96</th>\n",
       "      <th>108</th>\n",
       "      <th>120</th>\n",
       "    </tr>\n",
       "  </thead>\n",
       "  <tbody>\n",
       "    <tr>\n",
       "      <th>1988</th>\n",
       "      <td>3,577,780</td>\n",
       "      <td>7,059,966</td>\n",
       "      <td>8,826,151</td>\n",
       "      <td>9,862,687</td>\n",
       "      <td>10,474,698</td>\n",
       "      <td>10,814,576</td>\n",
       "      <td>10,994,014</td>\n",
       "      <td>11,091,363</td>\n",
       "      <td>11,171,590</td>\n",
       "      <td>11,203,949</td>\n",
       "    </tr>\n",
       "    <tr>\n",
       "      <th>1989</th>\n",
       "      <td>4,090,680</td>\n",
       "      <td>7,964,702</td>\n",
       "      <td>9,937,520</td>\n",
       "      <td>11,098,588</td>\n",
       "      <td>11,766,488</td>\n",
       "      <td>12,118,790</td>\n",
       "      <td>12,311,629</td>\n",
       "      <td>12,434,826</td>\n",
       "      <td>12,492,899</td>\n",
       "      <td></td>\n",
       "    </tr>\n",
       "    <tr>\n",
       "      <th>1990</th>\n",
       "      <td>4,578,442</td>\n",
       "      <td>8,808,486</td>\n",
       "      <td>10,985,347</td>\n",
       "      <td>12,229,001</td>\n",
       "      <td>12,878,545</td>\n",
       "      <td>13,238,667</td>\n",
       "      <td>13,452,993</td>\n",
       "      <td>13,559,557</td>\n",
       "      <td></td>\n",
       "      <td></td>\n",
       "    </tr>\n",
       "    <tr>\n",
       "      <th>1991</th>\n",
       "      <td>4,648,756</td>\n",
       "      <td>8,961,755</td>\n",
       "      <td>11,154,244</td>\n",
       "      <td>12,409,592</td>\n",
       "      <td>13,092,037</td>\n",
       "      <td>13,447,481</td>\n",
       "      <td>13,642,414</td>\n",
       "      <td></td>\n",
       "      <td></td>\n",
       "      <td></td>\n",
       "    </tr>\n",
       "    <tr>\n",
       "      <th>1992</th>\n",
       "      <td>5,139,142</td>\n",
       "      <td>9,757,699</td>\n",
       "      <td>12,027,983</td>\n",
       "      <td>13,289,485</td>\n",
       "      <td>13,992,821</td>\n",
       "      <td>14,347,271</td>\n",
       "      <td></td>\n",
       "      <td></td>\n",
       "      <td></td>\n",
       "      <td></td>\n",
       "    </tr>\n",
       "    <tr>\n",
       "      <th>1993</th>\n",
       "      <td>5,653,379</td>\n",
       "      <td>10,599,423</td>\n",
       "      <td>12,953,812</td>\n",
       "      <td>14,292,516</td>\n",
       "      <td>15,005,138</td>\n",
       "      <td></td>\n",
       "      <td></td>\n",
       "      <td></td>\n",
       "      <td></td>\n",
       "      <td></td>\n",
       "    </tr>\n",
       "    <tr>\n",
       "      <th>1994</th>\n",
       "      <td>6,246,447</td>\n",
       "      <td>11,394,960</td>\n",
       "      <td>13,845,764</td>\n",
       "      <td>15,249,326</td>\n",
       "      <td></td>\n",
       "      <td></td>\n",
       "      <td></td>\n",
       "      <td></td>\n",
       "      <td></td>\n",
       "      <td></td>\n",
       "    </tr>\n",
       "    <tr>\n",
       "      <th>1995</th>\n",
       "      <td>6,473,843</td>\n",
       "      <td>11,612,151</td>\n",
       "      <td>14,010,098</td>\n",
       "      <td></td>\n",
       "      <td></td>\n",
       "      <td></td>\n",
       "      <td></td>\n",
       "      <td></td>\n",
       "      <td></td>\n",
       "      <td></td>\n",
       "    </tr>\n",
       "    <tr>\n",
       "      <th>1996</th>\n",
       "      <td>6,591,599</td>\n",
       "      <td>11,473,912</td>\n",
       "      <td></td>\n",
       "      <td></td>\n",
       "      <td></td>\n",
       "      <td></td>\n",
       "      <td></td>\n",
       "      <td></td>\n",
       "      <td></td>\n",
       "      <td></td>\n",
       "    </tr>\n",
       "    <tr>\n",
       "      <th>1997</th>\n",
       "      <td>6,451,896</td>\n",
       "      <td></td>\n",
       "      <td></td>\n",
       "      <td></td>\n",
       "      <td></td>\n",
       "      <td></td>\n",
       "      <td></td>\n",
       "      <td></td>\n",
       "      <td></td>\n",
       "      <td></td>\n",
       "    </tr>\n",
       "  </tbody>\n",
       "</table>"
      ],
      "text/plain": [
       "            12          24          36          48          60          72          84          96          108         120\n",
       "1988  3577780.0   7059966.0   8826151.0   9862687.0  10474698.0  10814576.0  10994014.0  11091363.0  11171590.0  11203949.0\n",
       "1989  4090680.0   7964702.0   9937520.0  11098588.0  11766488.0  12118790.0  12311629.0  12434826.0  12492899.0         NaN\n",
       "1990  4578442.0   8808486.0  10985347.0  12229001.0  12878545.0  13238667.0  13452993.0  13559557.0         NaN         NaN\n",
       "1991  4648756.0   8961755.0  11154244.0  12409592.0  13092037.0  13447481.0  13642414.0         NaN         NaN         NaN\n",
       "1992  5139142.0   9757699.0  12027983.0  13289485.0  13992821.0  14347271.0         NaN         NaN         NaN         NaN\n",
       "1993  5653379.0  10599423.0  12953812.0  14292516.0  15005138.0         NaN         NaN         NaN         NaN         NaN\n",
       "1994  6246447.0  11394960.0  13845764.0  15249326.0         NaN         NaN         NaN         NaN         NaN         NaN\n",
       "1995  6473843.0  11612151.0  14010098.0         NaN         NaN         NaN         NaN         NaN         NaN         NaN\n",
       "1996  6591599.0  11473912.0         NaN         NaN         NaN         NaN         NaN         NaN         NaN         NaN\n",
       "1997  6451896.0         NaN         NaN         NaN         NaN         NaN         NaN         NaN         NaN         NaN"
      ]
     },
     "execution_count": 9,
     "metadata": {},
     "output_type": "execute_result"
    }
   ],
   "source": [
    "clrd['CumPaidLoss'].sum()"
   ]
  },
  {
   "cell_type": "code",
   "execution_count": 21,
   "metadata": {
    "tags": []
   },
   "outputs": [
    {
     "data": {
      "image/png": "[encoded data removed]",
      "text/plain": [
       "<Figure size 640x480 with 1 Axes>"
      ]
     },
     "metadata": {
      "image/png": {
       "height": 459,
       "width": 547
      }
     },
     "output_type": "display_data"
    }
   ],
   "source": [
    "clrd[clrd['LOB']=='ppauto']['CumPaidLoss'].sum().T.plot(xlabel='Age', title='Personal Auto Paid Loss');"
   ]
  },
  {
   "cell_type": "markdown",
   "metadata": {},
   "source": [
    "We can also explore the age-to-age factors or `link_ratio` of any triangle."
   ]
  },
  {
   "cell_type": "code",
   "execution_count": 35,
   "metadata": {
    "tags": []
   },
   "outputs": [
    {
     "data": {
      "text/html": [
       "<style type=\"text/css\">\n",
       "#T_0a8b3_row0_col0, #T_0a8b3_row0_col1, #T_0a8b3_row0_col3, #T_0a8b3_row0_col4, #T_0a8b3_row0_col7, #T_0a8b3_row1_col2, #T_0a8b3_row1_col5, #T_0a8b3_row2_col6 {\n",
       "  background-color: #b40426;\n",
       "  color: #f1f1f1;\n",
       "}\n",
       "#T_0a8b3_row0_col2 {\n",
       "  background-color: #e7745b;\n",
       "  color: #f1f1f1;\n",
       "}\n",
       "#T_0a8b3_row0_col5, #T_0a8b3_row2_col2 {\n",
       "  background-color: #f7b89c;\n",
       "  color: #000000;\n",
       "}\n",
       "#T_0a8b3_row0_col6, #T_0a8b3_row0_col8, #T_0a8b3_row1_col8, #T_0a8b3_row2_col4, #T_0a8b3_row2_col7, #T_0a8b3_row2_col8, #T_0a8b3_row3_col2, #T_0a8b3_row3_col6, #T_0a8b3_row3_col7, #T_0a8b3_row3_col8, #T_0a8b3_row4_col0, #T_0a8b3_row4_col5, #T_0a8b3_row4_col6, #T_0a8b3_row4_col7, #T_0a8b3_row4_col8, #T_0a8b3_row5_col4, #T_0a8b3_row5_col5, #T_0a8b3_row5_col6, #T_0a8b3_row5_col7, #T_0a8b3_row5_col8, #T_0a8b3_row6_col3, #T_0a8b3_row6_col4, #T_0a8b3_row6_col5, #T_0a8b3_row6_col6, #T_0a8b3_row6_col7, #T_0a8b3_row6_col8, #T_0a8b3_row7_col2, #T_0a8b3_row7_col3, #T_0a8b3_row7_col4, #T_0a8b3_row7_col5, #T_0a8b3_row7_col6, #T_0a8b3_row7_col7, #T_0a8b3_row7_col8, #T_0a8b3_row8_col1, #T_0a8b3_row8_col2, #T_0a8b3_row8_col3, #T_0a8b3_row8_col4, #T_0a8b3_row8_col5, #T_0a8b3_row8_col6, #T_0a8b3_row8_col7, #T_0a8b3_row8_col8 {\n",
       "  background-color: #dddcdc;\n",
       "  color: #000000;\n",
       "}\n",
       "#T_0a8b3_row1_col0 {\n",
       "  background-color: #dd5f4b;\n",
       "  color: #f1f1f1;\n",
       "}\n",
       "#T_0a8b3_row1_col1 {\n",
       "  background-color: #e26952;\n",
       "  color: #f1f1f1;\n",
       "}\n",
       "#T_0a8b3_row1_col3 {\n",
       "  background-color: #ee8468;\n",
       "  color: #f1f1f1;\n",
       "}\n",
       "#T_0a8b3_row1_col4, #T_0a8b3_row2_col0 {\n",
       "  background-color: #f4987a;\n",
       "  color: #000000;\n",
       "}\n",
       "#T_0a8b3_row1_col6, #T_0a8b3_row1_col7, #T_0a8b3_row2_col5, #T_0a8b3_row3_col4, #T_0a8b3_row5_col2, #T_0a8b3_row5_col3, #T_0a8b3_row6_col1, #T_0a8b3_row8_col0 {\n",
       "  background-color: #3b4cc0;\n",
       "  color: #f1f1f1;\n",
       "}\n",
       "#T_0a8b3_row2_col1 {\n",
       "  background-color: #f7a889;\n",
       "  color: #000000;\n",
       "}\n",
       "#T_0a8b3_row2_col3 {\n",
       "  background-color: #f2cbb7;\n",
       "  color: #000000;\n",
       "}\n",
       "#T_0a8b3_row3_col0 {\n",
       "  background-color: #f5c4ac;\n",
       "  color: #000000;\n",
       "}\n",
       "#T_0a8b3_row3_col1 {\n",
       "  background-color: #edd1c2;\n",
       "  color: #000000;\n",
       "}\n",
       "#T_0a8b3_row3_col3 {\n",
       "  background-color: #c0d4f5;\n",
       "  color: #000000;\n",
       "}\n",
       "#T_0a8b3_row3_col5, #T_0a8b3_row4_col2 {\n",
       "  background-color: #aac7fd;\n",
       "  color: #000000;\n",
       "}\n",
       "#T_0a8b3_row4_col1 {\n",
       "  background-color: #c9d7f0;\n",
       "  color: #000000;\n",
       "}\n",
       "#T_0a8b3_row4_col3 {\n",
       "  background-color: #7b9ff9;\n",
       "  color: #f1f1f1;\n",
       "}\n",
       "#T_0a8b3_row4_col4, #T_0a8b3_row6_col0 {\n",
       "  background-color: #8db0fe;\n",
       "  color: #000000;\n",
       "}\n",
       "#T_0a8b3_row5_col0 {\n",
       "  background-color: #b9d0f9;\n",
       "  color: #000000;\n",
       "}\n",
       "#T_0a8b3_row5_col1 {\n",
       "  background-color: #9abbff;\n",
       "  color: #000000;\n",
       "}\n",
       "#T_0a8b3_row6_col2 {\n",
       "  background-color: #6f92f3;\n",
       "  color: #f1f1f1;\n",
       "}\n",
       "#T_0a8b3_row7_col0 {\n",
       "  background-color: #6282ea;\n",
       "  color: #f1f1f1;\n",
       "}\n",
       "#T_0a8b3_row7_col1 {\n",
       "  background-color: #6788ee;\n",
       "  color: #f1f1f1;\n",
       "}\n",
       "</style>\n",
       "<table id=\"T_0a8b3\">\n",
       "  <thead>\n",
       "    <tr>\n",
       "      <th class=\"blank level0\" >&nbsp;</th>\n",
       "      <th id=\"T_0a8b3_level0_col0\" class=\"col_heading level0 col0\" >12-24</th>\n",
       "      <th id=\"T_0a8b3_level0_col1\" class=\"col_heading level0 col1\" >24-36</th>\n",
       "      <th id=\"T_0a8b3_level0_col2\" class=\"col_heading level0 col2\" >36-48</th>\n",
       "      <th id=\"T_0a8b3_level0_col3\" class=\"col_heading level0 col3\" >48-60</th>\n",
       "      <th id=\"T_0a8b3_level0_col4\" class=\"col_heading level0 col4\" >60-72</th>\n",
       "      <th id=\"T_0a8b3_level0_col5\" class=\"col_heading level0 col5\" >72-84</th>\n",
       "      <th id=\"T_0a8b3_level0_col6\" class=\"col_heading level0 col6\" >84-96</th>\n",
       "      <th id=\"T_0a8b3_level0_col7\" class=\"col_heading level0 col7\" >96-108</th>\n",
       "      <th id=\"T_0a8b3_level0_col8\" class=\"col_heading level0 col8\" >108-120</th>\n",
       "    </tr>\n",
       "  </thead>\n",
       "  <tbody>\n",
       "    <tr>\n",
       "      <th id=\"T_0a8b3_level0_row0\" class=\"row_heading level0 row0\" >1988</th>\n",
       "      <td id=\"T_0a8b3_row0_col0\" class=\"data row0 col0\" >1.9215</td>\n",
       "      <td id=\"T_0a8b3_row0_col1\" class=\"data row0 col1\" >1.2181</td>\n",
       "      <td id=\"T_0a8b3_row0_col2\" class=\"data row0 col2\" >1.0955</td>\n",
       "      <td id=\"T_0a8b3_row0_col3\" class=\"data row0 col3\" >1.0490</td>\n",
       "      <td id=\"T_0a8b3_row0_col4\" class=\"data row0 col4\" >1.0240</td>\n",
       "      <td id=\"T_0a8b3_row0_col5\" class=\"data row0 col5\" >1.0108</td>\n",
       "      <td id=\"T_0a8b3_row0_col6\" class=\"data row0 col6\" >1.0052</td>\n",
       "      <td id=\"T_0a8b3_row0_col7\" class=\"data row0 col7\" >1.0031</td>\n",
       "      <td id=\"T_0a8b3_row0_col8\" class=\"data row0 col8\" >1.0009</td>\n",
       "    </tr>\n",
       "    <tr>\n",
       "      <th id=\"T_0a8b3_level0_row1\" class=\"row_heading level0 row1\" >1989</th>\n",
       "      <td id=\"T_0a8b3_row1_col0\" class=\"data row1 col0\" >1.8988</td>\n",
       "      <td id=\"T_0a8b3_row1_col1\" class=\"data row1 col1\" >1.2171</td>\n",
       "      <td id=\"T_0a8b3_row1_col2\" class=\"data row1 col2\" >1.0972</td>\n",
       "      <td id=\"T_0a8b3_row1_col3\" class=\"data row1 col3\" >1.0470</td>\n",
       "      <td id=\"T_0a8b3_row1_col4\" class=\"data row1 col4\" >1.0218</td>\n",
       "      <td id=\"T_0a8b3_row1_col5\" class=\"data row1 col5\" >1.0109</td>\n",
       "      <td id=\"T_0a8b3_row1_col6\" class=\"data row1 col6\" >1.0049</td>\n",
       "      <td id=\"T_0a8b3_row1_col7\" class=\"data row1 col7\" >1.0024</td>\n",
       "      <td></td>\n",
       "    </tr>\n",
       "    <tr>\n",
       "      <th id=\"T_0a8b3_level0_row2\" class=\"row_heading level0 row2\" >1990</th>\n",
       "      <td id=\"T_0a8b3_row2_col0\" class=\"data row2 col0\" >1.8626</td>\n",
       "      <td id=\"T_0a8b3_row2_col1\" class=\"data row2 col1\" >1.2162</td>\n",
       "      <td id=\"T_0a8b3_row2_col2\" class=\"data row2 col2\" >1.0935</td>\n",
       "      <td id=\"T_0a8b3_row2_col3\" class=\"data row2 col3\" >1.0428</td>\n",
       "      <td id=\"T_0a8b3_row2_col4\" class=\"data row2 col4\" >1.0197</td>\n",
       "      <td id=\"T_0a8b3_row2_col5\" class=\"data row2 col5\" >1.0091</td>\n",
       "      <td id=\"T_0a8b3_row2_col6\" class=\"data row2 col6\" >1.0053</td>\n",
       "      <td></td>\n",
       "      <td></td>\n",
       "    </tr>\n",
       "    <tr>\n",
       "      <th id=\"T_0a8b3_level0_row3\" class=\"row_heading level0 row3\" >1991</th>\n",
       "      <td id=\"T_0a8b3_row3_col0\" class=\"data row3 col0\" >1.8606</td>\n",
       "      <td id=\"T_0a8b3_row3_col1\" class=\"data row3 col1\" >1.2111</td>\n",
       "      <td id=\"T_0a8b3_row3_col2\" class=\"data row3 col2\" >1.0923</td>\n",
       "      <td id=\"T_0a8b3_row3_col3\" class=\"data row3 col3\" >1.0413</td>\n",
       "      <td id=\"T_0a8b3_row3_col4\" class=\"data row3 col4\" >1.0184</td>\n",
       "      <td id=\"T_0a8b3_row3_col5\" class=\"data row3 col5\" >1.0096</td>\n",
       "      <td></td>\n",
       "      <td></td>\n",
       "      <td></td>\n",
       "    </tr>\n",
       "    <tr>\n",
       "      <th id=\"T_0a8b3_level0_row4\" class=\"row_heading level0 row4\" >1992</th>\n",
       "      <td id=\"T_0a8b3_row4_col0\" class=\"data row4 col0\" >1.8332</td>\n",
       "      <td id=\"T_0a8b3_row4_col1\" class=\"data row4 col1\" >1.2041</td>\n",
       "      <td id=\"T_0a8b3_row4_col2\" class=\"data row4 col2\" >1.0851</td>\n",
       "      <td id=\"T_0a8b3_row4_col3\" class=\"data row4 col3\" >1.0399</td>\n",
       "      <td id=\"T_0a8b3_row4_col4\" class=\"data row4 col4\" >1.0193</td>\n",
       "      <td></td>\n",
       "      <td></td>\n",
       "      <td></td>\n",
       "      <td></td>\n",
       "    </tr>\n",
       "    <tr>\n",
       "      <th id=\"T_0a8b3_level0_row5\" class=\"row_heading level0 row5\" >1993</th>\n",
       "      <td id=\"T_0a8b3_row5_col0\" class=\"data row5 col0\" >1.8178</td>\n",
       "      <td id=\"T_0a8b3_row5_col1\" class=\"data row5 col1\" >1.1934</td>\n",
       "      <td id=\"T_0a8b3_row5_col2\" class=\"data row5 col2\" >1.0819</td>\n",
       "      <td id=\"T_0a8b3_row5_col3\" class=\"data row5 col3\" >1.0397</td>\n",
       "      <td></td>\n",
       "      <td></td>\n",
       "      <td></td>\n",
       "      <td></td>\n",
       "      <td></td>\n",
       "    </tr>\n",
       "    <tr>\n",
       "      <th id=\"T_0a8b3_level0_row6\" class=\"row_heading level0 row6\" >1994</th>\n",
       "      <td id=\"T_0a8b3_row6_col0\" class=\"data row6 col0\" >1.7724</td>\n",
       "      <td id=\"T_0a8b3_row6_col1\" class=\"data row6 col1\" >1.1794</td>\n",
       "      <td id=\"T_0a8b3_row6_col2\" class=\"data row6 col2\" >1.0824</td>\n",
       "      <td></td>\n",
       "      <td></td>\n",
       "      <td></td>\n",
       "      <td></td>\n",
       "      <td></td>\n",
       "      <td></td>\n",
       "    </tr>\n",
       "    <tr>\n",
       "      <th id=\"T_0a8b3_level0_row7\" class=\"row_heading level0 row7\" >1995</th>\n",
       "      <td id=\"T_0a8b3_row7_col0\" class=\"data row7 col0\" >1.7247</td>\n",
       "      <td id=\"T_0a8b3_row7_col1\" class=\"data row7 col1\" >1.1797</td>\n",
       "      <td></td>\n",
       "      <td></td>\n",
       "      <td></td>\n",
       "      <td></td>\n",
       "      <td></td>\n",
       "      <td></td>\n",
       "      <td></td>\n",
       "    </tr>\n",
       "    <tr>\n",
       "      <th id=\"T_0a8b3_level0_row8\" class=\"row_heading level0 row8\" >1996</th>\n",
       "      <td id=\"T_0a8b3_row8_col0\" class=\"data row8 col0\" >1.6967</td>\n",
       "      <td></td>\n",
       "      <td></td>\n",
       "      <td></td>\n",
       "      <td></td>\n",
       "      <td></td>\n",
       "      <td></td>\n",
       "      <td></td>\n",
       "      <td></td>\n",
       "    </tr>\n",
       "  </tbody>\n",
       "</table>\n"
      ],
      "text/plain": [
       "<IPython.core.display.HTML object>"
      ]
     },
     "execution_count": 35,
     "metadata": {},
     "output_type": "execute_result"
    }
   ],
   "source": [
    "clrd[clrd['LOB']=='ppauto']['CumPaidLoss'].sum().link_ratio.heatmap()"
   ]
  },
  {
   "cell_type": "markdown",
   "metadata": {
    "tags": []
   },
   "source": [
    "Creating a new column in a Triangle looks identical to the same operation in pandas."
   ]
  },
  {
   "cell_type": "code",
   "execution_count": 6,
   "metadata": {
    "tags": []
   },
   "outputs": [
    {
     "data": {
      "text/html": [
       "<table border=\"1\" class=\"dataframe\">\n",
       "  <thead>\n",
       "    <tr style=\"text-align: right;\">\n",
       "      <th></th>\n",
       "      <th>Triangle Summary</th>\n",
       "    </tr>\n",
       "  </thead>\n",
       "  <tbody>\n",
       "    <tr>\n",
       "      <th>Valuation:</th>\n",
       "      <td>1997-12</td>\n",
       "    </tr>\n",
       "    <tr>\n",
       "      <th>Grain:</th>\n",
       "      <td>OYDY</td>\n",
       "    </tr>\n",
       "    <tr>\n",
       "      <th>Shape:</th>\n",
       "      <td>(775, 7, 10, 10)</td>\n",
       "    </tr>\n",
       "    <tr>\n",
       "      <th>Index:</th>\n",
       "      <td>[GRNAME, LOB]</td>\n",
       "    </tr>\n",
       "    <tr>\n",
       "      <th>Columns:</th>\n",
       "      <td>[IncurLoss, CumPaidLoss, BulkLoss, EarnedPremDIR, EarnedPremCeded, EarnedPremNet, CaseIncurLoss]</td>\n",
       "    </tr>\n",
       "  </tbody>\n",
       "</table>"
      ],
      "text/plain": [
       "                                             Triangle Summary\n",
       "Valuation:                                            1997-12\n",
       "Grain:                                                   OYDY\n",
       "Shape:                                       (775, 7, 10, 10)\n",
       "Index:                                          [GRNAME, LOB]\n",
       "Columns:    [IncurLoss, CumPaidLoss, BulkLoss, EarnedPremD..."
      ]
     },
     "execution_count": 6,
     "metadata": {},
     "output_type": "execute_result"
    }
   ],
   "source": [
    "clrd['CaseIncurLoss'] = clrd['IncurLoss'] - clrd['BulkLoss']\n",
    "clrd"
   ]
  },
  {
   "cell_type": "code",
   "execution_count": 394,
   "metadata": {
    "tags": []
   },
   "outputs": [
    {
     "data": {
      "text/plain": [
       "GRNAME                               LOB     \n",
       "Adriatic Ins Co                      othliab     0.908640\n",
       "                                     ppauto      0.168831\n",
       "Aegis Grp                            comauto     0.235294\n",
       "                                     othliab     0.000000\n",
       "                                     ppauto      0.737830\n",
       "                                                   ...   \n",
       "Yasuda Fire & Marine Ins Co Of Amer  ppauto      0.309158\n",
       "                                     prodliab    0.618130\n",
       "                                     wkcomp      0.352835\n",
       "Yel Co Ins                           comauto     0.000000\n",
       "Zurich Ins (Guam) Inc                wkcomp      0.000000\n",
       "Name: Reinsurance Percent, Length: 775, dtype: float64"
      ]
     },
     "execution_count": 394,
     "metadata": {},
     "output_type": "execute_result"
    }
   ],
   "source": []
  },
  {
   "cell_type": "code",
   "execution_count": 391,
   "metadata": {
    "tags": []
   },
   "outputs": [
    {
     "data": {
      "text/plain": [
       "915.0"
      ]
     },
     "execution_count": 391,
     "metadata": {},
     "output_type": "execute_result"
    }
   ],
   "source": [
    "clrd.iloc[0]['EarnedPremCeded'].latest_diagonal.sum('origin')"
   ]
  },
  {
   "cell_type": "code",
   "execution_count": 392,
   "metadata": {
    "tags": []
   },
   "outputs": [
    {
     "data": {
      "text/plain": [
       "1007.0"
      ]
     },
     "execution_count": 392,
     "metadata": {},
     "output_type": "execute_result"
    }
   ],
   "source": [
    "clrd['EarnedPremDIR']).latest_diagonal.sum('origin')"
   ]
  },
  {
   "cell_type": "markdown",
   "metadata": {},
   "source": [
    "`chainladder` has estimators that follow the sklearn convention too. We can define a model and fit it to some data. \n",
    "\n",
    "We can define a model by creating an instance of a `chainladder` estimator. Here we take a simple average of link-ratios for each development age of a Triangle."
   ]
  },
  {
   "cell_type": "code",
   "execution_count": 353,
   "metadata": {
    "tags": []
   },
   "outputs": [],
   "source": [
    "dev_model = cl.Development(average='simple')"
   ]
  },
  {
   "cell_type": "markdown",
   "metadata": {},
   "source": [
    "Unlike a traditional classification or regression problem, reserving problems don't typically have a response variable, `y`.  In `chainladder`, ignoring `y` is expected."
   ]
  },
  {
   "cell_type": "code",
   "execution_count": 354,
   "metadata": {
    "tags": []
   },
   "outputs": [
    {
     "name": "stderr",
     "output_type": "stream",
     "text": [
      "C:\\Users\\jbogaard\\Miniconda3\\envs\\clrs\\Lib\\site-packages\\chainladder\\utils\\weighted_regression.py:58: RuntimeWarning: Mean of empty slice\n",
      "  xp.nansum(w * x * y, axis) - xp.nansum(x * w, axis) * xp.nanmean(y, axis)\n",
      "C:\\Users\\jbogaard\\Miniconda3\\envs\\clrs\\Lib\\site-packages\\chainladder\\utils\\weighted_regression.py:60: RuntimeWarning: Mean of empty slice\n",
      "  xp.nansum(w * x * x, axis) - xp.nanmean(x, axis) * xp.nansum(w * x, axis)\n",
      "C:\\Users\\jbogaard\\Miniconda3\\envs\\clrs\\Lib\\site-packages\\chainladder\\utils\\weighted_regression.py:62: RuntimeWarning: Mean of empty slice\n",
      "  intercept = xp.nanmean(y, axis) - slope * xp.nanmean(x, axis)\n",
      "C:\\Users\\jbogaard\\Miniconda3\\envs\\clrs\\Lib\\site-packages\\chainladder\\utils\\weighted_regression.py:115: RuntimeWarning: overflow encountered in exp\n",
      "  fill_ = xp.exp(reg.x * slope + intercept) * (1 - w)\n",
      "C:\\Users\\jbogaard\\Miniconda3\\envs\\clrs\\Lib\\site-packages\\chainladder\\core\\dunders.py:307: RuntimeWarning: overflow encountered in square\n",
      "  obj.values = xp.nan_to_num(obj.values) ** other\n"
     ]
    },
    {
     "data": {
      "text/html": [
       "<style>#sk-container-id-25 {color: black;background-color: white;}#sk-container-id-25 pre{padding: 0;}#sk-container-id-25 div.sk-toggleable {background-color: white;}#sk-container-id-25 label.sk-toggleable__label {cursor: pointer;display: block;width: 100%;margin-bottom: 0;padding: 0.3em;box-sizing: border-box;text-align: center;}#sk-container-id-25 label.sk-toggleable__label-arrow:before {content: \"▸\";float: left;margin-right: 0.25em;color: #696969;}#sk-container-id-25 label.sk-toggleable__label-arrow:hover:before {color: black;}#sk-container-id-25 div.sk-estimator:hover label.sk-toggleable__label-arrow:before {color: black;}#sk-container-id-25 div.sk-toggleable__content {max-height: 0;max-width: 0;overflow: hidden;text-align: left;background-color: #f0f8ff;}#sk-container-id-25 div.sk-toggleable__content pre {margin: 0.2em;color: black;border-radius: 0.25em;background-color: #f0f8ff;}#sk-container-id-25 input.sk-toggleable__control:checked~div.sk-toggleable__content {max-height: 200px;max-width: 100%;overflow: auto;}#sk-container-id-25 input.sk-toggleable__control:checked~label.sk-toggleable__label-arrow:before {content: \"▾\";}#sk-container-id-25 div.sk-estimator input.sk-toggleable__control:checked~label.sk-toggleable__label {background-color: #d4ebff;}#sk-container-id-25 div.sk-label input.sk-toggleable__control:checked~label.sk-toggleable__label {background-color: #d4ebff;}#sk-container-id-25 input.sk-hidden--visually {border: 0;clip: rect(1px 1px 1px 1px);clip: rect(1px, 1px, 1px, 1px);height: 1px;margin: -1px;overflow: hidden;padding: 0;position: absolute;width: 1px;}#sk-container-id-25 div.sk-estimator {font-family: monospace;background-color: #f0f8ff;border: 1px dotted black;border-radius: 0.25em;box-sizing: border-box;margin-bottom: 0.5em;}#sk-container-id-25 div.sk-estimator:hover {background-color: #d4ebff;}#sk-container-id-25 div.sk-parallel-item::after {content: \"\";width: 100%;border-bottom: 1px solid gray;flex-grow: 1;}#sk-container-id-25 div.sk-label:hover label.sk-toggleable__label {background-color: #d4ebff;}#sk-container-id-25 div.sk-serial::before {content: \"\";position: absolute;border-left: 1px solid gray;box-sizing: border-box;top: 0;bottom: 0;left: 50%;z-index: 0;}#sk-container-id-25 div.sk-serial {display: flex;flex-direction: column;align-items: center;background-color: white;padding-right: 0.2em;padding-left: 0.2em;position: relative;}#sk-container-id-25 div.sk-item {position: relative;z-index: 1;}#sk-container-id-25 div.sk-parallel {display: flex;align-items: stretch;justify-content: center;background-color: white;position: relative;}#sk-container-id-25 div.sk-item::before, #sk-container-id-25 div.sk-parallel-item::before {content: \"\";position: absolute;border-left: 1px solid gray;box-sizing: border-box;top: 0;bottom: 0;left: 50%;z-index: -1;}#sk-container-id-25 div.sk-parallel-item {display: flex;flex-direction: column;z-index: 1;position: relative;background-color: white;}#sk-container-id-25 div.sk-parallel-item:first-child::after {align-self: flex-end;width: 50%;}#sk-container-id-25 div.sk-parallel-item:last-child::after {align-self: flex-start;width: 50%;}#sk-container-id-25 div.sk-parallel-item:only-child::after {width: 0;}#sk-container-id-25 div.sk-dashed-wrapped {border: 1px dashed gray;margin: 0 0.4em 0.5em 0.4em;box-sizing: border-box;padding-bottom: 0.4em;background-color: white;}#sk-container-id-25 div.sk-label label {font-family: monospace;font-weight: bold;display: inline-block;line-height: 1.2em;}#sk-container-id-25 div.sk-label-container {text-align: center;}#sk-container-id-25 div.sk-container {/* jupyter's `normalize.less` sets `[hidden] { display: none; }` but bootstrap.min.css set `[hidden] { display: none !important; }` so we also need the `!important` here to be able to override the default hidden behavior on the sphinx rendered scikit-learn.org. See: https://github.com/scikit-learn/scikit-learn/issues/21755 */display: inline-block !important;position: relative;}#sk-container-id-25 div.sk-text-repr-fallback {display: none;}</style><div id=\"sk-container-id-25\" class=\"sk-top-container\"><div class=\"sk-text-repr-fallback\"><pre>Development(average=&#x27;simple&#x27;)</pre><b>In a Jupyter environment, please rerun this cell to show the HTML representation or trust the notebook. <br />On GitHub, the HTML representation is unable to render, please try loading this page with nbviewer.org.</b></div><div class=\"sk-container\" hidden><div class=\"sk-item\"><div class=\"sk-estimator sk-toggleable\"><input class=\"sk-toggleable__control sk-hidden--visually\" id=\"sk-estimator-id-25\" type=\"checkbox\" checked><label for=\"sk-estimator-id-25\" class=\"sk-toggleable__label sk-toggleable__label-arrow\">Development</label><div class=\"sk-toggleable__content\"><pre>Development(average=&#x27;simple&#x27;)</pre></div></div></div></div></div>"
      ],
      "text/plain": [
       "Development(average='simple')"
      ]
     },
     "execution_count": 354,
     "metadata": {},
     "output_type": "execute_result"
    }
   ],
   "source": [
    "dev_model.fit(X=clrd['CumPaidLoss'])"
   ]
  },
  {
   "cell_type": "code",
   "execution_count": 355,
   "metadata": {
    "tags": []
   },
   "outputs": [
    {
     "data": {
      "text/html": [
       "<table border=\"1\" class=\"dataframe\">\n",
       "  <thead>\n",
       "    <tr style=\"text-align: right;\">\n",
       "      <th></th>\n",
       "      <th>Triangle Summary</th>\n",
       "    </tr>\n",
       "  </thead>\n",
       "  <tbody>\n",
       "    <tr>\n",
       "      <th>Valuation:</th>\n",
       "      <td>2261-12</td>\n",
       "    </tr>\n",
       "    <tr>\n",
       "      <th>Grain:</th>\n",
       "      <td>OYDY</td>\n",
       "    </tr>\n",
       "    <tr>\n",
       "      <th>Shape:</th>\n",
       "      <td>(775, 1, 1, 9)</td>\n",
       "    </tr>\n",
       "    <tr>\n",
       "      <th>Index:</th>\n",
       "      <td>[GRNAME, LOB]</td>\n",
       "    </tr>\n",
       "    <tr>\n",
       "      <th>Columns:</th>\n",
       "      <td>[CumPaidLoss]</td>\n",
       "    </tr>\n",
       "  </tbody>\n",
       "</table>"
      ],
      "text/plain": [
       "           Triangle Summary\n",
       "Valuation:          2261-12\n",
       "Grain:                 OYDY\n",
       "Shape:       (775, 1, 1, 9)\n",
       "Index:        [GRNAME, LOB]\n",
       "Columns:      [CumPaidLoss]"
      ]
     },
     "execution_count": 355,
     "metadata": {},
     "output_type": "execute_result"
    }
   ],
   "source": [
    "paid_link_ratios = dev_model.ldf_\n",
    "paid_link_ratios"
   ]
  },
  {
   "cell_type": "code",
   "execution_count": 356,
   "metadata": {
    "tags": []
   },
   "outputs": [
    {
     "data": {
      "text/html": [
       "<table border=\"1\" class=\"dataframe\">\n",
       "  <thead>\n",
       "    <tr style=\"text-align: right;\">\n",
       "      <th></th>\n",
       "      <th>12-24</th>\n",
       "      <th>24-36</th>\n",
       "      <th>36-48</th>\n",
       "      <th>48-60</th>\n",
       "      <th>60-72</th>\n",
       "      <th>72-84</th>\n",
       "      <th>84-96</th>\n",
       "      <th>96-108</th>\n",
       "      <th>108-120</th>\n",
       "    </tr>\n",
       "  </thead>\n",
       "  <tbody>\n",
       "    <tr>\n",
       "      <th>(All)</th>\n",
       "      <td>2.3863</td>\n",
       "      <td>1.3624</td>\n",
       "      <td>1.1702</td>\n",
       "      <td>1.0901</td>\n",
       "      <td>1.0579</td>\n",
       "      <td>1.0461</td>\n",
       "      <td>1.0320</td>\n",
       "      <td>1.0348</td>\n",
       "      <td>1.0109</td>\n",
       "    </tr>\n",
       "  </tbody>\n",
       "</table>"
      ],
      "text/plain": [
       "          12-24     24-36     36-48     48-60     60-72     72-84     84-96    96-108  108-120\n",
       "(All)  2.386334  1.362378  1.170172  1.090131  1.057882  1.046128  1.031958  1.034835  1.01092"
      ]
     },
     "execution_count": 356,
     "metadata": {},
     "output_type": "execute_result"
    }
   ],
   "source": [
    "paid_link_ratios.loc['Allstate Ins Co Grp'].loc['wkcomp']"
   ]
  },
  {
   "cell_type": "code",
   "execution_count": 357,
   "metadata": {
    "tags": []
   },
   "outputs": [
    {
     "name": "stderr",
     "output_type": "stream",
     "text": [
      "C:\\Users\\jbogaard\\Miniconda3\\envs\\clrs\\Lib\\site-packages\\chainladder\\utils\\weighted_regression.py:58: RuntimeWarning: Mean of empty slice\n",
      "  xp.nansum(w * x * y, axis) - xp.nansum(x * w, axis) * xp.nanmean(y, axis)\n",
      "C:\\Users\\jbogaard\\Miniconda3\\envs\\clrs\\Lib\\site-packages\\chainladder\\utils\\weighted_regression.py:60: RuntimeWarning: Mean of empty slice\n",
      "  xp.nansum(w * x * x, axis) - xp.nanmean(x, axis) * xp.nansum(w * x, axis)\n",
      "C:\\Users\\jbogaard\\Miniconda3\\envs\\clrs\\Lib\\site-packages\\chainladder\\utils\\weighted_regression.py:62: RuntimeWarning: Mean of empty slice\n",
      "  intercept = xp.nanmean(y, axis) - slope * xp.nanmean(x, axis)\n"
     ]
    }
   ],
   "source": [
    "inc_link_ratios = dev_model.fit(X=clrd['CaseIncurLoss']).ldf_"
   ]
  },
  {
   "cell_type": "code",
   "execution_count": 358,
   "metadata": {
    "tags": []
   },
   "outputs": [
    {
     "data": {
      "text/html": [
       "<table border=\"1\" class=\"dataframe\">\n",
       "  <thead>\n",
       "    <tr style=\"text-align: right;\">\n",
       "      <th></th>\n",
       "      <th>12-24</th>\n",
       "      <th>24-36</th>\n",
       "      <th>36-48</th>\n",
       "      <th>48-60</th>\n",
       "      <th>60-72</th>\n",
       "      <th>72-84</th>\n",
       "      <th>84-96</th>\n",
       "      <th>96-108</th>\n",
       "      <th>108-120</th>\n",
       "    </tr>\n",
       "  </thead>\n",
       "  <tbody>\n",
       "    <tr>\n",
       "      <th>(All)</th>\n",
       "      <td>1.3068</td>\n",
       "      <td>1.0507</td>\n",
       "      <td>1.0377</td>\n",
       "      <td>1.0181</td>\n",
       "      <td>1.0135</td>\n",
       "      <td>1.0128</td>\n",
       "      <td>1.0103</td>\n",
       "      <td>1.0105</td>\n",
       "      <td>0.9992</td>\n",
       "    </tr>\n",
       "  </tbody>\n",
       "</table>"
      ],
      "text/plain": [
       "          12-24     24-36     36-48     48-60     60-72     72-84     84-96    96-108   108-120\n",
       "(All)  1.306756  1.050706  1.037724  1.018092  1.013482  1.012845  1.010274  1.010473  0.999222"
      ]
     },
     "execution_count": 358,
     "metadata": {},
     "output_type": "execute_result"
    }
   ],
   "source": [
    "inc_link_ratios.loc['Allstate Ins Co Grp'].loc['wkcomp']"
   ]
  },
  {
   "cell_type": "code",
   "execution_count": 406,
   "metadata": {
    "tags": []
   },
   "outputs": [],
   "source": [
    "clrd['CaseReserves'] = clrd['CaseIncurLoss'] - clrd['CumPaidLoss']"
   ]
  },
  {
   "cell_type": "code",
   "execution_count": 408,
   "metadata": {
    "tags": []
   },
   "outputs": [
    {
     "data": {
      "text/html": [
       "<table border=\"1\" class=\"dataframe\">\n",
       "  <thead>\n",
       "    <tr style=\"text-align: right;\">\n",
       "      <th></th>\n",
       "      <th>12</th>\n",
       "      <th>24</th>\n",
       "      <th>36</th>\n",
       "      <th>48</th>\n",
       "      <th>60</th>\n",
       "      <th>72</th>\n",
       "      <th>84</th>\n",
       "      <th>96</th>\n",
       "      <th>108</th>\n",
       "      <th>120</th>\n",
       "    </tr>\n",
       "  </thead>\n",
       "  <tbody>\n",
       "    <tr>\n",
       "      <th>1988</th>\n",
       "      <td></td>\n",
       "      <td></td>\n",
       "      <td></td>\n",
       "      <td></td>\n",
       "      <td></td>\n",
       "      <td></td>\n",
       "      <td></td>\n",
       "      <td></td>\n",
       "      <td></td>\n",
       "      <td></td>\n",
       "    </tr>\n",
       "    <tr>\n",
       "      <th>1989</th>\n",
       "      <td></td>\n",
       "      <td></td>\n",
       "      <td></td>\n",
       "      <td></td>\n",
       "      <td></td>\n",
       "      <td></td>\n",
       "      <td></td>\n",
       "      <td></td>\n",
       "      <td></td>\n",
       "      <td></td>\n",
       "    </tr>\n",
       "    <tr>\n",
       "      <th>1990</th>\n",
       "      <td></td>\n",
       "      <td></td>\n",
       "      <td></td>\n",
       "      <td></td>\n",
       "      <td></td>\n",
       "      <td></td>\n",
       "      <td></td>\n",
       "      <td></td>\n",
       "      <td></td>\n",
       "      <td></td>\n",
       "    </tr>\n",
       "    <tr>\n",
       "      <th>1991</th>\n",
       "      <td></td>\n",
       "      <td></td>\n",
       "      <td></td>\n",
       "      <td></td>\n",
       "      <td></td>\n",
       "      <td></td>\n",
       "      <td></td>\n",
       "      <td></td>\n",
       "      <td></td>\n",
       "      <td></td>\n",
       "    </tr>\n",
       "    <tr>\n",
       "      <th>1992</th>\n",
       "      <td></td>\n",
       "      <td></td>\n",
       "      <td></td>\n",
       "      <td></td>\n",
       "      <td></td>\n",
       "      <td></td>\n",
       "      <td></td>\n",
       "      <td></td>\n",
       "      <td></td>\n",
       "      <td></td>\n",
       "    </tr>\n",
       "    <tr>\n",
       "      <th>1993</th>\n",
       "      <td></td>\n",
       "      <td></td>\n",
       "      <td></td>\n",
       "      <td></td>\n",
       "      <td></td>\n",
       "      <td></td>\n",
       "      <td></td>\n",
       "      <td></td>\n",
       "      <td></td>\n",
       "      <td></td>\n",
       "    </tr>\n",
       "    <tr>\n",
       "      <th>1994</th>\n",
       "      <td></td>\n",
       "      <td></td>\n",
       "      <td></td>\n",
       "      <td></td>\n",
       "      <td></td>\n",
       "      <td></td>\n",
       "      <td></td>\n",
       "      <td></td>\n",
       "      <td></td>\n",
       "      <td></td>\n",
       "    </tr>\n",
       "    <tr>\n",
       "      <th>1995</th>\n",
       "      <td></td>\n",
       "      <td>7.00</td>\n",
       "      <td></td>\n",
       "      <td></td>\n",
       "      <td></td>\n",
       "      <td></td>\n",
       "      <td></td>\n",
       "      <td></td>\n",
       "      <td></td>\n",
       "      <td></td>\n",
       "    </tr>\n",
       "    <tr>\n",
       "      <th>1996</th>\n",
       "      <td></td>\n",
       "      <td></td>\n",
       "      <td></td>\n",
       "      <td></td>\n",
       "      <td></td>\n",
       "      <td></td>\n",
       "      <td></td>\n",
       "      <td></td>\n",
       "      <td></td>\n",
       "      <td></td>\n",
       "    </tr>\n",
       "    <tr>\n",
       "      <th>1997</th>\n",
       "      <td>36.00</td>\n",
       "      <td></td>\n",
       "      <td></td>\n",
       "      <td></td>\n",
       "      <td></td>\n",
       "      <td></td>\n",
       "      <td></td>\n",
       "      <td></td>\n",
       "      <td></td>\n",
       "      <td></td>\n",
       "    </tr>\n",
       "  </tbody>\n",
       "</table>"
      ],
      "text/plain": [
       "       12   24   36   48   60   72   84   96   108  120\n",
       "1988   NaN  NaN  NaN  NaN  NaN  NaN  NaN  NaN  NaN  NaN\n",
       "1989   NaN  NaN  NaN  NaN  NaN  NaN  NaN  NaN  NaN  NaN\n",
       "1990   NaN  NaN  NaN  NaN  NaN  NaN  NaN  NaN  NaN  NaN\n",
       "1991   NaN  NaN  NaN  NaN  NaN  NaN  NaN  NaN  NaN  NaN\n",
       "1992   NaN  NaN  NaN  NaN  NaN  NaN  NaN  NaN  NaN  NaN\n",
       "1993   NaN  NaN  NaN  NaN  NaN  NaN  NaN  NaN  NaN  NaN\n",
       "1994   NaN  NaN  NaN  NaN  NaN  NaN  NaN  NaN  NaN  NaN\n",
       "1995   NaN  7.0  NaN  NaN  NaN  NaN  NaN  NaN  NaN  NaN\n",
       "1996   NaN  NaN  NaN  NaN  NaN  NaN  NaN  NaN  NaN  NaN\n",
       "1997  36.0  NaN  NaN  NaN  NaN  NaN  NaN  NaN  NaN  NaN"
      ]
     },
     "execution_count": 408,
     "metadata": {},
     "output_type": "execute_result"
    }
   ],
   "source": [
    "clrd['CaseReserves'].iloc[0]"
   ]
  },
  {
   "cell_type": "code",
   "execution_count": 418,
   "metadata": {
    "tags": []
   },
   "outputs": [
    {
     "name": "stderr",
     "output_type": "stream",
     "text": [
      "C:\\Users\\jbogaard\\Miniconda3\\envs\\clrs\\Lib\\site-packages\\chainladder\\core\\pandas.py:364: RuntimeWarning: Mean of empty slice\n",
      "  obj.values = func(obj.values, axis=axis, *args, **kwargs)\n"
     ]
    }
   ],
   "source": [
    "increm_paid_per_case = (clrd['CumPaidLoss'].cum_to_incr().iloc[..., 1:] / clrd['CaseReserves'].iloc[..., :-1].values).mean('origin').to_frame()"
   ]
  },
  {
   "cell_type": "code",
   "execution_count": 419,
   "metadata": {
    "tags": []
   },
   "outputs": [],
   "source": [
    "increm_paid_per_case.columns = [str(c) + ' Incremental Paid per Case' for c in increm_paid_per_case.columns]"
   ]
  },
  {
   "cell_type": "markdown",
   "metadata": {},
   "source": [
    "Is it possible to predict which line of business a triangle comes from just based on the triangle data?\n",
    "\n",
    "Let's do some feature engineering."
   ]
  },
  {
   "cell_type": "code",
   "execution_count": 359,
   "metadata": {
    "tags": []
   },
   "outputs": [
    {
     "name": "stderr",
     "output_type": "stream",
     "text": [
      "C:\\Users\\jbogaard\\Miniconda3\\envs\\clrs\\Lib\\site-packages\\chainladder\\core\\pandas.py:364: RuntimeWarning: Mean of empty slice\n",
      "  obj.values = func(obj.values, axis=axis, *args, **kwargs)\n",
      "C:\\Users\\jbogaard\\Miniconda3\\envs\\clrs\\Lib\\site-packages\\chainladder\\core\\pandas.py:364: RuntimeWarning: Mean of empty slice\n",
      "  obj.values = func(obj.values, axis=axis, *args, **kwargs)\n",
      "C:\\Users\\jbogaard\\Miniconda3\\envs\\clrs\\Lib\\site-packages\\chainladder\\core\\pandas.py:364: RuntimeWarning: Mean of empty slice\n",
      "  obj.values = func(obj.values, axis=axis, *args, **kwargs)\n"
     ]
    }
   ],
   "source": [
    "paid_link_ratios = paid_link_ratios.to_frame()\n",
    "inc_link_ratios = inc_link_ratios.to_frame()\n",
    "paid_pct =(clrd['CumPaidLoss'].cum_to_incr() / clrd['CumPaidLoss']).mean(axis='origin').to_frame()\n",
    "inc_pct = (clrd['CaseIncurLoss'].cum_to_incr() / clrd['CaseIncurLoss']).mean(axis='origin').to_frame()\n",
    "paid_to_inc = (clrd['CumPaidLoss'] / clrd['CaseIncurLoss']).mean(axis='origin').to_frame()"
   ]
  },
  {
   "cell_type": "code",
   "execution_count": 370,
   "metadata": {
    "id": "bSwdM70AoBMt",
    "tags": []
   },
   "outputs": [],
   "source": [
    "paid_link_ratios.columns = [c + ' Paid Link Ratio' for c in paid_link_ratios.columns]\n",
    "inc_link_ratios.columns = [c + ' Incurred Link Ratio' for c in inc_link_ratios.columns]\n",
    "paid_pct.columns = [str(c) + ' Paid Percent' for c in paid_pct.columns]\n",
    "inc_pct.columns = [str(c) + ' Incurred Percent' for c in inc_pct.columns]\n",
    "paid_to_inc.columns = [str(c) + ' Paid to Incurred' for c in paid_to_inc.columns]"
   ]
  },
  {
   "cell_type": "code",
   "execution_count": 420,
   "metadata": {
    "colab": {
     "base_uri": "https://localhost:8080/",
     "height": 400
    },
    "id": "N2CGs317mpnf",
    "outputId": "ac153173-e644-4fad-dd8e-5f39a224d5f8",
    "tags": []
   },
   "outputs": [
    {
     "data": {
      "text/html": [
       "<div>\n",
       "<style scoped>\n",
       "    .dataframe tbody tr th:only-of-type {\n",
       "        vertical-align: middle;\n",
       "    }\n",
       "\n",
       "    .dataframe tbody tr th {\n",
       "        vertical-align: top;\n",
       "    }\n",
       "\n",
       "    .dataframe thead th {\n",
       "        text-align: right;\n",
       "    }\n",
       "</style>\n",
       "<table border=\"1\" class=\"dataframe\">\n",
       "  <thead>\n",
       "    <tr style=\"text-align: right;\">\n",
       "      <th></th>\n",
       "      <th>12-24 Paid Link Ratio</th>\n",
       "      <th>24-36 Paid Link Ratio</th>\n",
       "      <th>36-48 Paid Link Ratio</th>\n",
       "      <th>48-60 Paid Link Ratio</th>\n",
       "      <th>60-72 Paid Link Ratio</th>\n",
       "      <th>72-84 Paid Link Ratio</th>\n",
       "      <th>84-96 Paid Link Ratio</th>\n",
       "      <th>96-108 Paid Link Ratio</th>\n",
       "      <th>108-120 Paid Link Ratio</th>\n",
       "      <th>12-24 Incurred Link Ratio</th>\n",
       "      <th>...</th>\n",
       "      <th>Reinsurance Percent</th>\n",
       "      <th>24 Incremental Paid per Case</th>\n",
       "      <th>36 Incremental Paid per Case</th>\n",
       "      <th>48 Incremental Paid per Case</th>\n",
       "      <th>60 Incremental Paid per Case</th>\n",
       "      <th>72 Incremental Paid per Case</th>\n",
       "      <th>84 Incremental Paid per Case</th>\n",
       "      <th>96 Incremental Paid per Case</th>\n",
       "      <th>108 Incremental Paid per Case</th>\n",
       "      <th>120 Incremental Paid per Case</th>\n",
       "    </tr>\n",
       "    <tr>\n",
       "      <th>LOB</th>\n",
       "      <th></th>\n",
       "      <th></th>\n",
       "      <th></th>\n",
       "      <th></th>\n",
       "      <th></th>\n",
       "      <th></th>\n",
       "      <th></th>\n",
       "      <th></th>\n",
       "      <th></th>\n",
       "      <th></th>\n",
       "      <th></th>\n",
       "      <th></th>\n",
       "      <th></th>\n",
       "      <th></th>\n",
       "      <th></th>\n",
       "      <th></th>\n",
       "      <th></th>\n",
       "      <th></th>\n",
       "      <th></th>\n",
       "      <th></th>\n",
       "      <th></th>\n",
       "    </tr>\n",
       "  </thead>\n",
       "  <tbody>\n",
       "    <tr>\n",
       "      <th>othliab</th>\n",
       "      <td>0.000000</td>\n",
       "      <td>0.000000</td>\n",
       "      <td>0.000000</td>\n",
       "      <td>0.000000</td>\n",
       "      <td>0.000000</td>\n",
       "      <td>0.000000</td>\n",
       "      <td>0.000000</td>\n",
       "      <td>0.0</td>\n",
       "      <td>0.0</td>\n",
       "      <td>0.000000</td>\n",
       "      <td>...</td>\n",
       "      <td>0.908640</td>\n",
       "      <td>0.000000</td>\n",
       "      <td>0.428571</td>\n",
       "      <td>0.000000</td>\n",
       "      <td>0.000000</td>\n",
       "      <td>0.000000</td>\n",
       "      <td>0.000000</td>\n",
       "      <td>0.000000</td>\n",
       "      <td>0.0</td>\n",
       "      <td>0.0</td>\n",
       "    </tr>\n",
       "    <tr>\n",
       "      <th>ppauto</th>\n",
       "      <td>1.357143</td>\n",
       "      <td>1.000000</td>\n",
       "      <td>1.382353</td>\n",
       "      <td>1.000000</td>\n",
       "      <td>1.000000</td>\n",
       "      <td>1.000000</td>\n",
       "      <td>1.000000</td>\n",
       "      <td>1.0</td>\n",
       "      <td>1.0</td>\n",
       "      <td>0.640034</td>\n",
       "      <td>...</td>\n",
       "      <td>0.168831</td>\n",
       "      <td>0.112821</td>\n",
       "      <td>0.000000</td>\n",
       "      <td>0.650000</td>\n",
       "      <td>0.000000</td>\n",
       "      <td>0.000000</td>\n",
       "      <td>0.000000</td>\n",
       "      <td>0.000000</td>\n",
       "      <td>0.0</td>\n",
       "      <td>0.0</td>\n",
       "    </tr>\n",
       "    <tr>\n",
       "      <th>comauto</th>\n",
       "      <td>2.625000</td>\n",
       "      <td>1.000000</td>\n",
       "      <td>1.000000</td>\n",
       "      <td>1.000000</td>\n",
       "      <td>1.000000</td>\n",
       "      <td>1.000000</td>\n",
       "      <td>0.000000</td>\n",
       "      <td>0.0</td>\n",
       "      <td>0.0</td>\n",
       "      <td>0.833333</td>\n",
       "      <td>...</td>\n",
       "      <td>0.235294</td>\n",
       "      <td>0.325000</td>\n",
       "      <td>0.000000</td>\n",
       "      <td>0.000000</td>\n",
       "      <td>0.000000</td>\n",
       "      <td>0.000000</td>\n",
       "      <td>0.000000</td>\n",
       "      <td>0.000000</td>\n",
       "      <td>0.0</td>\n",
       "      <td>0.0</td>\n",
       "    </tr>\n",
       "    <tr>\n",
       "      <th>othliab</th>\n",
       "      <td>0.000000</td>\n",
       "      <td>0.000000</td>\n",
       "      <td>0.000000</td>\n",
       "      <td>0.000000</td>\n",
       "      <td>0.000000</td>\n",
       "      <td>0.000000</td>\n",
       "      <td>0.000000</td>\n",
       "      <td>0.0</td>\n",
       "      <td>0.0</td>\n",
       "      <td>0.000000</td>\n",
       "      <td>...</td>\n",
       "      <td>0.000000</td>\n",
       "      <td>0.000000</td>\n",
       "      <td>0.000000</td>\n",
       "      <td>0.000000</td>\n",
       "      <td>0.000000</td>\n",
       "      <td>0.000000</td>\n",
       "      <td>0.000000</td>\n",
       "      <td>0.000000</td>\n",
       "      <td>0.0</td>\n",
       "      <td>0.0</td>\n",
       "    </tr>\n",
       "    <tr>\n",
       "      <th>ppauto</th>\n",
       "      <td>3.417789</td>\n",
       "      <td>1.222703</td>\n",
       "      <td>1.070270</td>\n",
       "      <td>1.023283</td>\n",
       "      <td>1.021659</td>\n",
       "      <td>1.006826</td>\n",
       "      <td>1.015241</td>\n",
       "      <td>1.0</td>\n",
       "      <td>1.0</td>\n",
       "      <td>1.060302</td>\n",
       "      <td>...</td>\n",
       "      <td>0.737830</td>\n",
       "      <td>0.708382</td>\n",
       "      <td>0.665836</td>\n",
       "      <td>0.400078</td>\n",
       "      <td>0.400441</td>\n",
       "      <td>0.755219</td>\n",
       "      <td>0.421053</td>\n",
       "      <td>0.298246</td>\n",
       "      <td>0.0</td>\n",
       "      <td>0.0</td>\n",
       "    </tr>\n",
       "  </tbody>\n",
       "</table>\n",
       "<p>5 rows × 58 columns</p>\n",
       "</div>"
      ],
      "text/plain": [
       "         12-24 Paid Link Ratio  24-36 Paid Link Ratio  36-48 Paid Link Ratio  \\\n",
       "LOB                                                                            \n",
       "othliab               0.000000               0.000000               0.000000   \n",
       "ppauto                1.357143               1.000000               1.382353   \n",
       "comauto               2.625000               1.000000               1.000000   \n",
       "othliab               0.000000               0.000000               0.000000   \n",
       "ppauto                3.417789               1.222703               1.070270   \n",
       "\n",
       "         48-60 Paid Link Ratio  60-72 Paid Link Ratio  72-84 Paid Link Ratio  \\\n",
       "LOB                                                                            \n",
       "othliab               0.000000               0.000000               0.000000   \n",
       "ppauto                1.000000               1.000000               1.000000   \n",
       "comauto               1.000000               1.000000               1.000000   \n",
       "othliab               0.000000               0.000000               0.000000   \n",
       "ppauto                1.023283               1.021659               1.006826   \n",
       "\n",
       "         84-96 Paid Link Ratio  96-108 Paid Link Ratio  \\\n",
       "LOB                                                      \n",
       "othliab               0.000000                     0.0   \n",
       "ppauto                1.000000                     1.0   \n",
       "comauto               0.000000                     0.0   \n",
       "othliab               0.000000                     0.0   \n",
       "ppauto                1.015241                     1.0   \n",
       "\n",
       "         108-120 Paid Link Ratio  12-24 Incurred Link Ratio  ...  \\\n",
       "LOB                                                          ...   \n",
       "othliab                      0.0                   0.000000  ...   \n",
       "ppauto                       1.0                   0.640034  ...   \n",
       "comauto                      0.0                   0.833333  ...   \n",
       "othliab                      0.0                   0.000000  ...   \n",
       "ppauto                       1.0                   1.060302  ...   \n",
       "\n",
       "         Reinsurance Percent  24 Incremental Paid per Case  \\\n",
       "LOB                                                          \n",
       "othliab             0.908640                      0.000000   \n",
       "ppauto              0.168831                      0.112821   \n",
       "comauto             0.235294                      0.325000   \n",
       "othliab             0.000000                      0.000000   \n",
       "ppauto              0.737830                      0.708382   \n",
       "\n",
       "         36 Incremental Paid per Case  48 Incremental Paid per Case  \\\n",
       "LOB                                                                   \n",
       "othliab                      0.428571                      0.000000   \n",
       "ppauto                       0.000000                      0.650000   \n",
       "comauto                      0.000000                      0.000000   \n",
       "othliab                      0.000000                      0.000000   \n",
       "ppauto                       0.665836                      0.400078   \n",
       "\n",
       "         60 Incremental Paid per Case  72 Incremental Paid per Case  \\\n",
       "LOB                                                                   \n",
       "othliab                      0.000000                      0.000000   \n",
       "ppauto                       0.000000                      0.000000   \n",
       "comauto                      0.000000                      0.000000   \n",
       "othliab                      0.000000                      0.000000   \n",
       "ppauto                       0.400441                      0.755219   \n",
       "\n",
       "         84 Incremental Paid per Case  96 Incremental Paid per Case  \\\n",
       "LOB                                                                   \n",
       "othliab                      0.000000                      0.000000   \n",
       "ppauto                       0.000000                      0.000000   \n",
       "comauto                      0.000000                      0.000000   \n",
       "othliab                      0.000000                      0.000000   \n",
       "ppauto                       0.421053                      0.298246   \n",
       "\n",
       "         108 Incremental Paid per Case  120 Incremental Paid per Case  \n",
       "LOB                                                                    \n",
       "othliab                            0.0                            0.0  \n",
       "ppauto                             0.0                            0.0  \n",
       "comauto                            0.0                            0.0  \n",
       "othliab                            0.0                            0.0  \n",
       "ppauto                             0.0                            0.0  \n",
       "\n",
       "[5 rows x 58 columns]"
      ]
     },
     "execution_count": 420,
     "metadata": {},
     "output_type": "execute_result"
    }
   ],
   "source": [
    "data = pd.concat((paid_link_ratios, inc_link_ratios, paid_pct, inc_pct, paid_to_inc,\n",
    "                 (clrd['EarnedPremCeded'].latest_diagonal.sum('origin') / clrd['EarnedPremDIR'].latest_diagonal.sum('origin')).to_frame().rename('Reinsurance Percent'),\n",
    "                  increm_paid_per_case\n",
    "                 ), axis=1).reset_index().drop('GRNAME', axis=1).set_index('LOB')\n",
    "data.head()"
   ]
  },
  {
   "cell_type": "markdown",
   "metadata": {
    "id": "AbFIsiBiX0PU"
   },
   "source": [
    "# A classification problem"
   ]
  },
  {
   "cell_type": "code",
   "execution_count": 421,
   "metadata": {
    "id": "N8zW7_BDN7pK",
    "tags": []
   },
   "outputs": [
    {
     "data": {
      "text/plain": [
       "{0: 'comauto',\n",
       " 1: 'medmal',\n",
       " 2: 'othliab',\n",
       " 3: 'ppauto',\n",
       " 4: 'prodliab',\n",
       " 5: 'wkcomp'}"
      ]
     },
     "execution_count": 421,
     "metadata": {},
     "output_type": "execute_result"
    }
   ],
   "source": [
    "from sklearn.preprocessing import LabelEncoder\n",
    "le = LabelEncoder().fit(data.index)\n",
    "\n",
    "pd.Series(le.classes_).to_dict()"
   ]
  },
  {
   "cell_type": "code",
   "execution_count": 422,
   "metadata": {
    "tags": []
   },
   "outputs": [],
   "source": [
    "y = le.transform(data.index)"
   ]
  },
  {
   "cell_type": "code",
   "execution_count": 423,
   "metadata": {
    "id": "sHn3CoBLORHC",
    "tags": []
   },
   "outputs": [],
   "source": [
    "from sklearn.model_selection import train_test_split\n",
    "\n",
    "X_train, X_test, y_train, y_test = train_test_split(\n",
    "  data, y,\n",
    "  test_size = 0.25,\n",
    "  random_state = 1234)"
   ]
  },
  {
   "cell_type": "code",
   "execution_count": 424,
   "metadata": {
    "colab": {
     "base_uri": "https://localhost:8080/",
     "height": 237
    },
    "id": "7GnqcS0IPfQJ",
    "outputId": "4266f7e8-acae-40f6-a1ec-c509d7594d16",
    "tags": []
   },
   "outputs": [],
   "source": [
    "import lightgbm\n",
    "from sklearn.metrics import confusion_matrix\n",
    "model = lightgbm.LGBMClassifier().fit(X=X_train.values, y=y_train)\n"
   ]
  },
  {
   "cell_type": "code",
   "execution_count": 425,
   "metadata": {
    "tags": []
   },
   "outputs": [
    {
     "data": {
      "text/html": [
       "<style type=\"text/css\">\n",
       "#T_6b034_row0_col0, #T_6b034_row1_col1, #T_6b034_row2_col2, #T_6b034_row3_col3, #T_6b034_row4_col4, #T_6b034_row5_col5 {\n",
       "  background-color: #08306b;\n",
       "  color: #f1f1f1;\n",
       "}\n",
       "#T_6b034_row0_col1, #T_6b034_row0_col2, #T_6b034_row0_col3, #T_6b034_row0_col4, #T_6b034_row0_col5, #T_6b034_row1_col0, #T_6b034_row1_col2, #T_6b034_row1_col3, #T_6b034_row1_col4, #T_6b034_row1_col5, #T_6b034_row2_col0, #T_6b034_row2_col1, #T_6b034_row2_col3, #T_6b034_row2_col4, #T_6b034_row2_col5, #T_6b034_row3_col0, #T_6b034_row3_col1, #T_6b034_row3_col4, #T_6b034_row3_col5, #T_6b034_row4_col0, #T_6b034_row4_col1, #T_6b034_row4_col3, #T_6b034_row4_col5, #T_6b034_row5_col0, #T_6b034_row5_col1, #T_6b034_row5_col3, #T_6b034_row5_col4 {\n",
       "  background-color: #f7fbff;\n",
       "  color: #000000;\n",
       "}\n",
       "#T_6b034_row3_col2 {\n",
       "  background-color: #f6faff;\n",
       "  color: #000000;\n",
       "}\n",
       "#T_6b034_row4_col2 {\n",
       "  background-color: #f5f9fe;\n",
       "  color: #000000;\n",
       "}\n",
       "#T_6b034_row5_col2 {\n",
       "  background-color: #f5fafe;\n",
       "  color: #000000;\n",
       "}\n",
       "</style>\n",
       "<table id=\"T_6b034\">\n",
       "  <thead>\n",
       "    <tr>\n",
       "      <th class=\"blank level0\" >&nbsp;</th>\n",
       "      <th id=\"T_6b034_level0_col0\" class=\"col_heading level0 col0\" >comauto</th>\n",
       "      <th id=\"T_6b034_level0_col1\" class=\"col_heading level0 col1\" >medmal</th>\n",
       "      <th id=\"T_6b034_level0_col2\" class=\"col_heading level0 col2\" >othliab</th>\n",
       "      <th id=\"T_6b034_level0_col3\" class=\"col_heading level0 col3\" >ppauto</th>\n",
       "      <th id=\"T_6b034_level0_col4\" class=\"col_heading level0 col4\" >prodliab</th>\n",
       "      <th id=\"T_6b034_level0_col5\" class=\"col_heading level0 col5\" >wkcomp</th>\n",
       "    </tr>\n",
       "  </thead>\n",
       "  <tbody>\n",
       "    <tr>\n",
       "      <th id=\"T_6b034_level0_row0\" class=\"row_heading level0 row0\" >comauto</th>\n",
       "      <td id=\"T_6b034_row0_col0\" class=\"data row0 col0\" >1.000000</td>\n",
       "      <td id=\"T_6b034_row0_col1\" class=\"data row0 col1\" >0.000000</td>\n",
       "      <td id=\"T_6b034_row0_col2\" class=\"data row0 col2\" >0.000000</td>\n",
       "      <td id=\"T_6b034_row0_col3\" class=\"data row0 col3\" >0.000000</td>\n",
       "      <td id=\"T_6b034_row0_col4\" class=\"data row0 col4\" >0.000000</td>\n",
       "      <td id=\"T_6b034_row0_col5\" class=\"data row0 col5\" >0.000000</td>\n",
       "    </tr>\n",
       "    <tr>\n",
       "      <th id=\"T_6b034_level0_row1\" class=\"row_heading level0 row1\" >medmal</th>\n",
       "      <td id=\"T_6b034_row1_col0\" class=\"data row1 col0\" >0.000000</td>\n",
       "      <td id=\"T_6b034_row1_col1\" class=\"data row1 col1\" >1.000000</td>\n",
       "      <td id=\"T_6b034_row1_col2\" class=\"data row1 col2\" >0.000000</td>\n",
       "      <td id=\"T_6b034_row1_col3\" class=\"data row1 col3\" >0.000000</td>\n",
       "      <td id=\"T_6b034_row1_col4\" class=\"data row1 col4\" >0.000000</td>\n",
       "      <td id=\"T_6b034_row1_col5\" class=\"data row1 col5\" >0.000000</td>\n",
       "    </tr>\n",
       "    <tr>\n",
       "      <th id=\"T_6b034_level0_row2\" class=\"row_heading level0 row2\" >othliab</th>\n",
       "      <td id=\"T_6b034_row2_col0\" class=\"data row2 col0\" >0.000000</td>\n",
       "      <td id=\"T_6b034_row2_col1\" class=\"data row2 col1\" >0.000000</td>\n",
       "      <td id=\"T_6b034_row2_col2\" class=\"data row2 col2\" >1.000000</td>\n",
       "      <td id=\"T_6b034_row2_col3\" class=\"data row2 col3\" >0.000000</td>\n",
       "      <td id=\"T_6b034_row2_col4\" class=\"data row2 col4\" >0.000000</td>\n",
       "      <td id=\"T_6b034_row2_col5\" class=\"data row2 col5\" >0.000000</td>\n",
       "    </tr>\n",
       "    <tr>\n",
       "      <th id=\"T_6b034_level0_row3\" class=\"row_heading level0 row3\" >ppauto</th>\n",
       "      <td id=\"T_6b034_row3_col0\" class=\"data row3 col0\" >0.000000</td>\n",
       "      <td id=\"T_6b034_row3_col1\" class=\"data row3 col1\" >0.000000</td>\n",
       "      <td id=\"T_6b034_row3_col2\" class=\"data row3 col2\" >0.005650</td>\n",
       "      <td id=\"T_6b034_row3_col3\" class=\"data row3 col3\" >0.991150</td>\n",
       "      <td id=\"T_6b034_row3_col4\" class=\"data row3 col4\" >0.000000</td>\n",
       "      <td id=\"T_6b034_row3_col5\" class=\"data row3 col5\" >0.000000</td>\n",
       "    </tr>\n",
       "    <tr>\n",
       "      <th id=\"T_6b034_level0_row4\" class=\"row_heading level0 row4\" >prodliab</th>\n",
       "      <td id=\"T_6b034_row4_col0\" class=\"data row4 col0\" >0.000000</td>\n",
       "      <td id=\"T_6b034_row4_col1\" class=\"data row4 col1\" >0.000000</td>\n",
       "      <td id=\"T_6b034_row4_col2\" class=\"data row4 col2\" >0.011299</td>\n",
       "      <td id=\"T_6b034_row4_col3\" class=\"data row4 col3\" >0.000000</td>\n",
       "      <td id=\"T_6b034_row4_col4\" class=\"data row4 col4\" >0.962264</td>\n",
       "      <td id=\"T_6b034_row4_col5\" class=\"data row4 col5\" >0.000000</td>\n",
       "    </tr>\n",
       "    <tr>\n",
       "      <th id=\"T_6b034_level0_row5\" class=\"row_heading level0 row5\" >wkcomp</th>\n",
       "      <td id=\"T_6b034_row5_col0\" class=\"data row5 col0\" >0.000000</td>\n",
       "      <td id=\"T_6b034_row5_col1\" class=\"data row5 col1\" >0.000000</td>\n",
       "      <td id=\"T_6b034_row5_col2\" class=\"data row5 col2\" >0.011299</td>\n",
       "      <td id=\"T_6b034_row5_col3\" class=\"data row5 col3\" >0.000000</td>\n",
       "      <td id=\"T_6b034_row5_col4\" class=\"data row5 col4\" >0.000000</td>\n",
       "      <td id=\"T_6b034_row5_col5\" class=\"data row5 col5\" >0.980000</td>\n",
       "    </tr>\n",
       "  </tbody>\n",
       "</table>\n"
      ],
      "text/plain": [
       "<pandas.io.formats.style.Styler at 0x27d24ec1690>"
      ]
     },
     "execution_count": 425,
     "metadata": {},
     "output_type": "execute_result"
    }
   ],
   "source": [
    "cm = pd.DataFrame(\n",
    "    confusion_matrix(y_train, model.predict(X_train)),\n",
    "    index=le.classes_,\n",
    "    columns=le.classes_)\n",
    "\n",
    "(cm / cm.sum(1)).style.background_gradient(cmap='Blues', axis=1)"
   ]
  },
  {
   "cell_type": "code",
   "execution_count": 426,
   "metadata": {
    "tags": []
   },
   "outputs": [
    {
     "data": {
      "text/plain": [
       "'Model accuracy: 0.9913941480206541'"
      ]
     },
     "execution_count": 426,
     "metadata": {},
     "output_type": "execute_result"
    }
   ],
   "source": [
    "f'Model accuracy: {model.score(X_train, y_train)}'"
   ]
  },
  {
   "cell_type": "code",
   "execution_count": 427,
   "metadata": {
    "tags": []
   },
   "outputs": [
    {
     "data": {
      "text/plain": [
       "'Model accuracy: 0.9913941480206541'"
      ]
     },
     "execution_count": 427,
     "metadata": {},
     "output_type": "execute_result"
    }
   ],
   "source": [
    "f'Model accuracy: {np.diag(cm).sum() / cm.sum().sum()}' "
   ]
  },
  {
   "cell_type": "markdown",
   "metadata": {},
   "source": [
    "This is amazing accuracy! But we're skeptical that it is representative of how good the model will perform on a holdout dataset.  We can use cross-validation to \n",
    "emulate the results expected on a true holdout set.\n",
    "![](https://upload.wikimedia.org/wikipedia/commons/4/4b/KfoldCV.gif)\n",
    "\n",
    "In `sklearn`, this is achieved by passing the estimator and the data into the `cross_val_score` function:"
   ]
  },
  {
   "cell_type": "code",
   "execution_count": 428,
   "metadata": {
    "tags": []
   },
   "outputs": [
    {
     "data": {
      "text/plain": [
       "'Expected model accuracy on a holdout set: 0.44404656646035956'"
      ]
     },
     "execution_count": 428,
     "metadata": {},
     "output_type": "execute_result"
    }
   ],
   "source": [
    "from sklearn.model_selection import cross_val_score\n",
    "\n",
    "f'Expected model accuracy on a holdout set: {cross_val_score(model, X_train, y_train).mean()}'  "
   ]
  },
  {
   "cell_type": "code",
   "execution_count": 429,
   "metadata": {
    "tags": []
   },
   "outputs": [
    {
     "name": "stdout",
     "output_type": "stream",
     "text": [
      "Model accuracy: 0.4845360824742268\n"
     ]
    },
    {
     "data": {
      "text/html": [
       "<style type=\"text/css\">\n",
       "#T_dee6d_row0_col0, #T_dee6d_row1_col1, #T_dee6d_row2_col2, #T_dee6d_row3_col3, #T_dee6d_row4_col4, #T_dee6d_row5_col5 {\n",
       "  background-color: #08306b;\n",
       "  color: #f1f1f1;\n",
       "}\n",
       "#T_dee6d_row0_col1, #T_dee6d_row1_col3, #T_dee6d_row2_col5, #T_dee6d_row3_col1, #T_dee6d_row4_col1, #T_dee6d_row4_col3, #T_dee6d_row4_col5, #T_dee6d_row5_col1 {\n",
       "  background-color: #f7fbff;\n",
       "  color: #000000;\n",
       "}\n",
       "#T_dee6d_row0_col2 {\n",
       "  background-color: #81badb;\n",
       "  color: #000000;\n",
       "}\n",
       "#T_dee6d_row0_col3 {\n",
       "  background-color: #4292c6;\n",
       "  color: #f1f1f1;\n",
       "}\n",
       "#T_dee6d_row0_col4 {\n",
       "  background-color: #3181bd;\n",
       "  color: #f1f1f1;\n",
       "}\n",
       "#T_dee6d_row0_col5 {\n",
       "  background-color: #3d8dc4;\n",
       "  color: #f1f1f1;\n",
       "}\n",
       "#T_dee6d_row1_col0 {\n",
       "  background-color: #dae8f6;\n",
       "  color: #000000;\n",
       "}\n",
       "#T_dee6d_row1_col2 {\n",
       "  background-color: #2b7bba;\n",
       "  color: #f1f1f1;\n",
       "}\n",
       "#T_dee6d_row1_col4 {\n",
       "  background-color: #a5cde3;\n",
       "  color: #000000;\n",
       "}\n",
       "#T_dee6d_row1_col5 {\n",
       "  background-color: #d2e3f3;\n",
       "  color: #000000;\n",
       "}\n",
       "#T_dee6d_row2_col0 {\n",
       "  background-color: #c7dcef;\n",
       "  color: #000000;\n",
       "}\n",
       "#T_dee6d_row2_col1 {\n",
       "  background-color: #dbe9f6;\n",
       "  color: #000000;\n",
       "}\n",
       "#T_dee6d_row2_col3 {\n",
       "  background-color: #edf4fc;\n",
       "  color: #000000;\n",
       "}\n",
       "#T_dee6d_row2_col4 {\n",
       "  background-color: #99c7e0;\n",
       "  color: #000000;\n",
       "}\n",
       "#T_dee6d_row3_col0 {\n",
       "  background-color: #ccdff1;\n",
       "  color: #000000;\n",
       "}\n",
       "#T_dee6d_row3_col2 {\n",
       "  background-color: #e8f1fa;\n",
       "  color: #000000;\n",
       "}\n",
       "#T_dee6d_row3_col4 {\n",
       "  background-color: #e6f0f9;\n",
       "  color: #000000;\n",
       "}\n",
       "#T_dee6d_row3_col5 {\n",
       "  background-color: #eef5fc;\n",
       "  color: #000000;\n",
       "}\n",
       "#T_dee6d_row4_col0 {\n",
       "  background-color: #d6e6f4;\n",
       "  color: #000000;\n",
       "}\n",
       "#T_dee6d_row4_col2 {\n",
       "  background-color: #529dcc;\n",
       "  color: #f1f1f1;\n",
       "}\n",
       "#T_dee6d_row5_col0 {\n",
       "  background-color: #e3eef8;\n",
       "  color: #000000;\n",
       "}\n",
       "#T_dee6d_row5_col2 {\n",
       "  background-color: #cddff1;\n",
       "  color: #000000;\n",
       "}\n",
       "#T_dee6d_row5_col3 {\n",
       "  background-color: #65aad4;\n",
       "  color: #f1f1f1;\n",
       "}\n",
       "#T_dee6d_row5_col4 {\n",
       "  background-color: #deebf7;\n",
       "  color: #000000;\n",
       "}\n",
       "</style>\n",
       "<table id=\"T_dee6d\">\n",
       "  <thead>\n",
       "    <tr>\n",
       "      <th class=\"blank level0\" >&nbsp;</th>\n",
       "      <th id=\"T_dee6d_level0_col0\" class=\"col_heading level0 col0\" >comauto</th>\n",
       "      <th id=\"T_dee6d_level0_col1\" class=\"col_heading level0 col1\" >medmal</th>\n",
       "      <th id=\"T_dee6d_level0_col2\" class=\"col_heading level0 col2\" >othliab</th>\n",
       "      <th id=\"T_dee6d_level0_col3\" class=\"col_heading level0 col3\" >ppauto</th>\n",
       "      <th id=\"T_dee6d_level0_col4\" class=\"col_heading level0 col4\" >prodliab</th>\n",
       "      <th id=\"T_dee6d_level0_col5\" class=\"col_heading level0 col5\" >wkcomp</th>\n",
       "    </tr>\n",
       "  </thead>\n",
       "  <tbody>\n",
       "    <tr>\n",
       "      <th id=\"T_dee6d_level0_row0\" class=\"row_heading level0 row0\" >comauto</th>\n",
       "      <td id=\"T_dee6d_row0_col0\" class=\"data row0 col0\" >0.341463</td>\n",
       "      <td id=\"T_dee6d_row0_col1\" class=\"data row0 col1\" >0.000000</td>\n",
       "      <td id=\"T_dee6d_row0_col2\" class=\"data row0 col2\" >0.152542</td>\n",
       "      <td id=\"T_dee6d_row0_col3\" class=\"data row0 col3\" >0.212121</td>\n",
       "      <td id=\"T_dee6d_row0_col4\" class=\"data row0 col4\" >0.235294</td>\n",
       "      <td id=\"T_dee6d_row0_col5\" class=\"data row0 col5\" >0.218750</td>\n",
       "    </tr>\n",
       "    <tr>\n",
       "      <th id=\"T_dee6d_level0_row1\" class=\"row_heading level0 row1\" >medmal</th>\n",
       "      <td id=\"T_dee6d_row1_col0\" class=\"data row1 col0\" >0.024390</td>\n",
       "      <td id=\"T_dee6d_row1_col1\" class=\"data row1 col1\" >0.166667</td>\n",
       "      <td id=\"T_dee6d_row1_col2\" class=\"data row1 col2\" >0.118644</td>\n",
       "      <td id=\"T_dee6d_row1_col3\" class=\"data row1 col3\" >0.000000</td>\n",
       "      <td id=\"T_dee6d_row1_col4\" class=\"data row1 col4\" >0.058824</td>\n",
       "      <td id=\"T_dee6d_row1_col5\" class=\"data row1 col5\" >0.031250</td>\n",
       "    </tr>\n",
       "    <tr>\n",
       "      <th id=\"T_dee6d_level0_row2\" class=\"row_heading level0 row2\" >othliab</th>\n",
       "      <td id=\"T_dee6d_row2_col0\" class=\"data row2 col0\" >0.219512</td>\n",
       "      <td id=\"T_dee6d_row2_col1\" class=\"data row2 col1\" >0.166667</td>\n",
       "      <td id=\"T_dee6d_row2_col2\" class=\"data row2 col2\" >0.610169</td>\n",
       "      <td id=\"T_dee6d_row2_col3\" class=\"data row2 col3\" >0.121212</td>\n",
       "      <td id=\"T_dee6d_row2_col4\" class=\"data row2 col4\" >0.294118</td>\n",
       "      <td id=\"T_dee6d_row2_col5\" class=\"data row2 col5\" >0.093750</td>\n",
       "    </tr>\n",
       "    <tr>\n",
       "      <th id=\"T_dee6d_level0_row3\" class=\"row_heading level0 row3\" >ppauto</th>\n",
       "      <td id=\"T_dee6d_row3_col0\" class=\"data row3 col0\" >0.146341</td>\n",
       "      <td id=\"T_dee6d_row3_col1\" class=\"data row3 col1\" >0.000000</td>\n",
       "      <td id=\"T_dee6d_row3_col2\" class=\"data row3 col2\" >0.050847</td>\n",
       "      <td id=\"T_dee6d_row3_col3\" class=\"data row3 col3\" >0.666667</td>\n",
       "      <td id=\"T_dee6d_row3_col4\" class=\"data row3 col4\" >0.058824</td>\n",
       "      <td id=\"T_dee6d_row3_col5\" class=\"data row3 col5\" >0.031250</td>\n",
       "    </tr>\n",
       "    <tr>\n",
       "      <th id=\"T_dee6d_level0_row4\" class=\"row_heading level0 row4\" >prodliab</th>\n",
       "      <td id=\"T_dee6d_row4_col0\" class=\"data row4 col0\" >0.048780</td>\n",
       "      <td id=\"T_dee6d_row4_col1\" class=\"data row4 col1\" >0.000000</td>\n",
       "      <td id=\"T_dee6d_row4_col2\" class=\"data row4 col2\" >0.169492</td>\n",
       "      <td id=\"T_dee6d_row4_col3\" class=\"data row4 col3\" >0.000000</td>\n",
       "      <td id=\"T_dee6d_row4_col4\" class=\"data row4 col4\" >0.294118</td>\n",
       "      <td id=\"T_dee6d_row4_col5\" class=\"data row4 col5\" >0.000000</td>\n",
       "    </tr>\n",
       "    <tr>\n",
       "      <th id=\"T_dee6d_level0_row5\" class=\"row_heading level0 row5\" >wkcomp</th>\n",
       "      <td id=\"T_dee6d_row5_col0\" class=\"data row5 col0\" >0.048780</td>\n",
       "      <td id=\"T_dee6d_row5_col1\" class=\"data row5 col1\" >0.000000</td>\n",
       "      <td id=\"T_dee6d_row5_col2\" class=\"data row5 col2\" >0.101695</td>\n",
       "      <td id=\"T_dee6d_row5_col3\" class=\"data row5 col3\" >0.242424</td>\n",
       "      <td id=\"T_dee6d_row5_col4\" class=\"data row5 col4\" >0.058824</td>\n",
       "      <td id=\"T_dee6d_row5_col5\" class=\"data row5 col5\" >0.468750</td>\n",
       "    </tr>\n",
       "  </tbody>\n",
       "</table>\n"
      ],
      "text/plain": [
       "<pandas.io.formats.style.Styler at 0x27d21366d10>"
      ]
     },
     "execution_count": 429,
     "metadata": {},
     "output_type": "execute_result"
    }
   ],
   "source": [
    "print(f'Model accuracy: {model.score(X_test, y_test)}')\n",
    "\n",
    "cm = pd.DataFrame(\n",
    "    confusion_matrix(y_test, model.predict(X_test)),\n",
    "    index=le.classes_,\n",
    "    columns=le.classes_)\n",
    "\n",
    "(cm / cm.sum(1)).style.background_gradient(cmap='Blues', axis=1)"
   ]
  },
  {
   "cell_type": "code",
   "execution_count": 437,
   "metadata": {
    "tags": []
   },
   "outputs": [],
   "source": [
    "#cross_val_score(model, X_train, y_train)\n",
    "\n",
    "from sklearn.ensemble import RandomForestClassifier, GradientBoostingClassifier\n",
    "from sklearn.neighbors import KNeighborsClassifier\n",
    "from xgboost import XGBClassifier\n"
   ]
  },
  {
   "cell_type": "code",
   "execution_count": 442,
   "metadata": {
    "tags": []
   },
   "outputs": [
    {
     "data": {
      "text/plain": [
       "KNeighborsClassifier          0.356292\n",
       "LGBMClassifier                0.444047\n",
       "XGBClassifier                 0.459490\n",
       "GradientBoostingClassifier    0.459505\n",
       "RandomForestClassifier        0.474993\n",
       "dtype: float64"
      ]
     },
     "execution_count": 442,
     "metadata": {},
     "output_type": "execute_result"
    }
   ],
   "source": [
    "pd.Series({\n",
    "    'RandomForestClassifier': cross_val_score(RandomForestClassifier(), X_train, y_train).mean(),\n",
    "    'GradientBoostingClassifier': cross_val_score(GradientBoostingClassifier(), X_train, y_train).mean(),\n",
    "    'KNeighborsClassifier': cross_val_score(KNeighborsClassifier(), X_train, y_train).mean(),\n",
    "    'XGBClassifier': cross_val_score(XGBClassifier(), X_train, y_train).mean(),\n",
    "    'LGBMClassifier': cross_val_score(lightgbm.LGBMClassifier(), X_train, y_train).mean(),\n",
    "}).sort_values()"
   ]
  },
  {
   "cell_type": "code",
   "execution_count": 443,
   "metadata": {
    "tags": []
   },
   "outputs": [
    {
     "name": "stderr",
     "output_type": "stream",
     "text": [
      "C:\\Users\\jbogaard\\Miniconda3\\envs\\clrs\\Lib\\site-packages\\sklearn\\base.py:432: UserWarning: X has feature names, but RandomForestClassifier was fitted without feature names\n",
      "  warnings.warn(\n"
     ]
    },
    {
     "data": {
      "text/html": [
       "<style type=\"text/css\">\n",
       "#T_05b5b_row0_col0, #T_05b5b_row1_col1, #T_05b5b_row2_col2, #T_05b5b_row3_col3, #T_05b5b_row4_col2, #T_05b5b_row5_col5 {\n",
       "  background-color: #08306b;\n",
       "  color: #f1f1f1;\n",
       "}\n",
       "#T_05b5b_row0_col1, #T_05b5b_row0_col4, #T_05b5b_row1_col0, #T_05b5b_row2_col1, #T_05b5b_row3_col1, #T_05b5b_row3_col4, #T_05b5b_row4_col1, #T_05b5b_row4_col3, #T_05b5b_row4_col5, #T_05b5b_row5_col1, #T_05b5b_row5_col4 {\n",
       "  background-color: #f7fbff;\n",
       "  color: #000000;\n",
       "}\n",
       "#T_05b5b_row0_col2 {\n",
       "  background-color: #2373b6;\n",
       "  color: #f1f1f1;\n",
       "}\n",
       "#T_05b5b_row0_col3 {\n",
       "  background-color: #b3d3e8;\n",
       "  color: #000000;\n",
       "}\n",
       "#T_05b5b_row0_col5 {\n",
       "  background-color: #afd1e7;\n",
       "  color: #000000;\n",
       "}\n",
       "#T_05b5b_row1_col2 {\n",
       "  background-color: #8abfdd;\n",
       "  color: #000000;\n",
       "}\n",
       "#T_05b5b_row1_col3 {\n",
       "  background-color: #eff6fc;\n",
       "  color: #000000;\n",
       "}\n",
       "#T_05b5b_row1_col4 {\n",
       "  background-color: #c8dcf0;\n",
       "  color: #000000;\n",
       "}\n",
       "#T_05b5b_row1_col5 {\n",
       "  background-color: #c1d9ed;\n",
       "  color: #000000;\n",
       "}\n",
       "#T_05b5b_row2_col0 {\n",
       "  background-color: #bed8ec;\n",
       "  color: #000000;\n",
       "}\n",
       "#T_05b5b_row2_col3 {\n",
       "  background-color: #dce9f6;\n",
       "  color: #000000;\n",
       "}\n",
       "#T_05b5b_row2_col4 {\n",
       "  background-color: #89bedc;\n",
       "  color: #000000;\n",
       "}\n",
       "#T_05b5b_row2_col5 {\n",
       "  background-color: #dae8f6;\n",
       "  color: #000000;\n",
       "}\n",
       "#T_05b5b_row3_col0 {\n",
       "  background-color: #9cc9e1;\n",
       "  color: #000000;\n",
       "}\n",
       "#T_05b5b_row3_col2 {\n",
       "  background-color: #e6f0f9;\n",
       "  color: #000000;\n",
       "}\n",
       "#T_05b5b_row3_col5 {\n",
       "  background-color: #e2edf8;\n",
       "  color: #000000;\n",
       "}\n",
       "#T_05b5b_row4_col0 {\n",
       "  background-color: #e1edf8;\n",
       "  color: #000000;\n",
       "}\n",
       "#T_05b5b_row4_col4 {\n",
       "  background-color: #1663aa;\n",
       "  color: #f1f1f1;\n",
       "}\n",
       "#T_05b5b_row5_col0 {\n",
       "  background-color: #e4eff9;\n",
       "  color: #000000;\n",
       "}\n",
       "#T_05b5b_row5_col2 {\n",
       "  background-color: #cfe1f2;\n",
       "  color: #000000;\n",
       "}\n",
       "#T_05b5b_row5_col3 {\n",
       "  background-color: #71b1d7;\n",
       "  color: #f1f1f1;\n",
       "}\n",
       "</style>\n",
       "<table id=\"T_05b5b\">\n",
       "  <thead>\n",
       "    <tr>\n",
       "      <th class=\"blank level0\" >&nbsp;</th>\n",
       "      <th id=\"T_05b5b_level0_col0\" class=\"col_heading level0 col0\" >comauto</th>\n",
       "      <th id=\"T_05b5b_level0_col1\" class=\"col_heading level0 col1\" >medmal</th>\n",
       "      <th id=\"T_05b5b_level0_col2\" class=\"col_heading level0 col2\" >othliab</th>\n",
       "      <th id=\"T_05b5b_level0_col3\" class=\"col_heading level0 col3\" >ppauto</th>\n",
       "      <th id=\"T_05b5b_level0_col4\" class=\"col_heading level0 col4\" >prodliab</th>\n",
       "      <th id=\"T_05b5b_level0_col5\" class=\"col_heading level0 col5\" >wkcomp</th>\n",
       "    </tr>\n",
       "  </thead>\n",
       "  <tbody>\n",
       "    <tr>\n",
       "      <th id=\"T_05b5b_level0_row0\" class=\"row_heading level0 row0\" >comauto</th>\n",
       "      <td id=\"T_05b5b_row0_col0\" class=\"data row0 col0\" >0.390244</td>\n",
       "      <td id=\"T_05b5b_row0_col1\" class=\"data row0 col1\" >0.000000</td>\n",
       "      <td id=\"T_05b5b_row0_col2\" class=\"data row0 col2\" >0.288136</td>\n",
       "      <td id=\"T_05b5b_row0_col3\" class=\"data row0 col3\" >0.121212</td>\n",
       "      <td id=\"T_05b5b_row0_col4\" class=\"data row0 col4\" >0.000000</td>\n",
       "      <td id=\"T_05b5b_row0_col5\" class=\"data row0 col5\" >0.125000</td>\n",
       "    </tr>\n",
       "    <tr>\n",
       "      <th id=\"T_05b5b_level0_row1\" class=\"row_heading level0 row1\" >medmal</th>\n",
       "      <td id=\"T_05b5b_row1_col0\" class=\"data row1 col0\" >0.024390</td>\n",
       "      <td id=\"T_05b5b_row1_col1\" class=\"data row1 col1\" >0.166667</td>\n",
       "      <td id=\"T_05b5b_row1_col2\" class=\"data row1 col2\" >0.084746</td>\n",
       "      <td id=\"T_05b5b_row1_col3\" class=\"data row1 col3\" >0.030303</td>\n",
       "      <td id=\"T_05b5b_row1_col4\" class=\"data row1 col4\" >0.058824</td>\n",
       "      <td id=\"T_05b5b_row1_col5\" class=\"data row1 col5\" >0.062500</td>\n",
       "    </tr>\n",
       "    <tr>\n",
       "      <th id=\"T_05b5b_level0_row2\" class=\"row_heading level0 row2\" >othliab</th>\n",
       "      <td id=\"T_05b5b_row2_col0\" class=\"data row2 col0\" >0.219512</td>\n",
       "      <td id=\"T_05b5b_row2_col1\" class=\"data row2 col1\" >0.083333</td>\n",
       "      <td id=\"T_05b5b_row2_col2\" class=\"data row2 col2\" >0.576271</td>\n",
       "      <td id=\"T_05b5b_row2_col3\" class=\"data row2 col3\" >0.151515</td>\n",
       "      <td id=\"T_05b5b_row2_col4\" class=\"data row2 col4\" >0.294118</td>\n",
       "      <td id=\"T_05b5b_row2_col5\" class=\"data row2 col5\" >0.156250</td>\n",
       "    </tr>\n",
       "    <tr>\n",
       "      <th id=\"T_05b5b_level0_row3\" class=\"row_heading level0 row3\" >ppauto</th>\n",
       "      <td id=\"T_05b5b_row3_col0\" class=\"data row3 col0\" >0.219512</td>\n",
       "      <td id=\"T_05b5b_row3_col1\" class=\"data row3 col1\" >0.000000</td>\n",
       "      <td id=\"T_05b5b_row3_col2\" class=\"data row3 col2\" >0.050847</td>\n",
       "      <td id=\"T_05b5b_row3_col3\" class=\"data row3 col3\" >0.575758</td>\n",
       "      <td id=\"T_05b5b_row3_col4\" class=\"data row3 col4\" >0.000000</td>\n",
       "      <td id=\"T_05b5b_row3_col5\" class=\"data row3 col5\" >0.062500</td>\n",
       "    </tr>\n",
       "    <tr>\n",
       "      <th id=\"T_05b5b_level0_row4\" class=\"row_heading level0 row4\" >prodliab</th>\n",
       "      <td id=\"T_05b5b_row4_col0\" class=\"data row4 col0\" >0.024390</td>\n",
       "      <td id=\"T_05b5b_row4_col1\" class=\"data row4 col1\" >0.000000</td>\n",
       "      <td id=\"T_05b5b_row4_col2\" class=\"data row4 col2\" >0.220339</td>\n",
       "      <td id=\"T_05b5b_row4_col3\" class=\"data row4 col3\" >0.000000</td>\n",
       "      <td id=\"T_05b5b_row4_col4\" class=\"data row4 col4\" >0.176471</td>\n",
       "      <td id=\"T_05b5b_row4_col5\" class=\"data row4 col5\" >0.000000</td>\n",
       "    </tr>\n",
       "    <tr>\n",
       "      <th id=\"T_05b5b_level0_row5\" class=\"row_heading level0 row5\" >wkcomp</th>\n",
       "      <td id=\"T_05b5b_row5_col0\" class=\"data row5 col0\" >0.048780</td>\n",
       "      <td id=\"T_05b5b_row5_col1\" class=\"data row5 col1\" >0.000000</td>\n",
       "      <td id=\"T_05b5b_row5_col2\" class=\"data row5 col2\" >0.101695</td>\n",
       "      <td id=\"T_05b5b_row5_col3\" class=\"data row5 col3\" >0.242424</td>\n",
       "      <td id=\"T_05b5b_row5_col4\" class=\"data row5 col4\" >0.000000</td>\n",
       "      <td id=\"T_05b5b_row5_col5\" class=\"data row5 col5\" >0.500000</td>\n",
       "    </tr>\n",
       "  </tbody>\n",
       "</table>\n"
      ],
      "text/plain": [
       "<pandas.io.formats.style.Styler at 0x27d206e5150>"
      ]
     },
     "execution_count": 443,
     "metadata": {},
     "output_type": "execute_result"
    }
   ],
   "source": [
    "model = RandomForestClassifier().fit(X=X_train.values, y=y_train)\n",
    "\n",
    "cm = pd.DataFrame(\n",
    "    confusion_matrix(y_test, model.predict(X_test)),\n",
    "    index=le.classes_,\n",
    "    columns=le.classes_)\n",
    "\n",
    "(cm / cm.sum(1)).style.background_gradient(cmap='Blues', axis=1)"
   ]
  },
  {
   "cell_type": "code",
   "execution_count": null,
   "metadata": {},
   "outputs": [],
   "source": [
    "Feature Engineering\n",
    "Parameter Tuning\n",
    "Algorithm Selection\n"
   ]
  },
  {
   "cell_type": "markdown",
   "metadata": {
    "id": "xsYHXeeSs-rf"
   },
   "source": [
    "## AutoML\n",
    "\n",
    "Abstraction on underlying techniques"
   ]
  },
  {
   "cell_type": "code",
   "execution_count": 1,
   "metadata": {
    "colab": {
     "base_uri": "https://localhost:8080/",
     "height": 694
    },
    "id": "YspARMroTs6h",
    "outputId": "c2cddc9d-9e5f-46fe-8a89-a2d7a265403d"
   },
   "outputs": [
    {
     "ename": "ModuleNotFoundError",
     "evalue": "No module named 'scikitplot'",
     "output_type": "error",
     "traceback": [
      "\u001b[1;31m---------------------------------------------------------------------------\u001b[0m",
      "\u001b[1;31mModuleNotFoundError\u001b[0m                       Traceback (most recent call last)",
      "Cell \u001b[1;32mIn[1], line 1\u001b[0m\n\u001b[1;32m----> 1\u001b[0m \u001b[38;5;28;01mfrom\u001b[39;00m \u001b[38;5;21;01mpycaret\u001b[39;00m\u001b[38;5;21;01m.\u001b[39;00m\u001b[38;5;21;01mclassification\u001b[39;00m \u001b[38;5;28;01mimport\u001b[39;00m ClassificationExperiment\n\u001b[0;32m      2\u001b[0m s \u001b[38;5;241m=\u001b[39m ClassificationExperiment()\n",
      "File \u001b[1;32m~\\Miniconda3\\envs\\clrs\\Lib\\site-packages\\pycaret\\classification.py:10\u001b[0m\n\u001b[0;32m      7\u001b[0m \u001b[38;5;28;01mimport\u001b[39;00m \u001b[38;5;21;01mpandas\u001b[39;00m \u001b[38;5;28;01mas\u001b[39;00m \u001b[38;5;21;01mpd\u001b[39;00m\n\u001b[0;32m      8\u001b[0m \u001b[38;5;28;01mimport\u001b[39;00m \u001b[38;5;21;01mnumpy\u001b[39;00m \u001b[38;5;28;01mas\u001b[39;00m \u001b[38;5;21;01mnp\u001b[39;00m\n\u001b[1;32m---> 10\u001b[0m \u001b[38;5;28;01mimport\u001b[39;00m \u001b[38;5;21;01mpycaret\u001b[39;00m\u001b[38;5;21;01m.\u001b[39;00m\u001b[38;5;21;01minternal\u001b[39;00m\u001b[38;5;21;01m.\u001b[39;00m\u001b[38;5;21;01mtabular\u001b[39;00m\n\u001b[0;32m     11\u001b[0m \u001b[38;5;28;01mfrom\u001b[39;00m \u001b[38;5;21;01mpycaret\u001b[39;00m\u001b[38;5;21;01m.\u001b[39;00m\u001b[38;5;21;01minternal\u001b[39;00m\u001b[38;5;21;01m.\u001b[39;00m\u001b[38;5;21;01mDisplay\u001b[39;00m \u001b[38;5;28;01mimport\u001b[39;00m Display, is_in_colab, enable_colab\n\u001b[0;32m     12\u001b[0m \u001b[38;5;28;01mfrom\u001b[39;00m \u001b[38;5;21;01mtyping\u001b[39;00m \u001b[38;5;28;01mimport\u001b[39;00m List, Tuple, Any, Union, Optional, Dict\n",
      "File \u001b[1;32m~\\Miniconda3\\envs\\clrs\\Lib\\site-packages\\pycaret\\internal\\tabular.py:36\u001b[0m\n\u001b[0;32m     34\u001b[0m \u001b[38;5;28;01mimport\u001b[39;00m \u001b[38;5;21;01mpycaret\u001b[39;00m\u001b[38;5;21;01m.\u001b[39;00m\u001b[38;5;21;01minternal\u001b[39;00m\u001b[38;5;21;01m.\u001b[39;00m\u001b[38;5;21;01mpatches\u001b[39;00m\u001b[38;5;21;01m.\u001b[39;00m\u001b[38;5;21;01myellowbrick\u001b[39;00m\n\u001b[0;32m     35\u001b[0m \u001b[38;5;28;01mfrom\u001b[39;00m \u001b[38;5;21;01mpycaret\u001b[39;00m\u001b[38;5;21;01m.\u001b[39;00m\u001b[38;5;21;01minternal\u001b[39;00m\u001b[38;5;21;01m.\u001b[39;00m\u001b[38;5;21;01mlogging\u001b[39;00m \u001b[38;5;28;01mimport\u001b[39;00m get_logger\n\u001b[1;32m---> 36\u001b[0m \u001b[38;5;28;01mfrom\u001b[39;00m \u001b[38;5;21;01mpycaret\u001b[39;00m\u001b[38;5;21;01m.\u001b[39;00m\u001b[38;5;21;01minternal\u001b[39;00m\u001b[38;5;21;01m.\u001b[39;00m\u001b[38;5;21;01mplotting\u001b[39;00m \u001b[38;5;28;01mimport\u001b[39;00m show_yellowbrick_plot, MatplotlibDefaultDPI\n\u001b[0;32m     37\u001b[0m \u001b[38;5;28;01mfrom\u001b[39;00m \u001b[38;5;21;01mpycaret\u001b[39;00m\u001b[38;5;21;01m.\u001b[39;00m\u001b[38;5;21;01minternal\u001b[39;00m\u001b[38;5;21;01m.\u001b[39;00m\u001b[38;5;21;01mDisplay\u001b[39;00m \u001b[38;5;28;01mimport\u001b[39;00m Display\n\u001b[0;32m     38\u001b[0m \u001b[38;5;28;01mfrom\u001b[39;00m \u001b[38;5;21;01mpycaret\u001b[39;00m\u001b[38;5;21;01m.\u001b[39;00m\u001b[38;5;21;01minternal\u001b[39;00m\u001b[38;5;21;01m.\u001b[39;00m\u001b[38;5;21;01mdistributions\u001b[39;00m \u001b[38;5;28;01mimport\u001b[39;00m \u001b[38;5;241m*\u001b[39m\n",
      "File \u001b[1;32m~\\Miniconda3\\envs\\clrs\\Lib\\site-packages\\pycaret\\internal\\plotting.py:8\u001b[0m\n\u001b[0;32m      6\u001b[0m \u001b[38;5;28;01mfrom\u001b[39;00m \u001b[38;5;21;01mpycaret\u001b[39;00m\u001b[38;5;21;01m.\u001b[39;00m\u001b[38;5;21;01minternal\u001b[39;00m\u001b[38;5;21;01m.\u001b[39;00m\u001b[38;5;21;01mlogging\u001b[39;00m \u001b[38;5;28;01mimport\u001b[39;00m get_logger\n\u001b[0;32m      7\u001b[0m \u001b[38;5;28;01mfrom\u001b[39;00m \u001b[38;5;21;01mpycaret\u001b[39;00m\u001b[38;5;21;01m.\u001b[39;00m\u001b[38;5;21;01minternal\u001b[39;00m\u001b[38;5;21;01m.\u001b[39;00m\u001b[38;5;21;01mDisplay\u001b[39;00m \u001b[38;5;28;01mimport\u001b[39;00m Display\n\u001b[1;32m----> 8\u001b[0m \u001b[38;5;28;01mimport\u001b[39;00m \u001b[38;5;21;01mscikitplot\u001b[39;00m \u001b[38;5;28;01mas\u001b[39;00m \u001b[38;5;21;01mskplt\u001b[39;00m\n\u001b[0;32m     11\u001b[0m \u001b[38;5;28;01mdef\u001b[39;00m \u001b[38;5;21mshow_yellowbrick_plot\u001b[39m(\n\u001b[0;32m     12\u001b[0m     visualizer,\n\u001b[0;32m     13\u001b[0m     X_train,\n\u001b[1;32m   (...)\u001b[0m\n\u001b[0;32m     25\u001b[0m     \u001b[38;5;241m*\u001b[39m\u001b[38;5;241m*\u001b[39mkwargs,\n\u001b[0;32m     26\u001b[0m ):\n\u001b[0;32m     27\u001b[0m \u001b[38;5;250m    \u001b[39m\u001b[38;5;124;03m\"\"\"\u001b[39;00m\n\u001b[0;32m     28\u001b[0m \u001b[38;5;124;03m    Generic method to handle yellowbrick plots.\u001b[39;00m\n\u001b[0;32m     29\u001b[0m \u001b[38;5;124;03m    \"\"\"\u001b[39;00m\n",
      "\u001b[1;31mModuleNotFoundError\u001b[0m: No module named 'scikitplot'"
     ]
    }
   ],
   "source": [
    "from pycaret.classification import ClassificationExperiment\n",
    "s = ClassificationExperiment()\n",
    "#s.setup(data.reset_index(), target = 'LOB', session_id = 123)"
   ]
  },
  {
   "cell_type": "code",
   "execution_count": 444,
   "metadata": {
    "tags": []
   },
   "outputs": [
    {
     "data": {
      "text/plain": [
       "\u001b[1;31mSignature:\u001b[0m\n",
       "\u001b[0mcross_val_score\u001b[0m\u001b[1;33m(\u001b[0m\u001b[1;33m\n",
       "\u001b[0m    \u001b[0mestimator\u001b[0m\u001b[1;33m,\u001b[0m\u001b[1;33m\n",
       "\u001b[0m    \u001b[0mX\u001b[0m\u001b[1;33m,\u001b[0m\u001b[1;33m\n",
       "\u001b[0m    \u001b[0my\u001b[0m\u001b[1;33m=\u001b[0m\u001b[1;32mNone\u001b[0m\u001b[1;33m,\u001b[0m\u001b[1;33m\n",
       "\u001b[0m    \u001b[1;33m*\u001b[0m\u001b[1;33m,\u001b[0m\u001b[1;33m\n",
       "\u001b[0m    \u001b[0mgroups\u001b[0m\u001b[1;33m=\u001b[0m\u001b[1;32mNone\u001b[0m\u001b[1;33m,\u001b[0m\u001b[1;33m\n",
       "\u001b[0m    \u001b[0mscoring\u001b[0m\u001b[1;33m=\u001b[0m\u001b[1;32mNone\u001b[0m\u001b[1;33m,\u001b[0m\u001b[1;33m\n",
       "\u001b[0m    \u001b[0mcv\u001b[0m\u001b[1;33m=\u001b[0m\u001b[1;32mNone\u001b[0m\u001b[1;33m,\u001b[0m\u001b[1;33m\n",
       "\u001b[0m    \u001b[0mn_jobs\u001b[0m\u001b[1;33m=\u001b[0m\u001b[1;32mNone\u001b[0m\u001b[1;33m,\u001b[0m\u001b[1;33m\n",
       "\u001b[0m    \u001b[0mverbose\u001b[0m\u001b[1;33m=\u001b[0m\u001b[1;36m0\u001b[0m\u001b[1;33m,\u001b[0m\u001b[1;33m\n",
       "\u001b[0m    \u001b[0mfit_params\u001b[0m\u001b[1;33m=\u001b[0m\u001b[1;32mNone\u001b[0m\u001b[1;33m,\u001b[0m\u001b[1;33m\n",
       "\u001b[0m    \u001b[0mpre_dispatch\u001b[0m\u001b[1;33m=\u001b[0m\u001b[1;34m'2*n_jobs'\u001b[0m\u001b[1;33m,\u001b[0m\u001b[1;33m\n",
       "\u001b[0m    \u001b[0merror_score\u001b[0m\u001b[1;33m=\u001b[0m\u001b[0mnan\u001b[0m\u001b[1;33m,\u001b[0m\u001b[1;33m\n",
       "\u001b[0m\u001b[1;33m)\u001b[0m\u001b[1;33m\u001b[0m\u001b[1;33m\u001b[0m\u001b[0m\n",
       "\u001b[1;31mDocstring:\u001b[0m\n",
       "Evaluate a score by cross-validation.\n",
       "\n",
       "Read more in the :ref:`User Guide <cross_validation>`.\n",
       "\n",
       "Parameters\n",
       "----------\n",
       "estimator : estimator object implementing 'fit'\n",
       "    The object to use to fit the data.\n",
       "\n",
       "X : array-like of shape (n_samples, n_features)\n",
       "    The data to fit. Can be for example a list, or an array.\n",
       "\n",
       "y : array-like of shape (n_samples,) or (n_samples, n_outputs),             default=None\n",
       "    The target variable to try to predict in the case of\n",
       "    supervised learning.\n",
       "\n",
       "groups : array-like of shape (n_samples,), default=None\n",
       "    Group labels for the samples used while splitting the dataset into\n",
       "    train/test set. Only used in conjunction with a \"Group\" :term:`cv`\n",
       "    instance (e.g., :class:`GroupKFold`).\n",
       "\n",
       "scoring : str or callable, default=None\n",
       "    A str (see model evaluation documentation) or\n",
       "    a scorer callable object / function with signature\n",
       "    ``scorer(estimator, X, y)`` which should return only\n",
       "    a single value.\n",
       "\n",
       "    Similar to :func:`cross_validate`\n",
       "    but only a single metric is permitted.\n",
       "\n",
       "    If `None`, the estimator's default scorer (if available) is used.\n",
       "\n",
       "cv : int, cross-validation generator or an iterable, default=None\n",
       "    Determines the cross-validation splitting strategy.\n",
       "    Possible inputs for cv are:\n",
       "\n",
       "    - `None`, to use the default 5-fold cross validation,\n",
       "    - int, to specify the number of folds in a `(Stratified)KFold`,\n",
       "    - :term:`CV splitter`,\n",
       "    - An iterable that generates (train, test) splits as arrays of indices.\n",
       "\n",
       "    For `int`/`None` inputs, if the estimator is a classifier and `y` is\n",
       "    either binary or multiclass, :class:`StratifiedKFold` is used. In all\n",
       "    other cases, :class:`KFold` is used. These splitters are instantiated\n",
       "    with `shuffle=False` so the splits will be the same across calls.\n",
       "\n",
       "    Refer :ref:`User Guide <cross_validation>` for the various\n",
       "    cross-validation strategies that can be used here.\n",
       "\n",
       "    .. versionchanged:: 0.22\n",
       "        `cv` default value if `None` changed from 3-fold to 5-fold.\n",
       "\n",
       "n_jobs : int, default=None\n",
       "    Number of jobs to run in parallel. Training the estimator and computing\n",
       "    the score are parallelized over the cross-validation splits.\n",
       "    ``None`` means 1 unless in a :obj:`joblib.parallel_backend` context.\n",
       "    ``-1`` means using all processors. See :term:`Glossary <n_jobs>`\n",
       "    for more details.\n",
       "\n",
       "verbose : int, default=0\n",
       "    The verbosity level.\n",
       "\n",
       "fit_params : dict, default=None\n",
       "    Parameters to pass to the fit method of the estimator.\n",
       "\n",
       "pre_dispatch : int or str, default='2*n_jobs'\n",
       "    Controls the number of jobs that get dispatched during parallel\n",
       "    execution. Reducing this number can be useful to avoid an\n",
       "    explosion of memory consumption when more jobs get dispatched\n",
       "    than CPUs can process. This parameter can be:\n",
       "\n",
       "        - ``None``, in which case all the jobs are immediately\n",
       "          created and spawned. Use this for lightweight and\n",
       "          fast-running jobs, to avoid delays due to on-demand\n",
       "          spawning of the jobs\n",
       "\n",
       "        - An int, giving the exact number of total jobs that are\n",
       "          spawned\n",
       "\n",
       "        - A str, giving an expression as a function of n_jobs,\n",
       "          as in '2*n_jobs'\n",
       "\n",
       "error_score : 'raise' or numeric, default=np.nan\n",
       "    Value to assign to the score if an error occurs in estimator fitting.\n",
       "    If set to 'raise', the error is raised.\n",
       "    If a numeric value is given, FitFailedWarning is raised.\n",
       "\n",
       "    .. versionadded:: 0.20\n",
       "\n",
       "Returns\n",
       "-------\n",
       "scores : ndarray of float of shape=(len(list(cv)),)\n",
       "    Array of scores of the estimator for each run of the cross validation.\n",
       "\n",
       "See Also\n",
       "--------\n",
       "cross_validate : To run cross-validation on multiple metrics and also to\n",
       "    return train scores, fit times and score times.\n",
       "\n",
       "cross_val_predict : Get predictions from each split of cross-validation for\n",
       "    diagnostic purposes.\n",
       "\n",
       "sklearn.metrics.make_scorer : Make a scorer from a performance metric or\n",
       "    loss function.\n",
       "\n",
       "Examples\n",
       "--------\n",
       ">>> from sklearn import datasets, linear_model\n",
       ">>> from sklearn.model_selection import cross_val_score\n",
       ">>> diabetes = datasets.load_diabetes()\n",
       ">>> X = diabetes.data[:150]\n",
       ">>> y = diabetes.target[:150]\n",
       ">>> lasso = linear_model.Lasso()\n",
       ">>> print(cross_val_score(lasso, X, y, cv=3))\n",
       "[0.3315057  0.08022103 0.03531816]\n",
       "\u001b[1;31mFile:\u001b[0m      c:\\users\\jbogaard\\miniconda3\\envs\\clrs\\lib\\site-packages\\sklearn\\model_selection\\_validation.py\n",
       "\u001b[1;31mType:\u001b[0m      function"
      ]
     },
     "metadata": {},
     "output_type": "display_data"
    }
   ],
   "source": [
    "cross_val_score?"
   ]
  },
  {
   "cell_type": "code",
   "execution_count": 53,
   "metadata": {
    "colab": {
     "base_uri": "https://localhost:8080/",
     "height": 520,
     "referenced_widgets": [
      "d1844e25f73e4d389738bc39b78c3aa4",
      "51b3519b577c4a32bae57d2906d6c3e5",
      "5dbdf783d7034ccdaab70955a8086590",
      "e7b13c4eb1824913a424ca4219e75db6",
      "0253e743ab9847259dfc746140ba2a48",
      "a419bf32bc584a5fa9c9b730fd06ce26",
      "75eaf4657b6f4eecb872c0a97ee1bcf7",
      "143404a7d1f046638c084495e8e5249c",
      "da1cb7560d68490fb897ea19ca70f2f8",
      "b7784724e5b7494c88b27fa8c409f820",
      "5a9ecb1ac3fb4ca2ad7cd63e5feb2926"
     ]
    },
    "id": "ShrWUlCTUJYH",
    "outputId": "e2ab4fb9-f498-4613-fe94-72cc639def80"
   },
   "outputs": [
    {
     "data": {
      "text/html": [],
      "text/plain": [
       "<IPython.core.display.HTML object>"
      ]
     },
     "metadata": {},
     "output_type": "display_data"
    },
    {
     "data": {
      "text/html": [
       "<style type=\"text/css\">\n",
       "#T_cedaa th {\n",
       "  text-align: left;\n",
       "}\n",
       "#T_cedaa_row0_col0, #T_cedaa_row0_col2, #T_cedaa_row1_col0, #T_cedaa_row1_col1, #T_cedaa_row1_col2, #T_cedaa_row1_col3, #T_cedaa_row1_col4, #T_cedaa_row1_col5, #T_cedaa_row1_col6, #T_cedaa_row1_col7, #T_cedaa_row2_col0, #T_cedaa_row2_col1, #T_cedaa_row2_col3, #T_cedaa_row2_col4, #T_cedaa_row2_col5, #T_cedaa_row2_col6, #T_cedaa_row2_col7, #T_cedaa_row3_col0, #T_cedaa_row3_col1, #T_cedaa_row3_col2, #T_cedaa_row3_col3, #T_cedaa_row3_col4, #T_cedaa_row3_col5, #T_cedaa_row3_col6, #T_cedaa_row3_col7, #T_cedaa_row4_col0, #T_cedaa_row4_col1, #T_cedaa_row4_col2, #T_cedaa_row4_col3, #T_cedaa_row4_col4, #T_cedaa_row4_col5, #T_cedaa_row4_col6, #T_cedaa_row4_col7, #T_cedaa_row5_col0, #T_cedaa_row5_col1, #T_cedaa_row5_col2, #T_cedaa_row5_col3, #T_cedaa_row5_col4, #T_cedaa_row5_col5, #T_cedaa_row5_col6, #T_cedaa_row5_col7, #T_cedaa_row6_col0, #T_cedaa_row6_col1, #T_cedaa_row6_col2, #T_cedaa_row6_col3, #T_cedaa_row6_col4, #T_cedaa_row6_col5, #T_cedaa_row6_col6, #T_cedaa_row6_col7, #T_cedaa_row7_col0, #T_cedaa_row7_col1, #T_cedaa_row7_col2, #T_cedaa_row7_col3, #T_cedaa_row7_col4, #T_cedaa_row7_col5, #T_cedaa_row7_col6, #T_cedaa_row7_col7, #T_cedaa_row8_col0, #T_cedaa_row8_col1, #T_cedaa_row8_col2, #T_cedaa_row8_col3, #T_cedaa_row8_col4, #T_cedaa_row8_col5, #T_cedaa_row8_col6, #T_cedaa_row8_col7, #T_cedaa_row9_col0, #T_cedaa_row9_col1, #T_cedaa_row9_col2, #T_cedaa_row9_col3, #T_cedaa_row9_col4, #T_cedaa_row9_col5, #T_cedaa_row9_col6, #T_cedaa_row9_col7, #T_cedaa_row10_col0, #T_cedaa_row10_col1, #T_cedaa_row10_col2, #T_cedaa_row10_col3, #T_cedaa_row10_col4, #T_cedaa_row10_col5, #T_cedaa_row10_col6, #T_cedaa_row10_col7, #T_cedaa_row11_col0, #T_cedaa_row11_col1, #T_cedaa_row11_col2, #T_cedaa_row11_col3, #T_cedaa_row11_col4, #T_cedaa_row11_col5, #T_cedaa_row11_col6, #T_cedaa_row11_col7, #T_cedaa_row12_col0, #T_cedaa_row12_col1, #T_cedaa_row12_col2, #T_cedaa_row12_col3, #T_cedaa_row12_col4, #T_cedaa_row12_col5, #T_cedaa_row12_col6, #T_cedaa_row12_col7, #T_cedaa_row13_col0, #T_cedaa_row13_col1, #T_cedaa_row13_col2, #T_cedaa_row13_col3, #T_cedaa_row13_col4, #T_cedaa_row13_col5, #T_cedaa_row13_col6, #T_cedaa_row13_col7, #T_cedaa_row14_col0, #T_cedaa_row14_col1, #T_cedaa_row14_col2, #T_cedaa_row14_col3, #T_cedaa_row14_col4, #T_cedaa_row14_col5, #T_cedaa_row14_col6, #T_cedaa_row14_col7 {\n",
       "  text-align: left;\n",
       "}\n",
       "#T_cedaa_row0_col1, #T_cedaa_row0_col3, #T_cedaa_row0_col4, #T_cedaa_row0_col5, #T_cedaa_row0_col6, #T_cedaa_row0_col7, #T_cedaa_row2_col2 {\n",
       "  text-align: left;\n",
       "  background-color: yellow;\n",
       "}\n",
       "#T_cedaa_row0_col8, #T_cedaa_row1_col8, #T_cedaa_row2_col8, #T_cedaa_row3_col8, #T_cedaa_row4_col8, #T_cedaa_row5_col8, #T_cedaa_row6_col8, #T_cedaa_row7_col8, #T_cedaa_row8_col8, #T_cedaa_row9_col8, #T_cedaa_row10_col8, #T_cedaa_row12_col8, #T_cedaa_row13_col8, #T_cedaa_row14_col8 {\n",
       "  text-align: left;\n",
       "  background-color: lightgrey;\n",
       "}\n",
       "#T_cedaa_row11_col8 {\n",
       "  text-align: left;\n",
       "  background-color: yellow;\n",
       "  background-color: lightgrey;\n",
       "}\n",
       "</style>\n",
       "<table id=\"T_cedaa\" class=\"dataframe\">\n",
       "  <thead>\n",
       "    <tr>\n",
       "      <th class=\"blank level0\" >&nbsp;</th>\n",
       "      <th id=\"T_cedaa_level0_col0\" class=\"col_heading level0 col0\" >Model</th>\n",
       "      <th id=\"T_cedaa_level0_col1\" class=\"col_heading level0 col1\" >Accuracy</th>\n",
       "      <th id=\"T_cedaa_level0_col2\" class=\"col_heading level0 col2\" >AUC</th>\n",
       "      <th id=\"T_cedaa_level0_col3\" class=\"col_heading level0 col3\" >Recall</th>\n",
       "      <th id=\"T_cedaa_level0_col4\" class=\"col_heading level0 col4\" >Prec.</th>\n",
       "      <th id=\"T_cedaa_level0_col5\" class=\"col_heading level0 col5\" >F1</th>\n",
       "      <th id=\"T_cedaa_level0_col6\" class=\"col_heading level0 col6\" >Kappa</th>\n",
       "      <th id=\"T_cedaa_level0_col7\" class=\"col_heading level0 col7\" >MCC</th>\n",
       "      <th id=\"T_cedaa_level0_col8\" class=\"col_heading level0 col8\" >TT (Sec)</th>\n",
       "    </tr>\n",
       "  </thead>\n",
       "  <tbody>\n",
       "    <tr>\n",
       "      <th id=\"T_cedaa_level0_row0\" class=\"row_heading level0 row0\" >gbc</th>\n",
       "      <td id=\"T_cedaa_row0_col0\" class=\"data row0 col0\" >Gradient Boosting Classifier</td>\n",
       "      <td id=\"T_cedaa_row0_col1\" class=\"data row0 col1\" >0.4833</td>\n",
       "      <td id=\"T_cedaa_row0_col2\" class=\"data row0 col2\" >0.7537</td>\n",
       "      <td id=\"T_cedaa_row0_col3\" class=\"data row0 col3\" >0.4833</td>\n",
       "      <td id=\"T_cedaa_row0_col4\" class=\"data row0 col4\" >0.4669</td>\n",
       "      <td id=\"T_cedaa_row0_col5\" class=\"data row0 col5\" >0.4601</td>\n",
       "      <td id=\"T_cedaa_row0_col6\" class=\"data row0 col6\" >0.3280</td>\n",
       "      <td id=\"T_cedaa_row0_col7\" class=\"data row0 col7\" >0.3344</td>\n",
       "      <td id=\"T_cedaa_row0_col8\" class=\"data row0 col8\" >2.8000</td>\n",
       "    </tr>\n",
       "    <tr>\n",
       "      <th id=\"T_cedaa_level0_row1\" class=\"row_heading level0 row1\" >et</th>\n",
       "      <td id=\"T_cedaa_row1_col0\" class=\"data row1 col0\" >Extra Trees Classifier</td>\n",
       "      <td id=\"T_cedaa_row1_col1\" class=\"data row1 col1\" >0.4760</td>\n",
       "      <td id=\"T_cedaa_row1_col2\" class=\"data row1 col2\" >0.7448</td>\n",
       "      <td id=\"T_cedaa_row1_col3\" class=\"data row1 col3\" >0.4760</td>\n",
       "      <td id=\"T_cedaa_row1_col4\" class=\"data row1 col4\" >0.4508</td>\n",
       "      <td id=\"T_cedaa_row1_col5\" class=\"data row1 col5\" >0.4473</td>\n",
       "      <td id=\"T_cedaa_row1_col6\" class=\"data row1 col6\" >0.3156</td>\n",
       "      <td id=\"T_cedaa_row1_col7\" class=\"data row1 col7\" >0.3260</td>\n",
       "      <td id=\"T_cedaa_row1_col8\" class=\"data row1 col8\" >0.3620</td>\n",
       "    </tr>\n",
       "    <tr>\n",
       "      <th id=\"T_cedaa_level0_row2\" class=\"row_heading level0 row2\" >rf</th>\n",
       "      <td id=\"T_cedaa_row2_col0\" class=\"data row2 col0\" >Random Forest Classifier</td>\n",
       "      <td id=\"T_cedaa_row2_col1\" class=\"data row2 col1\" >0.4686</td>\n",
       "      <td id=\"T_cedaa_row2_col2\" class=\"data row2 col2\" >0.7672</td>\n",
       "      <td id=\"T_cedaa_row2_col3\" class=\"data row2 col3\" >0.4686</td>\n",
       "      <td id=\"T_cedaa_row2_col4\" class=\"data row2 col4\" >0.4567</td>\n",
       "      <td id=\"T_cedaa_row2_col5\" class=\"data row2 col5\" >0.4403</td>\n",
       "      <td id=\"T_cedaa_row2_col6\" class=\"data row2 col6\" >0.3055</td>\n",
       "      <td id=\"T_cedaa_row2_col7\" class=\"data row2 col7\" >0.3150</td>\n",
       "      <td id=\"T_cedaa_row2_col8\" class=\"data row2 col8\" >0.4780</td>\n",
       "    </tr>\n",
       "    <tr>\n",
       "      <th id=\"T_cedaa_level0_row3\" class=\"row_heading level0 row3\" >lightgbm</th>\n",
       "      <td id=\"T_cedaa_row3_col0\" class=\"data row3 col0\" >Light Gradient Boosting Machine</td>\n",
       "      <td id=\"T_cedaa_row3_col1\" class=\"data row3 col1\" >0.4669</td>\n",
       "      <td id=\"T_cedaa_row3_col2\" class=\"data row3 col2\" >0.7515</td>\n",
       "      <td id=\"T_cedaa_row3_col3\" class=\"data row3 col3\" >0.4669</td>\n",
       "      <td id=\"T_cedaa_row3_col4\" class=\"data row3 col4\" >0.4444</td>\n",
       "      <td id=\"T_cedaa_row3_col5\" class=\"data row3 col5\" >0.4466</td>\n",
       "      <td id=\"T_cedaa_row3_col6\" class=\"data row3 col6\" >0.3106</td>\n",
       "      <td id=\"T_cedaa_row3_col7\" class=\"data row3 col7\" >0.3156</td>\n",
       "      <td id=\"T_cedaa_row3_col8\" class=\"data row3 col8\" >1.1740</td>\n",
       "    </tr>\n",
       "    <tr>\n",
       "      <th id=\"T_cedaa_level0_row4\" class=\"row_heading level0 row4\" >xgboost</th>\n",
       "      <td id=\"T_cedaa_row4_col0\" class=\"data row4 col0\" >Extreme Gradient Boosting</td>\n",
       "      <td id=\"T_cedaa_row4_col1\" class=\"data row4 col1\" >0.4649</td>\n",
       "      <td id=\"T_cedaa_row4_col2\" class=\"data row4 col2\" >0.7568</td>\n",
       "      <td id=\"T_cedaa_row4_col3\" class=\"data row4 col3\" >0.4649</td>\n",
       "      <td id=\"T_cedaa_row4_col4\" class=\"data row4 col4\" >0.4532</td>\n",
       "      <td id=\"T_cedaa_row4_col5\" class=\"data row4 col5\" >0.4503</td>\n",
       "      <td id=\"T_cedaa_row4_col6\" class=\"data row4 col6\" >0.3116</td>\n",
       "      <td id=\"T_cedaa_row4_col7\" class=\"data row4 col7\" >0.3154</td>\n",
       "      <td id=\"T_cedaa_row4_col8\" class=\"data row4 col8\" >1.0530</td>\n",
       "    </tr>\n",
       "    <tr>\n",
       "      <th id=\"T_cedaa_level0_row5\" class=\"row_heading level0 row5\" >knn</th>\n",
       "      <td id=\"T_cedaa_row5_col0\" class=\"data row5 col0\" >K Neighbors Classifier</td>\n",
       "      <td id=\"T_cedaa_row5_col1\" class=\"data row5 col1\" >0.3764</td>\n",
       "      <td id=\"T_cedaa_row5_col2\" class=\"data row5 col2\" >0.6692</td>\n",
       "      <td id=\"T_cedaa_row5_col3\" class=\"data row5 col3\" >0.3764</td>\n",
       "      <td id=\"T_cedaa_row5_col4\" class=\"data row5 col4\" >0.3459</td>\n",
       "      <td id=\"T_cedaa_row5_col5\" class=\"data row5 col5\" >0.3512</td>\n",
       "      <td id=\"T_cedaa_row5_col6\" class=\"data row5 col6\" >0.1964</td>\n",
       "      <td id=\"T_cedaa_row5_col7\" class=\"data row5 col7\" >0.2003</td>\n",
       "      <td id=\"T_cedaa_row5_col8\" class=\"data row5 col8\" >0.0630</td>\n",
       "    </tr>\n",
       "    <tr>\n",
       "      <th id=\"T_cedaa_level0_row6\" class=\"row_heading level0 row6\" >qda</th>\n",
       "      <td id=\"T_cedaa_row6_col0\" class=\"data row6 col0\" >Quadratic Discriminant Analysis</td>\n",
       "      <td id=\"T_cedaa_row6_col1\" class=\"data row6 col1\" >0.3653</td>\n",
       "      <td id=\"T_cedaa_row6_col2\" class=\"data row6 col2\" >0.5983</td>\n",
       "      <td id=\"T_cedaa_row6_col3\" class=\"data row6 col3\" >0.3653</td>\n",
       "      <td id=\"T_cedaa_row6_col4\" class=\"data row6 col4\" >0.2557</td>\n",
       "      <td id=\"T_cedaa_row6_col5\" class=\"data row6 col5\" >0.2954</td>\n",
       "      <td id=\"T_cedaa_row6_col6\" class=\"data row6 col6\" >0.1646</td>\n",
       "      <td id=\"T_cedaa_row6_col7\" class=\"data row6 col7\" >0.1769</td>\n",
       "      <td id=\"T_cedaa_row6_col8\" class=\"data row6 col8\" >0.1320</td>\n",
       "    </tr>\n",
       "    <tr>\n",
       "      <th id=\"T_cedaa_level0_row7\" class=\"row_heading level0 row7\" >dt</th>\n",
       "      <td id=\"T_cedaa_row7_col0\" class=\"data row7 col0\" >Decision Tree Classifier</td>\n",
       "      <td id=\"T_cedaa_row7_col1\" class=\"data row7 col1\" >0.3579</td>\n",
       "      <td id=\"T_cedaa_row7_col2\" class=\"data row7 col2\" >0.5918</td>\n",
       "      <td id=\"T_cedaa_row7_col3\" class=\"data row7 col3\" >0.3579</td>\n",
       "      <td id=\"T_cedaa_row7_col4\" class=\"data row7 col4\" >0.3618</td>\n",
       "      <td id=\"T_cedaa_row7_col5\" class=\"data row7 col5\" >0.3542</td>\n",
       "      <td id=\"T_cedaa_row7_col6\" class=\"data row7 col6\" >0.1854</td>\n",
       "      <td id=\"T_cedaa_row7_col7\" class=\"data row7 col7\" >0.1869</td>\n",
       "      <td id=\"T_cedaa_row7_col8\" class=\"data row7 col8\" >0.0660</td>\n",
       "    </tr>\n",
       "    <tr>\n",
       "      <th id=\"T_cedaa_level0_row8\" class=\"row_heading level0 row8\" >lr</th>\n",
       "      <td id=\"T_cedaa_row8_col0\" class=\"data row8 col0\" >Logistic Regression</td>\n",
       "      <td id=\"T_cedaa_row8_col1\" class=\"data row8 col1\" >0.3544</td>\n",
       "      <td id=\"T_cedaa_row8_col2\" class=\"data row8 col2\" >0.6575</td>\n",
       "      <td id=\"T_cedaa_row8_col3\" class=\"data row8 col3\" >0.3544</td>\n",
       "      <td id=\"T_cedaa_row8_col4\" class=\"data row8 col4\" >0.2899</td>\n",
       "      <td id=\"T_cedaa_row8_col5\" class=\"data row8 col5\" >0.2973</td>\n",
       "      <td id=\"T_cedaa_row8_col6\" class=\"data row8 col6\" >0.1551</td>\n",
       "      <td id=\"T_cedaa_row8_col7\" class=\"data row8 col7\" >0.1675</td>\n",
       "      <td id=\"T_cedaa_row8_col8\" class=\"data row8 col8\" >0.3660</td>\n",
       "    </tr>\n",
       "    <tr>\n",
       "      <th id=\"T_cedaa_level0_row9\" class=\"row_heading level0 row9\" >ada</th>\n",
       "      <td id=\"T_cedaa_row9_col0\" class=\"data row9 col0\" >Ada Boost Classifier</td>\n",
       "      <td id=\"T_cedaa_row9_col1\" class=\"data row9 col1\" >0.3269</td>\n",
       "      <td id=\"T_cedaa_row9_col2\" class=\"data row9 col2\" >0.6485</td>\n",
       "      <td id=\"T_cedaa_row9_col3\" class=\"data row9 col3\" >0.3269</td>\n",
       "      <td id=\"T_cedaa_row9_col4\" class=\"data row9 col4\" >0.3442</td>\n",
       "      <td id=\"T_cedaa_row9_col5\" class=\"data row9 col5\" >0.3064</td>\n",
       "      <td id=\"T_cedaa_row9_col6\" class=\"data row9 col6\" >0.1392</td>\n",
       "      <td id=\"T_cedaa_row9_col7\" class=\"data row9 col7\" >0.1432</td>\n",
       "      <td id=\"T_cedaa_row9_col8\" class=\"data row9 col8\" >0.2610</td>\n",
       "    </tr>\n",
       "    <tr>\n",
       "      <th id=\"T_cedaa_level0_row10\" class=\"row_heading level0 row10\" >lda</th>\n",
       "      <td id=\"T_cedaa_row10_col0\" class=\"data row10 col0\" >Linear Discriminant Analysis</td>\n",
       "      <td id=\"T_cedaa_row10_col1\" class=\"data row10 col1\" >0.3267</td>\n",
       "      <td id=\"T_cedaa_row10_col2\" class=\"data row10 col2\" >0.6182</td>\n",
       "      <td id=\"T_cedaa_row10_col3\" class=\"data row10 col3\" >0.3267</td>\n",
       "      <td id=\"T_cedaa_row10_col4\" class=\"data row10 col4\" >0.2676</td>\n",
       "      <td id=\"T_cedaa_row10_col5\" class=\"data row10 col5\" >0.2751</td>\n",
       "      <td id=\"T_cedaa_row10_col6\" class=\"data row10 col6\" >0.1224</td>\n",
       "      <td id=\"T_cedaa_row10_col7\" class=\"data row10 col7\" >0.1304</td>\n",
       "      <td id=\"T_cedaa_row10_col8\" class=\"data row10 col8\" >0.0660</td>\n",
       "    </tr>\n",
       "    <tr>\n",
       "      <th id=\"T_cedaa_level0_row11\" class=\"row_heading level0 row11\" >ridge</th>\n",
       "      <td id=\"T_cedaa_row11_col0\" class=\"data row11 col0\" >Ridge Classifier</td>\n",
       "      <td id=\"T_cedaa_row11_col1\" class=\"data row11 col1\" >0.3230</td>\n",
       "      <td id=\"T_cedaa_row11_col2\" class=\"data row11 col2\" >0.0000</td>\n",
       "      <td id=\"T_cedaa_row11_col3\" class=\"data row11 col3\" >0.3230</td>\n",
       "      <td id=\"T_cedaa_row11_col4\" class=\"data row11 col4\" >0.2319</td>\n",
       "      <td id=\"T_cedaa_row11_col5\" class=\"data row11 col5\" >0.2529</td>\n",
       "      <td id=\"T_cedaa_row11_col6\" class=\"data row11 col6\" >0.0990</td>\n",
       "      <td id=\"T_cedaa_row11_col7\" class=\"data row11 col7\" >0.1099</td>\n",
       "      <td id=\"T_cedaa_row11_col8\" class=\"data row11 col8\" >0.0490</td>\n",
       "    </tr>\n",
       "    <tr>\n",
       "      <th id=\"T_cedaa_level0_row12\" class=\"row_heading level0 row12\" >dummy</th>\n",
       "      <td id=\"T_cedaa_row12_col0\" class=\"data row12 col0\" >Dummy Classifier</td>\n",
       "      <td id=\"T_cedaa_row12_col1\" class=\"data row12 col1\" >0.3045</td>\n",
       "      <td id=\"T_cedaa_row12_col2\" class=\"data row12 col2\" >0.5000</td>\n",
       "      <td id=\"T_cedaa_row12_col3\" class=\"data row12 col3\" >0.3045</td>\n",
       "      <td id=\"T_cedaa_row12_col4\" class=\"data row12 col4\" >0.0928</td>\n",
       "      <td id=\"T_cedaa_row12_col5\" class=\"data row12 col5\" >0.1422</td>\n",
       "      <td id=\"T_cedaa_row12_col6\" class=\"data row12 col6\" >0.0000</td>\n",
       "      <td id=\"T_cedaa_row12_col7\" class=\"data row12 col7\" >0.0000</td>\n",
       "      <td id=\"T_cedaa_row12_col8\" class=\"data row12 col8\" >0.0650</td>\n",
       "    </tr>\n",
       "    <tr>\n",
       "      <th id=\"T_cedaa_level0_row13\" class=\"row_heading level0 row13\" >svm</th>\n",
       "      <td id=\"T_cedaa_row13_col0\" class=\"data row13 col0\" >SVM - Linear Kernel</td>\n",
       "      <td id=\"T_cedaa_row13_col1\" class=\"data row13 col1\" >0.2823</td>\n",
       "      <td id=\"T_cedaa_row13_col2\" class=\"data row13 col2\" >0.0000</td>\n",
       "      <td id=\"T_cedaa_row13_col3\" class=\"data row13 col3\" >0.2823</td>\n",
       "      <td id=\"T_cedaa_row13_col4\" class=\"data row13 col4\" >0.2740</td>\n",
       "      <td id=\"T_cedaa_row13_col5\" class=\"data row13 col5\" >0.2440</td>\n",
       "      <td id=\"T_cedaa_row13_col6\" class=\"data row13 col6\" >0.0971</td>\n",
       "      <td id=\"T_cedaa_row13_col7\" class=\"data row13 col7\" >0.1052</td>\n",
       "      <td id=\"T_cedaa_row13_col8\" class=\"data row13 col8\" >0.0540</td>\n",
       "    </tr>\n",
       "    <tr>\n",
       "      <th id=\"T_cedaa_level0_row14\" class=\"row_heading level0 row14\" >nb</th>\n",
       "      <td id=\"T_cedaa_row14_col0\" class=\"data row14 col0\" >Naive Bayes</td>\n",
       "      <td id=\"T_cedaa_row14_col1\" class=\"data row14 col1\" >0.2636</td>\n",
       "      <td id=\"T_cedaa_row14_col2\" class=\"data row14 col2\" >0.6341</td>\n",
       "      <td id=\"T_cedaa_row14_col3\" class=\"data row14 col3\" >0.2636</td>\n",
       "      <td id=\"T_cedaa_row14_col4\" class=\"data row14 col4\" >0.3195</td>\n",
       "      <td id=\"T_cedaa_row14_col5\" class=\"data row14 col5\" >0.2324</td>\n",
       "      <td id=\"T_cedaa_row14_col6\" class=\"data row14 col6\" >0.1194</td>\n",
       "      <td id=\"T_cedaa_row14_col7\" class=\"data row14 col7\" >0.1308</td>\n",
       "      <td id=\"T_cedaa_row14_col8\" class=\"data row14 col8\" >0.0580</td>\n",
       "    </tr>\n",
       "  </tbody>\n",
       "</table>\n"
      ],
      "text/plain": [
       "<pandas.io.formats.style.Styler at 0x7fdf91b3e4d0>"
      ]
     },
     "metadata": {},
     "output_type": "display_data"
    },
    {
     "data": {
      "application/vnd.jupyter.widget-view+json": {
       "model_id": "d1844e25f73e4d389738bc39b78c3aa4",
       "version_major": 2,
       "version_minor": 0
      },
      "text/plain": [
       "Processing:   0%|          | 0/65 [00:00<?, ?it/s]"
      ]
     },
     "metadata": {
      "application/vnd.jupyter.widget-view+json": {
       "colab": {
        "custom_widget_manager": {
         "url": "https://ssl.gstatic.com/colaboratory-static/widgets/colab-cdn-widget-manager/b3e629b1971e1542/manager.min.js"
        }
       }
      }
     },
     "output_type": "display_data"
    },
    {
     "data": {
      "text/html": [],
      "text/plain": [
       "<IPython.core.display.HTML object>"
      ]
     },
     "metadata": {},
     "output_type": "display_data"
    }
   ],
   "source": [
    "best = s.compare_models()"
   ]
  },
  {
   "cell_type": "code",
   "execution_count": 57,
   "metadata": {
    "colab": {
     "base_uri": "https://localhost:8080/"
    },
    "id": "g87bRto1q8gC",
    "outputId": "d4b01b93-625a-4446-80b5-d6d3901ccd5c"
   },
   "outputs": [
    {
     "name": "stdout",
     "output_type": "stream",
     "text": [
      "GradientBoostingClassifier(ccp_alpha=0.0, criterion='friedman_mse', init=None,\n",
      "                           learning_rate=0.1, loss='log_loss', max_depth=3,\n",
      "                           max_features=None, max_leaf_nodes=None,\n",
      "                           min_impurity_decrease=0.0, min_samples_leaf=1,\n",
      "                           min_samples_split=2, min_weight_fraction_leaf=0.0,\n",
      "                           n_estimators=100, n_iter_no_change=None,\n",
      "                           random_state=123, subsample=1.0, tol=0.0001,\n",
      "                           validation_fraction=0.1, verbose=0,\n",
      "                           warm_start=False)\n"
     ]
    }
   ],
   "source": [
    "print(best)"
   ]
  },
  {
   "cell_type": "code",
   "execution_count": 352,
   "metadata": {
    "id": "i8pjaUJOq832",
    "tags": []
   },
   "outputs": [
    {
     "data": {
      "text/plain": [
       "['Column_0',\n",
       " 'Column_1',\n",
       " 'Column_2',\n",
       " 'Column_3',\n",
       " 'Column_4',\n",
       " 'Column_5',\n",
       " 'Column_6',\n",
       " 'Column_7',\n",
       " 'Column_8',\n",
       " 'Column_9',\n",
       " 'Column_10',\n",
       " 'Column_11',\n",
       " 'Column_12',\n",
       " 'Column_13',\n",
       " 'Column_14',\n",
       " 'Column_15',\n",
       " 'Column_16',\n",
       " 'Column_17',\n",
       " 'Column_18',\n",
       " 'Column_19',\n",
       " 'Column_20',\n",
       " 'Column_21',\n",
       " 'Column_22',\n",
       " 'Column_23',\n",
       " 'Column_24',\n",
       " 'Column_25',\n",
       " 'Column_26',\n",
       " 'Column_27',\n",
       " 'Column_28',\n",
       " 'Column_29',\n",
       " 'Column_30',\n",
       " 'Column_31',\n",
       " 'Column_32',\n",
       " 'Column_33',\n",
       " 'Column_34',\n",
       " 'Column_35',\n",
       " 'Column_36',\n",
       " 'Column_37',\n",
       " 'Column_38',\n",
       " 'Column_39',\n",
       " 'Column_40',\n",
       " 'Column_41',\n",
       " 'Column_42',\n",
       " 'Column_43',\n",
       " 'Column_44',\n",
       " 'Column_45',\n",
       " 'Column_46',\n",
       " 'Column_47']"
      ]
     },
     "execution_count": 352,
     "metadata": {},
     "output_type": "execute_result"
    }
   ],
   "source": [
    "model.feature_name_"
   ]
  },
  {
   "cell_type": "code",
   "execution_count": 349,
   "metadata": {
    "tags": []
   },
   "outputs": [
    {
     "data": {
      "text/plain": [
       "{'average': 'simple',\n",
       " 'drop': None,\n",
       " 'drop_above': inf,\n",
       " 'drop_below': 0.0,\n",
       " 'drop_high': None,\n",
       " 'drop_low': None,\n",
       " 'drop_valuation': None,\n",
       " 'fillna': None,\n",
       " 'groupby': None,\n",
       " 'n_periods': -1,\n",
       " 'preserve': 1,\n",
       " 'sigma_interpolation': 'log-linear'}"
      ]
     },
     "execution_count": 349,
     "metadata": {},
     "output_type": "execute_result"
    }
   ],
   "source": [
    "dev_model.get_params()"
   ]
  },
  {
   "cell_type": "code",
   "execution_count": null,
   "metadata": {},
   "outputs": [],
   "source": []
  }
 ],
 "metadata": {
  "colab": {
   "provenance": []
  },
  "kernelspec": {
   "display_name": "Python 3 (ipykernel)",
   "language": "python",
   "name": "python3"
  },
  "language_info": {
   "codemirror_mode": {
    "name": "ipython",
    "version": 3
   },
   "file_extension": ".py",
   "mimetype": "text/x-python",
   "name": "python",
   "nbconvert_exporter": "python",
   "pygments_lexer": "ipython3",
   "version": "3.11.4"
  },
  "widgets": {
   "application/vnd.jupyter.widget-state+json": {
    "0253e743ab9847259dfc746140ba2a48": {
     "model_module": "@jupyter-widgets/base",
     "model_module_version": "1.2.0",
     "model_name": "LayoutModel",
     "state": {
      "_model_module": "@jupyter-widgets/base",
      "_model_module_version": "1.2.0",
      "_model_name": "LayoutModel",
      "_view_count": null,
      "_view_module": "@jupyter-widgets/base",
      "_view_module_version": "1.2.0",
      "_view_name": "LayoutView",
      "align_content": null,
      "align_items": null,
      "align_self": null,
      "border": null,
      "bottom": null,
      "display": null,
      "flex": null,
      "flex_flow": null,
      "grid_area": null,
      "grid_auto_columns": null,
      "grid_auto_flow": null,
      "grid_auto_rows": null,
      "grid_column": null,
      "grid_gap": null,
      "grid_row": null,
      "grid_template_areas": null,
      "grid_template_columns": null,
      "grid_template_rows": null,
      "height": null,
      "justify_content": null,
      "justify_items": null,
      "left": null,
      "margin": null,
      "max_height": null,
      "max_width": null,
      "min_height": null,
      "min_width": null,
      "object_fit": null,
      "object_position": null,
      "order": null,
      "overflow": null,
      "overflow_x": null,
      "overflow_y": null,
      "padding": null,
      "right": null,
      "top": null,
      "visibility": "hidden",
      "width": null
     }
    },
    "143404a7d1f046638c084495e8e5249c": {
     "model_module": "@jupyter-widgets/base",
     "model_module_version": "1.2.0",
     "model_name": "LayoutModel",
     "state": {
      "_model_module": "@jupyter-widgets/base",
      "_model_module_version": "1.2.0",
      "_model_name": "LayoutModel",
      "_view_count": null,
      "_view_module": "@jupyter-widgets/base",
      "_view_module_version": "1.2.0",
      "_view_name": "LayoutView",
      "align_content": null,
      "align_items": null,
      "align_self": null,
      "border": null,
      "bottom": null,
      "display": null,
      "flex": null,
      "flex_flow": null,
      "grid_area": null,
      "grid_auto_columns": null,
      "grid_auto_flow": null,
      "grid_auto_rows": null,
      "grid_column": null,
      "grid_gap": null,
      "grid_row": null,
      "grid_template_areas": null,
      "grid_template_columns": null,
      "grid_template_rows": null,
      "height": null,
      "justify_content": null,
      "justify_items": null,
      "left": null,
      "margin": null,
      "max_height": null,
      "max_width": null,
      "min_height": null,
      "min_width": null,
      "object_fit": null,
      "object_position": null,
      "order": null,
      "overflow": null,
      "overflow_x": null,
      "overflow_y": null,
      "padding": null,
      "right": null,
      "top": null,
      "visibility": null,
      "width": null
     }
    },
    "51b3519b577c4a32bae57d2906d6c3e5": {
     "model_module": "@jupyter-widgets/controls",
     "model_module_version": "1.5.0",
     "model_name": "HTMLModel",
     "state": {
      "_dom_classes": [],
      "_model_module": "@jupyter-widgets/controls",
      "_model_module_version": "1.5.0",
      "_model_name": "HTMLModel",
      "_view_count": null,
      "_view_module": "@jupyter-widgets/controls",
      "_view_module_version": "1.5.0",
      "_view_name": "HTMLView",
      "description": "",
      "description_tooltip": null,
      "layout": "IPY_MODEL_a419bf32bc584a5fa9c9b730fd06ce26",
      "placeholder": "​",
      "style": "IPY_MODEL_75eaf4657b6f4eecb872c0a97ee1bcf7",
      "value": "Processing: 100%"
     }
    },
    "5a9ecb1ac3fb4ca2ad7cd63e5feb2926": {
     "model_module": "@jupyter-widgets/controls",
     "model_module_version": "1.5.0",
     "model_name": "DescriptionStyleModel",
     "state": {
      "_model_module": "@jupyter-widgets/controls",
      "_model_module_version": "1.5.0",
      "_model_name": "DescriptionStyleModel",
      "_view_count": null,
      "_view_module": "@jupyter-widgets/base",
      "_view_module_version": "1.2.0",
      "_view_name": "StyleView",
      "description_width": ""
     }
    },
    "5dbdf783d7034ccdaab70955a8086590": {
     "model_module": "@jupyter-widgets/controls",
     "model_module_version": "1.5.0",
     "model_name": "FloatProgressModel",
     "state": {
      "_dom_classes": [],
      "_model_module": "@jupyter-widgets/controls",
      "_model_module_version": "1.5.0",
      "_model_name": "FloatProgressModel",
      "_view_count": null,
      "_view_module": "@jupyter-widgets/controls",
      "_view_module_version": "1.5.0",
      "_view_name": "ProgressView",
      "bar_style": "",
      "description": "",
      "description_tooltip": null,
      "layout": "IPY_MODEL_143404a7d1f046638c084495e8e5249c",
      "max": 65,
      "min": 0,
      "orientation": "horizontal",
      "style": "IPY_MODEL_da1cb7560d68490fb897ea19ca70f2f8",
      "value": 65
     }
    },
    "75eaf4657b6f4eecb872c0a97ee1bcf7": {
     "model_module": "@jupyter-widgets/controls",
     "model_module_version": "1.5.0",
     "model_name": "DescriptionStyleModel",
     "state": {
      "_model_module": "@jupyter-widgets/controls",
      "_model_module_version": "1.5.0",
      "_model_name": "DescriptionStyleModel",
      "_view_count": null,
      "_view_module": "@jupyter-widgets/base",
      "_view_module_version": "1.2.0",
      "_view_name": "StyleView",
      "description_width": ""
     }
    },
    "a419bf32bc584a5fa9c9b730fd06ce26": {
     "model_module": "@jupyter-widgets/base",
     "model_module_version": "1.2.0",
     "model_name": "LayoutModel",
     "state": {
      "_model_module": "@jupyter-widgets/base",
      "_model_module_version": "1.2.0",
      "_model_name": "LayoutModel",
      "_view_count": null,
      "_view_module": "@jupyter-widgets/base",
      "_view_module_version": "1.2.0",
      "_view_name": "LayoutView",
      "align_content": null,
      "align_items": null,
      "align_self": null,
      "border": null,
      "bottom": null,
      "display": null,
      "flex": null,
      "flex_flow": null,
      "grid_area": null,
      "grid_auto_columns": null,
      "grid_auto_flow": null,
      "grid_auto_rows": null,
      "grid_column": null,
      "grid_gap": null,
      "grid_row": null,
      "grid_template_areas": null,
      "grid_template_columns": null,
      "grid_template_rows": null,
      "height": null,
      "justify_content": null,
      "justify_items": null,
      "left": null,
      "margin": null,
      "max_height": null,
      "max_width": null,
      "min_height": null,
      "min_width": null,
      "object_fit": null,
      "object_position": null,
      "order": null,
      "overflow": null,
      "overflow_x": null,
      "overflow_y": null,
      "padding": null,
      "right": null,
      "top": null,
      "visibility": null,
      "width": null
     }
    },
    "b7784724e5b7494c88b27fa8c409f820": {
     "model_module": "@jupyter-widgets/base",
     "model_module_version": "1.2.0",
     "model_name": "LayoutModel",
     "state": {
      "_model_module": "@jupyter-widgets/base",
      "_model_module_version": "1.2.0",
      "_model_name": "LayoutModel",
      "_view_count": null,
      "_view_module": "@jupyter-widgets/base",
      "_view_module_version": "1.2.0",
      "_view_name": "LayoutView",
      "align_content": null,
      "align_items": null,
      "align_self": null,
      "border": null,
      "bottom": null,
      "display": null,
      "flex": null,
      "flex_flow": null,
      "grid_area": null,
      "grid_auto_columns": null,
      "grid_auto_flow": null,
      "grid_auto_rows": null,
      "grid_column": null,
      "grid_gap": null,
      "grid_row": null,
      "grid_template_areas": null,
      "grid_template_columns": null,
      "grid_template_rows": null,
      "height": null,
      "justify_content": null,
      "justify_items": null,
      "left": null,
      "margin": null,
      "max_height": null,
      "max_width": null,
      "min_height": null,
      "min_width": null,
      "object_fit": null,
      "object_position": null,
      "order": null,
      "overflow": null,
      "overflow_x": null,
      "overflow_y": null,
      "padding": null,
      "right": null,
      "top": null,
      "visibility": null,
      "width": null
     }
    },
    "d1844e25f73e4d389738bc39b78c3aa4": {
     "model_module": "@jupyter-widgets/controls",
     "model_module_version": "1.5.0",
     "model_name": "HBoxModel",
     "state": {
      "_dom_classes": [],
      "_model_module": "@jupyter-widgets/controls",
      "_model_module_version": "1.5.0",
      "_model_name": "HBoxModel",
      "_view_count": null,
      "_view_module": "@jupyter-widgets/controls",
      "_view_module_version": "1.5.0",
      "_view_name": "HBoxView",
      "box_style": "",
      "children": [
       "IPY_MODEL_51b3519b577c4a32bae57d2906d6c3e5",
       "IPY_MODEL_5dbdf783d7034ccdaab70955a8086590",
       "IPY_MODEL_e7b13c4eb1824913a424ca4219e75db6"
      ],
      "layout": "IPY_MODEL_0253e743ab9847259dfc746140ba2a48"
     }
    },
    "da1cb7560d68490fb897ea19ca70f2f8": {
     "model_module": "@jupyter-widgets/controls",
     "model_module_version": "1.5.0",
     "model_name": "ProgressStyleModel",
     "state": {
      "_model_module": "@jupyter-widgets/controls",
      "_model_module_version": "1.5.0",
      "_model_name": "ProgressStyleModel",
      "_view_count": null,
      "_view_module": "@jupyter-widgets/base",
      "_view_module_version": "1.2.0",
      "_view_name": "StyleView",
      "bar_color": null,
      "description_width": ""
     }
    },
    "e7b13c4eb1824913a424ca4219e75db6": {
     "model_module": "@jupyter-widgets/controls",
     "model_module_version": "1.5.0",
     "model_name": "HTMLModel",
     "state": {
      "_dom_classes": [],
      "_model_module": "@jupyter-widgets/controls",
      "_model_module_version": "1.5.0",
      "_model_name": "HTMLModel",
      "_view_count": null,
      "_view_module": "@jupyter-widgets/controls",
      "_view_module_version": "1.5.0",
      "_view_name": "HTMLView",
      "description": "",
      "description_tooltip": null,
      "layout": "IPY_MODEL_b7784724e5b7494c88b27fa8c409f820",
      "placeholder": "​",
      "style": "IPY_MODEL_5a9ecb1ac3fb4ca2ad7cd63e5feb2926",
      "value": " 65/65 [01:16&lt;00:00,  1.27s/it]"
     }
    }
   }
  }
 },
 "nbformat": 4,
 "nbformat_minor": 4
}
