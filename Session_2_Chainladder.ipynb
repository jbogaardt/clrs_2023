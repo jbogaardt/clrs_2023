{
 "cells": [
  {
   "cell_type": "markdown",
   "metadata": {
    "id": "LibIpfNie5C8"
   },
   "source": [
    "## Session Descriptions\n",
    "\n",
    "Welcome to CAS Python Workshop\n",
    "\n",
    "\n",
    "### Today's Modules\n",
    "\n",
    "| What | How long |\n",
    "|:------------------------------------------------------------------------|--------------:|\n",
    "| The Basic Triangle                          |  10 min |\n",
    "| The Multidimensional Triangle | 10 min |\n",
    "| Large Triangles | 5 min |\n",
    "| Creating Triangles | 5 min |\n",
    "| Scikit-learn Review | 5 min |\n",
    "| Models in chainladder | 5 min |\n",
    "| Assumption Setting | 5 min |\n",
    "| Composite Estimators | 5 min |\n",
    "| Assumption Tuning | 5 min |\n",
    "| Fitting vs Diagnostics | 5 min |\n",
    "| Predictions | 5 min |\n",
    "| Simulations | 5 min |\n",
    "| Conclusion | 5 min |\n"
   ]
  },
  {
   "cell_type": "code",
   "execution_count": null,
   "metadata": {
    "colab": {
     "base_uri": "https://localhost:8080/"
    },
    "id": "BK-HpNSPe5DD",
    "outputId": "05845ead-7267-4334-c5b1-4d22bd3a621a"
   },
   "outputs": [],
   "source": [
    "pip install chainladder"
   ]
  },
  {
   "cell_type": "markdown",
   "metadata": {
    "id": "LX4bn1CjjgkG"
   },
   "source": [
    "### The `chainladder` library\n",
    "\n",
    "The `chainladder` library is inspired by the R package of the same name and adopts the design principles of pandas for data manipulation and scikit-learn for modeling.\n",
    "\n",
    "\n",
    "\n",
    "\n",
    "\n"
   ]
  },
  {
   "cell_type": "code",
   "execution_count": null,
   "metadata": {
    "id": "f9VtKEuoe5DF"
   },
   "outputs": [],
   "source": [
    "import pandas as pd\n",
    "import numpy as np\n",
    "import chainladder as cl\n",
    "\n",
    "import matplotlib.pyplot as plt\n",
    "plt.style.use('ggplot')\n",
    "%config InlineBackend.figure_format = 'retina'"
   ]
  },
  {
   "cell_type": "code",
   "execution_count": null,
   "metadata": {
    "colab": {
     "base_uri": "https://localhost:8080/",
     "height": 36
    },
    "id": "u9oZb75fy1Wm",
    "outputId": "455a409d-47cb-479b-f53c-834528bd9ac9"
   },
   "outputs": [],
   "source": [
    "cl.__version__"
   ]
  },
  {
   "cell_type": "markdown",
   "metadata": {
    "id": "tDMpNXuVfB4N"
   },
   "source": [
    "### The Basic Triangle"
   ]
  },
  {
   "cell_type": "markdown",
   "metadata": {
    "id": "UhQfLn2ee5DG"
   },
   "source": [
    "The `chainladder` package includes many toy datasets to demonstrate library usage."
   ]
  },
  {
   "cell_type": "code",
   "execution_count": null,
   "metadata": {
    "colab": {
     "base_uri": "https://localhost:8080/",
     "height": 614
    },
    "id": "zMma4hp9e5DH",
    "outputId": "93527974-2484-4ef7-8f50-726cada38fa8"
   },
   "outputs": [],
   "source": [
    "pd.read_html('https://chainladder-python.readthedocs.io/en/latest/utilities.html')[0]"
   ]
  },
  {
   "cell_type": "markdown",
   "metadata": {
    "id": "We2mlAA4e5DH"
   },
   "source": [
    "Let's load one of these sample datasets to show a basic Triangle."
   ]
  },
  {
   "cell_type": "code",
   "execution_count": null,
   "metadata": {
    "colab": {
     "base_uri": "https://localhost:8080/",
     "height": 363
    },
    "id": "pe_j3E45e5DI",
    "outputId": "0bdfc69b-2157-4c29-f353-874f736d5e43"
   },
   "outputs": [],
   "source": [
    "genins = cl.load_sample('genins')\n",
    "genins"
   ]
  },
  {
   "cell_type": "markdown",
   "metadata": {
    "id": "T6g9vusme5DJ"
   },
   "source": [
    "It looks like a `DataFrame`, but its not."
   ]
  },
  {
   "cell_type": "code",
   "execution_count": null,
   "metadata": {
    "colab": {
     "base_uri": "https://localhost:8080/"
    },
    "id": "WV6G6Opbe5DK",
    "outputId": "6105ca3a-2efe-428e-c594-50a917a87206"
   },
   "outputs": [],
   "source": [
    "type(genins)"
   ]
  },
  {
   "cell_type": "markdown",
   "metadata": {
    "id": "BgAFbHaRe5DL"
   },
   "source": [
    "DataFrames are the best tool for working with tabular data, but Triangles (as a concept) don't really behave like a DataFrame.  The Triangle object does many things a DataFrame won't do easily (and vice versa). For example, you can convert it to a valuation triangle using `dev_to_val` or back using `val_to_dev`"
   ]
  },
  {
   "cell_type": "code",
   "execution_count": null,
   "metadata": {
    "colab": {
     "base_uri": "https://localhost:8080/",
     "height": 363
    },
    "id": "hUh5HYoUe5DM",
    "outputId": "f61bd1b2-b9b7-40a7-e0fb-3ce9c7eaa09b"
   },
   "outputs": [],
   "source": [
    "genins.dev_to_val()"
   ]
  },
  {
   "cell_type": "markdown",
   "metadata": {
    "id": "_ajychG4e5DM"
   },
   "source": [
    "You can convert it to an incremental triangle using `cum_to_incr` and back using `incr_to_cum`"
   ]
  },
  {
   "cell_type": "code",
   "execution_count": null,
   "metadata": {
    "colab": {
     "base_uri": "https://localhost:8080/",
     "height": 363
    },
    "id": "dcyipkDbe5DN",
    "outputId": "3fcd7750-60d8-41bf-c94d-b2d756b89ae6"
   },
   "outputs": [],
   "source": [
    "genins.cum_to_incr()"
   ]
  },
  {
   "cell_type": "markdown",
   "metadata": {
    "id": "lTQYM5_Se5DN"
   },
   "source": [
    "Link ratios are a property of a Triangle that you may want to see."
   ]
  },
  {
   "cell_type": "code",
   "execution_count": null,
   "metadata": {
    "colab": {
     "base_uri": "https://localhost:8080/",
     "height": 331
    },
    "id": "Ys3gzxLee5DO",
    "outputId": "8145d75b-db28-4bf3-9baa-ca38a3fa2ed3"
   },
   "outputs": [],
   "source": [
    "genins.link_ratio"
   ]
  },
  {
   "cell_type": "markdown",
   "metadata": {
    "id": "9gSgiUUJe5DO"
   },
   "source": [
    "Or quickly visualize the link ratio highs/lows."
   ]
  },
  {
   "cell_type": "code",
   "execution_count": null,
   "metadata": {
    "colab": {
     "base_uri": "https://localhost:8080/",
     "height": 230
    },
    "id": "dqw3e1yce5DO",
    "outputId": "e3e82885-d16f-483c-8f51-7cb008c2c022"
   },
   "outputs": [],
   "source": [
    "genins.link_ratio.heatmap()"
   ]
  },
  {
   "cell_type": "markdown",
   "metadata": {
    "id": "34L5-dlge5DO"
   },
   "source": [
    "The latest diagonal is another useful property."
   ]
  },
  {
   "cell_type": "code",
   "execution_count": null,
   "metadata": {
    "colab": {
     "base_uri": "https://localhost:8080/",
     "height": 363
    },
    "id": "J1USpqKMe5DP",
    "outputId": "6f1e68d4-5bc6-4561-c592-c471baf7d16c"
   },
   "outputs": [],
   "source": [
    "genins.latest_diagonal"
   ]
  },
  {
   "cell_type": "markdown",
   "metadata": {
    "id": "jxVglWA-e5DP"
   },
   "source": [
    "Grabbing the last calendar period paid losses from the Triangle can be done with method chaining."
   ]
  },
  {
   "cell_type": "code",
   "execution_count": null,
   "metadata": {
    "colab": {
     "base_uri": "https://localhost:8080/",
     "height": 363
    },
    "id": "NVoquUGSe5DP",
    "outputId": "96b8f685-9219-4521-8415-526f8483818d"
   },
   "outputs": [],
   "source": [
    "genins.cum_to_incr().latest_diagonal"
   ]
  },
  {
   "cell_type": "markdown",
   "metadata": {
    "id": "TokCu7-he5DQ"
   },
   "source": [
    "Triangles have dedicated `origin` and `development` accessors, similar to pandas `str` and `dt` accessors.  These can be used as boolean filters."
   ]
  },
  {
   "cell_type": "code",
   "execution_count": null,
   "metadata": {
    "colab": {
     "base_uri": "https://localhost:8080/",
     "height": 206
    },
    "id": "v0-J4G5fe5DQ",
    "outputId": "ed942701-4a2c-4aab-b847-5bbeec69b1bd"
   },
   "outputs": [],
   "source": [
    "genins[genins.origin<='2005']"
   ]
  },
  {
   "cell_type": "code",
   "execution_count": null,
   "metadata": {
    "colab": {
     "base_uri": "https://localhost:8080/",
     "height": 363
    },
    "id": "WV77t0Ire5DQ",
    "outputId": "6ed767f3-1242-451a-dc33-9550c90d79eb"
   },
   "outputs": [],
   "source": [
    "genins[genins.development>72]"
   ]
  },
  {
   "cell_type": "markdown",
   "metadata": {
    "id": "RZKqKgTHe5DQ"
   },
   "source": [
    "Implicitly, triangles have an additional time dimension representing different valuations.  Notice, we can treat the date as text and that will be converted to a datetime OR we can access parts of the valuation, like `year`, and compare it to integer types."
   ]
  },
  {
   "cell_type": "code",
   "execution_count": null,
   "metadata": {
    "colab": {
     "base_uri": "https://localhost:8080/",
     "height": 363
    },
    "id": "9cWUwOCee5DQ",
    "outputId": "77da06da-9334-459f-fdd9-00af4432adc3"
   },
   "outputs": [],
   "source": [
    "genins[genins.valuation.year.isin([2004])|\n",
    "       (genins.valuation>='2007')&\n",
    "       (genins.valuation.year!=2009)]"
   ]
  },
  {
   "cell_type": "markdown",
   "metadata": {
    "id": "ndheQ6QEe5DR"
   },
   "source": [
    "Arithmetic operations between triangles is also possible."
   ]
  },
  {
   "cell_type": "code",
   "execution_count": null,
   "metadata": {
    "colab": {
     "base_uri": "https://localhost:8080/",
     "height": 363
    },
    "id": "9FAobvPve5DR",
    "outputId": "0f090e1a-d118-42e3-9000-19effbe3533a"
   },
   "outputs": [],
   "source": [
    "genins / genins.latest_diagonal * 100"
   ]
  },
  {
   "cell_type": "markdown",
   "metadata": {
    "id": "DIunlGBBe5DR"
   },
   "source": [
    "This is a triangle with 10 origin periods and 10 development lags.  Let's examine its shape."
   ]
  },
  {
   "cell_type": "code",
   "execution_count": null,
   "metadata": {
    "colab": {
     "base_uri": "https://localhost:8080/"
    },
    "id": "h3vY_smCe5DR",
    "outputId": "e5e1a93e-2d03-4cc6-de2b-9e6b2fa19758"
   },
   "outputs": [],
   "source": [
    "genins.shape"
   ]
  },
  {
   "cell_type": "markdown",
   "metadata": {
    "id": "NKvSE1cEe5DR"
   },
   "source": [
    "### The Multidimensional Triangle\n",
    "\n",
    "Woah, why so many dimensions?  Most actuaries work with more than one Triangle and the `Triangle` handles set similar to a DataFrame of Triangles. In this way, a triangle has 4 axes. The first two are the `index`, `columns` just like a pandas dataframe.\n",
    "The last two are the `origin` and `development`.\n",
    "\n",
    "As mentioned above, the triangle also has an implicit axis of `valuation` not shown in the shape.\n",
    "\n",
    "![](https://chainladder-python.readthedocs.io/en/latest/_images/triangle_graphic.PNG)"
   ]
  },
  {
   "cell_type": "code",
   "execution_count": null,
   "metadata": {
    "colab": {
     "base_uri": "https://localhost:8080/",
     "height": 206
    },
    "id": "8XdgF4-Ue5DS",
    "outputId": "f2e3c3c0-1253-4af3-d938-4cdd1f5c378f"
   },
   "outputs": [],
   "source": [
    "clrd = cl.load_sample('clrd')\n",
    "clrd"
   ]
  },
  {
   "cell_type": "markdown",
   "metadata": {
    "id": "xJGB63l-e5DS"
   },
   "source": [
    "You can think of a multidimensional Triangle as a pandas DataFrame of individual Triangles.  You can manipulate the Triangle using much of the same functionality we learned with pandas.  "
   ]
  },
  {
   "cell_type": "code",
   "execution_count": null,
   "metadata": {
    "colab": {
     "base_uri": "https://localhost:8080/",
     "height": 477
    },
    "id": "kxnlSjVke5DS",
    "outputId": "87ee77c4-dd71-4a8e-a006-7e03139cdfeb"
   },
   "outputs": [],
   "source": [
    "print(clrd.columns)\n",
    "clrd.index"
   ]
  },
  {
   "cell_type": "markdown",
   "metadata": {
    "id": "R7WOHP3Ne5DS"
   },
   "source": [
    "You can subset \"columns\" of a Triangle"
   ]
  },
  {
   "cell_type": "code",
   "execution_count": null,
   "metadata": {
    "colab": {
     "base_uri": "https://localhost:8080/",
     "height": 206
    },
    "id": "dPLbdV88e5DS",
    "outputId": "3100021c-20c2-431f-b8e6-74dd0cf6da15"
   },
   "outputs": [],
   "source": [
    "clrd['CumPaidLoss']"
   ]
  },
  {
   "cell_type": "markdown",
   "metadata": {
    "id": "NPG-dNl-e5DS"
   },
   "source": [
    "You can apply boolean filtering to get access to subsets of Triangles"
   ]
  },
  {
   "cell_type": "code",
   "execution_count": null,
   "metadata": {
    "colab": {
     "base_uri": "https://localhost:8080/",
     "height": 363
    },
    "id": "ryAFBwqee5DT",
    "outputId": "26145d60-813b-4ec5-88d8-020e486691a3"
   },
   "outputs": [],
   "source": [
    "clrd['CumPaidLoss'][clrd['LOB']=='comauto'].sum()"
   ]
  },
  {
   "cell_type": "markdown",
   "metadata": {
    "id": "NbIirJ3Ie5DT"
   },
   "source": [
    "Groupby operations work as well."
   ]
  },
  {
   "cell_type": "code",
   "execution_count": null,
   "metadata": {
    "colab": {
     "base_uri": "https://localhost:8080/",
     "height": 206
    },
    "id": "I5j-HTdqe5DT",
    "outputId": "d17e5547-c0ea-447c-8f92-0da3785cdff8"
   },
   "outputs": [],
   "source": [
    "clrd['CumPaidLoss'].groupby('LOB').sum().latest_diagonal"
   ]
  },
  {
   "cell_type": "markdown",
   "metadata": {
    "id": "CIrD764Ie5DT"
   },
   "source": [
    "You can convert your Triangle into a DataFrame at any time using `to_frame`."
   ]
  },
  {
   "cell_type": "code",
   "execution_count": null,
   "metadata": {
    "colab": {
     "base_uri": "https://localhost:8080/",
     "height": 394
    },
    "id": "FmsTEb-ae5DT",
    "outputId": "ba413a09-a760-429f-eb6c-fbeddc37c2a3"
   },
   "outputs": [],
   "source": [
    "clrd['CumPaidLoss'].groupby('LOB').sum().latest_diagonal.T"
   ]
  },
  {
   "cell_type": "markdown",
   "metadata": {
    "id": "vhZCgkHpe5DT"
   },
   "source": [
    "You can plot the Triangle with the `plot` method we learned previously."
   ]
  },
  {
   "cell_type": "code",
   "execution_count": null,
   "metadata": {
    "colab": {
     "base_uri": "https://localhost:8080/",
     "height": 265
    },
    "id": "TlKQKdoCe5DT",
    "outputId": "9d21f347-e650-4a8b-9c41-45d3ae2a0ff7"
   },
   "outputs": [],
   "source": [
    "(clrd['CumPaidLoss'].sum() / clrd['EarnedPremDIR'].sum()).T.plot();"
   ]
  },
  {
   "cell_type": "markdown",
   "metadata": {
    "id": "Cuk3MBASe5DU"
   },
   "source": [
    "You can derive new columns for your `Triangle`."
   ]
  },
  {
   "cell_type": "code",
   "execution_count": null,
   "metadata": {
    "colab": {
     "base_uri": "https://localhost:8080/",
     "height": 206
    },
    "id": "3lg0HRqhe5DU",
    "outputId": "6350df0c-fbce-42b1-8fba-7773c3d2b40c"
   },
   "outputs": [],
   "source": [
    "clrd['CaseIncurLoss'] = clrd['IncurLoss'] - clrd['BulkLoss']\n",
    "clrd"
   ]
  },
  {
   "cell_type": "markdown",
   "metadata": {
    "id": "yKIICdHze5DU"
   },
   "source": [
    "You can create \"Calculated Fields\", like an Excel pivot table, by assigning a column to a function."
   ]
  },
  {
   "cell_type": "code",
   "execution_count": null,
   "metadata": {
    "id": "SCaGtuT8e5DU"
   },
   "outputs": [],
   "source": [
    "clrd['LossRatio'] = lambda clrd: clrd['IncurLoss'] / clrd['EarnedPremDIR']"
   ]
  },
  {
   "cell_type": "code",
   "execution_count": null,
   "metadata": {
    "colab": {
     "base_uri": "https://localhost:8080/",
     "height": 281
    },
    "id": "zA9y-r-ve5DU",
    "outputId": "f6195160-cec4-434b-ca0c-e1bf4f7e5f32"
   },
   "outputs": [],
   "source": [
    "clrd.groupby('LOB').sum().latest_diagonal['LossRatio'].T.plot();"
   ]
  },
  {
   "cell_type": "markdown",
   "metadata": {
    "id": "AljaskoXe5DU"
   },
   "source": [
    "`loc` and `iloc` slicing functionality are also available and work across each of the 4 triangle axes."
   ]
  },
  {
   "cell_type": "code",
   "execution_count": null,
   "metadata": {
    "colab": {
     "base_uri": "https://localhost:8080/",
     "height": 363
    },
    "id": "C0IdGkC_e5DV",
    "outputId": "9040513c-f3be-4646-f156-a7e911bd69f2"
   },
   "outputs": [],
   "source": [
    "clrd.loc['Aegis Grp', 'CumPaidLoss'].iloc[-1, 0, :, ::-1]"
   ]
  },
  {
   "cell_type": "markdown",
   "metadata": {
    "id": "FGe0GuNje5DV"
   },
   "source": [
    "Between the Triangle-specific functionality and the pandas-style functionality, you can query any diagnostic information from your triangles."
   ]
  },
  {
   "cell_type": "markdown",
   "metadata": {
    "id": "qoTaZsDqe5DV"
   },
   "source": [
    "Which Company has the highest Direct Earned Premium for 1994?"
   ]
  },
  {
   "cell_type": "code",
   "execution_count": null,
   "metadata": {
    "colab": {
     "base_uri": "https://localhost:8080/"
    },
    "id": "rp9XA13_e5DV",
    "outputId": "b4a4efd1-d8a5-4fa3-8509-c6a65e0adc27"
   },
   "outputs": [],
   "source": [
    "(clrd['EarnedPremDIR']\n",
    "  .groupby('GRNAME').sum()\n",
    "  .latest_diagonal.loc[:, :, '1994']\n",
    "  .to_frame(origin_as_datetime=True)\n",
    "  .nlargest(1))"
   ]
  },
  {
   "cell_type": "markdown",
   "metadata": {
    "id": "LcZPyatqe5DW"
   },
   "source": [
    "For the five largest personal auto companies, which has the lowest loss ultimate loss ratio?"
   ]
  },
  {
   "cell_type": "code",
   "execution_count": null,
   "metadata": {
    "colab": {
     "base_uri": "https://localhost:8080/"
    },
    "id": "CzIPtGiee5DW",
    "outputId": "c91c2f26-2902-473a-e960-1a4899de871c"
   },
   "outputs": [],
   "source": [
    "largest_5 = (\n",
    "  clrd.loc[clrd['LOB']=='ppauto', 'EarnedPremDIR']\n",
    "      .groupby('GRNAME').sum()\n",
    "      .latest_diagonal\n",
    "      .sum(axis='origin') # sum can be used along any axis\n",
    "      .to_frame(origin_as_datetime=True)\n",
    "      .nlargest(5)\n",
    ")\n",
    "\n",
    "print('Top Five:\\n', largest_5, '\\n\\nLowest Loss Ratio:\\n')\n",
    "\n",
    "(clrd[clrd['LOB']=='ppauto']\n",
    "  .loc[list(largest_5.index)]\n",
    "  .latest_diagonal.sum('origin')['LossRatio']\n",
    "  .to_frame(origin_as_datetime=True)\n",
    "  .sort_values()\n",
    "  )[:1]"
   ]
  },
  {
   "cell_type": "markdown",
   "metadata": {
    "id": "_3tx5F9fe5DW"
   },
   "source": [
    "**Exercise:**\n",
    "\n",
    "For the `wkcomp` line, which company holds the highest ratio of \"BulkLoss\" to case reserves?\n",
    "\n",
    "* Develop a 'CaseReserve' column as difference between CaseIncurLoss and CumPaidLoss\n",
    "* Limit the Triangle to just 'wkcomp'\n",
    "* Sum across all origin periods by specifying axis=2 or axis=\"origin\" \n",
    "* Take ratio of BulkLoss to CaseReserve\n",
    "* Convert `to_frame` and sort"
   ]
  },
  {
   "cell_type": "code",
   "execution_count": null,
   "metadata": {
    "id": "C_CDSmyoe5DW"
   },
   "outputs": [],
   "source": [
    "# Your work here"
   ]
  },
  {
   "cell_type": "markdown",
   "metadata": {
    "id": "tpT_fIY8e5DW"
   },
   "source": [
    "**Exercise:**\n",
    "\n",
    "For the `ppauto` line, which company exhibited the highest prior year development in 1997?\n",
    "\n",
    "* Subset the triangle to LOB == 'ppauto'\n",
    "* For denominator - slice out valution 1996 cumulative\n",
    "* For numerator - slice out incremental latest diagonal using `cum_to_incr` and `latest_diagonal`\n",
    "* Additionally for the numerator, slice out all accident years except 1997\n",
    "* Convert to_frame and sort"
   ]
  },
  {
   "cell_type": "code",
   "execution_count": null,
   "metadata": {
    "id": "NYaYPyzee5DW"
   },
   "outputs": [],
   "source": [
    "# Your work here"
   ]
  },
  {
   "cell_type": "markdown",
   "metadata": {
    "id": "vmXlLDbZe5DX"
   },
   "source": [
    "### Large Triangles\n",
    "\n",
    "The concept of a triangle as a format are memory-inefficient.  Almost half of the cells of a Triangle are useless and each useless cell takes up 64 bits of memory."
   ]
  },
  {
   "cell_type": "code",
   "execution_count": null,
   "metadata": {
    "colab": {
     "base_uri": "https://localhost:8080/"
    },
    "id": "Mb3RFhtse5DX",
    "outputId": "3307842a-c728-42ff-ae2e-f022d2d13d43"
   },
   "outputs": [],
   "source": [
    "print(genins.values.dtype)\n",
    "print(genins)"
   ]
  },
  {
   "cell_type": "markdown",
   "metadata": {
    "id": "xqr7X-1Ke5DX"
   },
   "source": [
    "Unlike pandas, the Triangle will automatically switch to a sparse array representation of the Triangle data when it is large and has a high degree of sparsity."
   ]
  },
  {
   "cell_type": "code",
   "execution_count": null,
   "metadata": {
    "colab": {
     "base_uri": "https://localhost:8080/",
     "height": 188
    },
    "id": "vw-WKUvae5DX",
    "outputId": "1d3b9841-301b-44d4-b2ba-330380a4ef2b"
   },
   "outputs": [],
   "source": [
    "prism = cl.load_sample('prism')\n",
    "prism.values"
   ]
  },
  {
   "cell_type": "markdown",
   "metadata": {
    "id": "mVODPSXHe5DX"
   },
   "source": [
    "However, as a practitioner, you do not have to think about this at all. `chainladder` exposes the same operations regardless of whether the data is sparse or not."
   ]
  },
  {
   "cell_type": "code",
   "execution_count": null,
   "metadata": {
    "colab": {
     "base_uri": "https://localhost:8080/",
     "height": 206
    },
    "id": "BumiQbLLwCge",
    "outputId": "ab6aab39-83b1-4d71-de96-d4e2d825a024"
   },
   "outputs": [],
   "source": [
    "prism"
   ]
  },
  {
   "cell_type": "code",
   "execution_count": null,
   "metadata": {
    "colab": {
     "base_uri": "https://localhost:8080/",
     "height": 363
    },
    "id": "CsZcsP9ze5DX",
    "outputId": "81872b3d-c089-4dc6-cb9e-c9b1e9de4f1a"
   },
   "outputs": [],
   "source": [
    "prism.sum()['Paid'].iloc[..., -10:, :10]"
   ]
  },
  {
   "cell_type": "markdown",
   "metadata": {
    "id": "e8s-u5nre5DX"
   },
   "source": [
    "This triangle is a claim level Triangle.  In practice, it is useful to bring Triangle data in at a very granular level.  This allows for the greatest flexibility in Triangle aggregations as analysis is conducted."
   ]
  },
  {
   "cell_type": "code",
   "execution_count": null,
   "metadata": {
    "colab": {
     "base_uri": "https://localhost:8080/",
     "height": 423
    },
    "id": "oxWxRhWpe5DX",
    "outputId": "5797bbd0-da25-43d1-f13e-5fda75eff44b"
   },
   "outputs": [],
   "source": [
    "prism.index"
   ]
  },
  {
   "cell_type": "markdown",
   "metadata": {
    "id": "YEtGE2xKe5DY"
   },
   "source": [
    "Incremental triangles are inherently more sparse than cumulative, and storing as incremental will allow you to push substantially more data through the Triangle.  Cumulative triangles can easily be derived with the `incr_to_cum` method.\n",
    "\n",
    "Here we also use the `grain` method to reaggregate from an `OMDM` (Origin Month, Development Month) grain to an `OYDY` (Origin Year, Development Year) grain."
   ]
  },
  {
   "cell_type": "code",
   "execution_count": null,
   "metadata": {
    "colab": {
     "base_uri": "https://localhost:8080/",
     "height": 349
    },
    "id": "Am7WHVPDe5DY",
    "outputId": "e7d97a86-19da-4079-fd3a-e3fc67b28154"
   },
   "outputs": [],
   "source": [
    "print(prism.is_cumulative)\n",
    "prism['Incurred'].sum().grain('OYDY').incr_to_cum().link_ratio"
   ]
  },
  {
   "cell_type": "markdown",
   "metadata": {
    "id": "JpitB09DxDGv"
   },
   "source": [
    "Notice how much longer our calculations take when we accumulate the Triangle at an earlier step.  This is because the Triangle is keeping track of far more data elements than it needs."
   ]
  },
  {
   "cell_type": "code",
   "execution_count": null,
   "metadata": {
    "colab": {
     "base_uri": "https://localhost:8080/",
     "height": 331
    },
    "id": "vmLMj04hwkS8",
    "outputId": "fa28b88c-c455-4320-ba6f-65ae7cdf6193"
   },
   "outputs": [],
   "source": [
    "prism.incr_to_cum()['Incurred'].sum().grain('OYDY').incr_to_cum().link_ratio"
   ]
  },
  {
   "cell_type": "markdown",
   "metadata": {
    "id": "wj8jPe1GxILn"
   },
   "source": [
    "Notice how much RAM a cumulative Triangle takes up relative to an incremental Triangle.  It's generally good practice to defer accumulation of large triangles until absolutely necessary."
   ]
  },
  {
   "cell_type": "code",
   "execution_count": null,
   "metadata": {
    "colab": {
     "base_uri": "https://localhost:8080/",
     "height": 188
    },
    "id": "xYqHNCsiw9RN",
    "outputId": "f479bca5-d4e0-4db3-ed61-9a5a8b57f666"
   },
   "outputs": [],
   "source": [
    "prism.incr_to_cum().values"
   ]
  },
  {
   "cell_type": "markdown",
   "metadata": {
    "id": "kjPZWO5se5DY"
   },
   "source": [
    "Let's try another example and look how reported counts trend by accident quarter for different deductible amounts."
   ]
  },
  {
   "cell_type": "code",
   "execution_count": null,
   "metadata": {
    "colab": {
     "base_uri": "https://localhost:8080/",
     "height": 281
    },
    "id": "BydqObFSe5DY",
    "outputId": "e3d50552-d02e-4d6f-9039-23ef6c691cd5"
   },
   "outputs": [],
   "source": [
    "(prism['reportedCount'].groupby('Deductible').sum()\n",
    "                       .sum('development').grain('OQDM')\n",
    "                       .loc[:, :, :'2014'].T).plot(\n",
    "    ylabel='Reported Count');"
   ]
  },
  {
   "cell_type": "markdown",
   "metadata": {
    "id": "PxqEFkJAe5DY"
   },
   "source": [
    "The `Triangle` extends the functionality you've learned about in our pandas tutorials.  Some things to remember to make working with Triangles as easy as possible:\n",
    "\n",
    "* Dealing with the first two axes (`index`, `columns`) feels a lot like dealing with a `pd.DataFrame`\n",
    "* Triangles with the last two axes (`origin`, `development`) feels a lot like pandas accessors (`str`, `dt`)\n",
    "* Triangles have domain-specific methods not found in pandas (`grain`, `incr_to_cum`, `dev_to_val`, etc.)\n",
    "* Triangles are designed to scale up to fairly large datasets - the more you push into a Triangle, the more you will have access to."
   ]
  },
  {
   "cell_type": "markdown",
   "metadata": {
    "id": "KKqEwnsNe5DY"
   },
   "source": [
    "### Creating Triangles\n",
    "\n",
    "You'll want to try the library out on your own data.  To do so, you need to instantiate a `Triangle` from data you have on hand.  This data must be a DataFrame in **long** format.\n",
    "\n",
    "![](https://chainladder-python.readthedocs.io/en/latest/_images/triangle_bad_good.PNG)\n",
    "\n",
    "At a minimum, the DataFrame must also:\n",
    "\n",
    "1. have “date-like” columns for the origin and development period of the triangle.\n",
    "2. Have a numeric column(s) representing the amount(s) of the triangle.\n",
    "\n",
    "The reason for these restriction is that the Triangle infers a lot of useful properties from your DataFrame. For example, it will determine the grain and valuation_date of your triangle which in turn are used to derive many other properties of your triangle without further prompting from you."
   ]
  },
  {
   "cell_type": "code",
   "execution_count": null,
   "metadata": {
    "colab": {
     "base_uri": "https://localhost:8080/",
     "height": 270
    },
    "id": "hrk-bPaGe5DY",
    "outputId": "0e3a652c-94b5-4d31-d263-fe8d16f433f9"
   },
   "outputs": [],
   "source": [
    "df = pd.read_csv('https://raw.githubusercontent.com/casact/chainladder-python/master/chainladder/utils/data/prism.csv')\n",
    "df.head()"
   ]
  },
  {
   "cell_type": "markdown",
   "metadata": {
    "id": "A-RwdMTCe5DZ"
   },
   "source": [
    "At a minimum, you'll want to feed the `Triangle` some `data`, and column labels for each of its four axes (`index`, `columns`, `origin`, and `development`)\n",
    "\n",
    "A good convention is to store different measures (paid, incurred, counts, etc.) as `columns` and arbitrary dimensions (Policy Number, State, etc) in the `index`."
   ]
  },
  {
   "cell_type": "code",
   "execution_count": null,
   "metadata": {
    "colab": {
     "base_uri": "https://localhost:8080/",
     "height": 278
    },
    "id": "kuqYmXXue5DZ",
    "outputId": "3efce4ce-61da-4c8b-d4cc-ae8e7d127ad3"
   },
   "outputs": [],
   "source": [
    "cl.Triangle(\n",
    "    data=df,\n",
    "    index=['ClaimNo', 'Line', 'Type', 'ClaimLiability', 'Limit', 'Deductible'],\n",
    "    columns=['reportedCount', 'closedPaidCount', 'Paid', 'Incurred'],\n",
    "    origin='AccidentDate',\n",
    "    development='PaymentDate',\n",
    ")"
   ]
  },
  {
   "cell_type": "markdown",
   "metadata": {
    "id": "17dtH9P1e5DZ"
   },
   "source": [
    "From our data, the `Triangle` infers that it has an `origin_grain` of **M**onth and a `development_grain` also of **M**onth.  It inferred these from the available elements in 'AccidentDate' and 'PaymentDate'.\n",
    "\n",
    "Let's reproduce the same triangle, but with a coarser accident grain."
   ]
  },
  {
   "cell_type": "code",
   "execution_count": null,
   "metadata": {
    "colab": {
     "base_uri": "https://localhost:8080/",
     "height": 278
    },
    "id": "3uN-7y9-e5DZ",
    "outputId": "1daaed58-2aa3-483c-ba94-41e89469155e"
   },
   "outputs": [],
   "source": [
    "df['AccidentYear'] = df['AccidentDate'].str[:4] # Now only the year is known.\n",
    "\n",
    "cl.Triangle(\n",
    "    data=df,\n",
    "    index=['ClaimNo', 'Line', 'Type', 'ClaimLiability', 'Limit', 'Deductible'],\n",
    "    columns=['reportedCount', 'closedPaidCount', 'Paid', 'Incurred'],\n",
    "    origin='AccidentYear',\n",
    "    development='PaymentDate',\n",
    ")"
   ]
  },
  {
   "cell_type": "markdown",
   "metadata": {
    "id": "b9M8T7GJe5DZ"
   },
   "source": [
    "Generally, the datetime inference is pretty good, but if for whatever reason it doesn't do what you want, you can be explicit about the datetime format."
   ]
  },
  {
   "cell_type": "code",
   "execution_count": null,
   "metadata": {
    "colab": {
     "base_uri": "https://localhost:8080/",
     "height": 278
    },
    "id": "-OT2ytX8e5Da",
    "outputId": "ce93a7c6-bf85-4eed-bab8-e1773b4a3660"
   },
   "outputs": [],
   "source": [
    "cl.Triangle(\n",
    "    data=df,\n",
    "    index=['ClaimNo', 'Line', 'Type', 'ClaimLiability', 'Limit', 'Deductible'],\n",
    "    columns=['reportedCount', 'closedPaidCount', 'Paid', 'Incurred'],\n",
    "    origin='AccidentYear',\n",
    "    development='PaymentDate',\n",
    "    origin_format='%Y', development_format='%Y-%m-%d'\n",
    ")"
   ]
  },
  {
   "cell_type": "markdown",
   "metadata": {
    "id": "SET3u72De5Da"
   },
   "source": [
    "The Triangle infers a lot of information during construction.  But not everything can be inferred. In particular, we have no way of knowing whether the Triangle is incremental or cumulative in nature.  You can optionally specify whether a triangle is `cumulative` explicitly during construction.  In most cases, this won't cause problems, but certain calculations will need to know whether the Triangle is cumulative or not."
   ]
  },
  {
   "cell_type": "code",
   "execution_count": null,
   "metadata": {
    "colab": {
     "base_uri": "https://localhost:8080/",
     "height": 206
    },
    "id": "QnzNfyxKe5Da",
    "outputId": "647a4926-58f0-4961-b059-99e78b75f2a3"
   },
   "outputs": [],
   "source": [
    "cl.Triangle(\n",
    "    data=df,\n",
    "    index=['ClaimNo', 'Line', 'Type', 'ClaimLiability', 'Limit', 'Deductible'],\n",
    "    columns=['reportedCount', 'closedPaidCount', 'Paid', 'Incurred'],\n",
    "    origin='AccidentDate',\n",
    "    development='PaymentDate',\n",
    "    cumulative=False\n",
    ")"
   ]
  },
  {
   "cell_type": "markdown",
   "metadata": {
    "id": "yeSW0CO2e5Da"
   },
   "source": [
    "### Scikit-learn Review\n",
    "\n",
    "We want to use our triangles to estimate unpaid claims estimates.  To do so, we will construct models.  Just as Triangles emulate much of the `pandas` syntax, chainladder models emulate the `scikit-learn` modeling syntax.\n",
    "\n",
    "Recall from scikit-learn that model specification and model fitting are separate from each other.  When specifying a model, you can configure any numer of model **hyperparameters**. Hyperparameters are just model parameters that can be set in the absence of seeing any data."
   ]
  },
  {
   "cell_type": "code",
   "execution_count": null,
   "metadata": {
    "id": "BGC6--sie5Da"
   },
   "outputs": [],
   "source": [
    "from sklearn.linear_model import LinearRegression\n",
    "\n",
    "# Model specification\n",
    "model_12_to_24 = LinearRegression(\n",
    "    fit_intercept=False # Specify any hyperparameters\n",
    ")"
   ]
  },
  {
   "cell_type": "markdown",
   "metadata": {
    "id": "c_huVr5Qe5Da"
   },
   "source": [
    "At this point, the model is just a specification, it has not seen any data whatsoever.  Hyperparameters are different from estimated model parameters in that they can be before seeing data."
   ]
  },
  {
   "cell_type": "code",
   "execution_count": null,
   "metadata": {
    "colab": {
     "base_uri": "https://localhost:8080/"
    },
    "id": "kyS1dtYRe5Da",
    "outputId": "0097582a-f858-480d-f743-b3b54573d421"
   },
   "outputs": [],
   "source": [
    "X=genins.loc[..., :'2009', 12].values[0, 0]\n",
    "y=genins.loc[..., :'2009',  24].values.flatten()\n",
    "print(X.flatten())\n",
    "print(y)   \n",
    "\n",
    "# Model Fitting\n",
    "model_12_to_24.fit(\n",
    "    X=X, \n",
    "    y=y, \n",
    "    sample_weight=(1 / X).flatten())"
   ]
  },
  {
   "cell_type": "markdown",
   "metadata": {
    "id": "ms7oFzcpe5Db"
   },
   "source": [
    "After a model is `fit`, then additional model parameters that are estimated from the data become available.  \n",
    "\n",
    "**Note** To distinguish estimated paramters from hyper parameters, scikit-learn convention is to have a **trailing underscore** on estimated parameters."
   ]
  },
  {
   "cell_type": "code",
   "execution_count": null,
   "metadata": {
    "colab": {
     "base_uri": "https://localhost:8080/"
    },
    "id": "R1XaRvQGe5Db",
    "outputId": "5774771b-e53f-4e70-c2d2-80fa4c088e87"
   },
   "outputs": [],
   "source": [
    "# Model Diagnostics\n",
    "model_12_to_24.coef_ # A roundabout way of developing a volume-weighted link-ratio"
   ]
  },
  {
   "cell_type": "markdown",
   "metadata": {
    "id": "34EAwtX1e5Db"
   },
   "source": [
    "Finally, depending on whether your model is a predictor or a transformer, you can either make predictions off of your model or transform your data based on the model.\n",
    "\n",
    "The key difference between Transformers and Predictors:\n",
    "\n",
    "* Transformers alter your design matrix, `X`\n",
    "* Predictors make predictions of your response, `y`"
   ]
  },
  {
   "cell_type": "code",
   "execution_count": null,
   "metadata": {
    "colab": {
     "base_uri": "https://localhost:8080/"
    },
    "id": "co0cFqC9e5Db",
    "outputId": "a7f5b0b8-d532-4b02-cf41-22457f03d112"
   },
   "outputs": [],
   "source": [
    "model_12_to_24.predict(np.array([[1000]]))"
   ]
  },
  {
   "cell_type": "markdown",
   "metadata": {
    "id": "g1IpUovee5Db"
   },
   "source": [
    "### Models in `chainladder`\n",
    "\n",
    "The chainladder package comes with several scikit-learn compliant estimators dedicated to actuarial reserving.  These estimators focus on different aspects of a reserving analysis:\n",
    "\n",
    "* **Loss Development** - estimators for setting loss development patterns (e.g. `Development`, `MunichAdjustment`)\n",
    "* **Tails Factors** - estimators for setting tail extrapolation fo factors (e.g. `TailCurve`, `TailConstant`)\n",
    "* **Adjustments** - estimators for altering the data of a Triangle (e.g. `BerquistSherman`, `BootstrapODPSample`)\n",
    "* **Workflow** - estimators for building composite estimators (e.g. `Pipeline`, `VotingChainladder`)\n",
    "* **IBNR Models** - estimators for predicting unpaid claim etimates (e.g. `Chainladder`, `BornhuetterFerguson`)\n",
    "\n",
    "Each of these estimators is a Transformer with the exception of the IBNR models which are Predictors.  "
   ]
  },
  {
   "cell_type": "markdown",
   "metadata": {
    "id": "RiWTEN7Je5Db"
   },
   "source": [
    "Let's fit a basic Chainladder model.  With no further configuration, the `Chainladder` model will fit volume-weighted factors without a tail."
   ]
  },
  {
   "cell_type": "code",
   "execution_count": null,
   "metadata": {
    "colab": {
     "base_uri": "https://localhost:8080/"
    },
    "id": "8TZO_ZY6e5Db",
    "outputId": "b7094853-8f5d-40f3-ef34-9706baf60336"
   },
   "outputs": [],
   "source": [
    "# Model Specification\n",
    "model = cl.Chainladder()\n",
    "\n",
    "# Model Fitting\n",
    "model.fit(genins)\n",
    "\n",
    "# Model diagnostics\n",
    "print(f'IBNR estimated as {\"${:,}\".format(int(model.ibnr_.sum()))}')"
   ]
  },
  {
   "cell_type": "markdown",
   "metadata": {
    "id": "2lwmztsce5Db"
   },
   "source": [
    "Other useful properties of IBNR models besides `ibnr_` include its selected age-to-age factors, or its `ldf_`"
   ]
  },
  {
   "cell_type": "code",
   "execution_count": null,
   "metadata": {
    "colab": {
     "base_uri": "https://localhost:8080/",
     "height": 81
    },
    "id": "l7XT7H_Oe5Db",
    "outputId": "ca8ed3eb-9618-4d1b-fd91-033e3506be1b"
   },
   "outputs": [],
   "source": [
    "model.ldf_"
   ]
  },
  {
   "cell_type": "markdown",
   "metadata": {
    "id": "nzUvHcBze5Dc"
   },
   "source": [
    "Age-to-ultimates are stored in the `cdf_` attribute."
   ]
  },
  {
   "cell_type": "code",
   "execution_count": null,
   "metadata": {
    "colab": {
     "base_uri": "https://localhost:8080/",
     "height": 81
    },
    "id": "cy0Y2UVXe5Dc",
    "outputId": "0fe57b0c-44c1-479d-840a-98f24cd30f58"
   },
   "outputs": [],
   "source": [
    "model.cdf_"
   ]
  },
  {
   "cell_type": "markdown",
   "metadata": {
    "id": "kBmQdM9Ee5Dc"
   },
   "source": [
    "We can explore the `full_triangle_` or the `full_expectation_`."
   ]
  },
  {
   "cell_type": "code",
   "execution_count": null,
   "metadata": {
    "colab": {
     "base_uri": "https://localhost:8080/",
     "height": 363
    },
    "id": "ZGvFeEb3e5Dc",
    "outputId": "1c8add94-59be-4917-da8b-07c4dd0225d8"
   },
   "outputs": [],
   "source": [
    "model.full_triangle_"
   ]
  },
  {
   "cell_type": "markdown",
   "metadata": {
    "id": "MlT9ZXXve5Dc"
   },
   "source": [
    "Finally, let's explore the `ultimate_` of the model"
   ]
  },
  {
   "cell_type": "code",
   "execution_count": null,
   "metadata": {
    "colab": {
     "base_uri": "https://localhost:8080/",
     "height": 314
    },
    "id": "wFKp-PNce5Dc",
    "outputId": "bb7a13ba-4d92-4ca4-ef5a-849cb33e069b"
   },
   "outputs": [],
   "source": [
    "(model.ultimate_/1e6).plot(\n",
    "    title=\"Genins Ultimates ($M)\",\n",
    "    kind='bar', legend=False, xlabel='Accident Year');"
   ]
  },
  {
   "cell_type": "markdown",
   "metadata": {
    "id": "Z7vFnzfbe5Dc"
   },
   "source": [
    "All of these properties are themselves triangles, so they can be manipulated for further diagnostics."
   ]
  },
  {
   "cell_type": "code",
   "execution_count": null,
   "metadata": {
    "colab": {
     "base_uri": "https://localhost:8080/",
     "height": 298
    },
    "id": "mY8BPX4ae5Dc",
    "outputId": "fe194fdb-97bb-4bca-b113-1e03e7814656"
   },
   "outputs": [],
   "source": [
    "(model.full_triangle_\n",
    "      .dev_to_val()\n",
    "      .cum_to_incr()\n",
    "      .loc[..., '2011':'2020']\n",
    "      .sum('origin')\n",
    "      .T/1e6\n",
    " ).plot(\n",
    "     marker='^', legend=False, linestyle='--',\n",
    "     title=\"Expected IBNR Run-off\",\n",
    "     xlabel='Calendar Year', color='blue',\n",
    "     ylabel=\" ($ Millions)\"\n",
    ");"
   ]
  },
  {
   "cell_type": "markdown",
   "metadata": {
    "id": "DrcB_HQ0e5Dd"
   },
   "source": [
    "**Exercise**\n",
    "\n",
    "Can you produce an heatmap of the difference between the expected development and the Triangle itself?\n",
    "* Limit `model.full_expectation_` to the `valuation_date` of genins\n",
    "* Take a difference between the expectation and the genins Triangle\n",
    "* Call the `heatmap` method on the difference"
   ]
  },
  {
   "cell_type": "code",
   "execution_count": null,
   "metadata": {
    "id": "IQInb3ODe5Dd"
   },
   "outputs": [],
   "source": [
    "# Your work here"
   ]
  },
  {
   "cell_type": "markdown",
   "metadata": {
    "id": "gvg7O4Dke5Dd"
   },
   "source": [
    "### Assumption Setting (Hyperparameters)\n",
    "\n",
    "The `Chainladder` model thus far has used a volume-weighted average set of development patterns.  It's almost always understood that the actuary will want to deviate from these patterns.  For this, we can use the `Development` transformer."
   ]
  },
  {
   "cell_type": "code",
   "execution_count": null,
   "metadata": {
    "id": "TiTJc3rie5Dd"
   },
   "outputs": [],
   "source": [
    "cl.Development?"
   ]
  },
  {
   "cell_type": "code",
   "execution_count": null,
   "metadata": {
    "colab": {
     "base_uri": "https://localhost:8080/",
     "height": 81
    },
    "id": "bcbWbMOJe5Dd",
    "outputId": "48b524d5-2d1d-41f0-cc76-1fc60b8d20a4"
   },
   "outputs": [],
   "source": [
    "cl.Development(\n",
    "    average='simple', \n",
    "    n_periods=5\n",
    ").fit(genins).cdf_"
   ]
  },
  {
   "cell_type": "code",
   "execution_count": null,
   "metadata": {
    "colab": {
     "base_uri": "https://localhost:8080/",
     "height": 81
    },
    "id": "87FKiELWe5Dd",
    "outputId": "1cb537c7-6ff1-4de5-f8f5-a7959a216cd3"
   },
   "outputs": [],
   "source": [
    "cl.Development(\n",
    "    average='volume', \n",
    "    n_periods=3\n",
    ").fit(genins).cdf_"
   ]
  },
  {
   "cell_type": "markdown",
   "metadata": {
    "id": "sh8_bV3Qe5Dd"
   },
   "source": [
    "We can estimate each lag independently by passing a vector of assumptions in."
   ]
  },
  {
   "cell_type": "code",
   "execution_count": null,
   "metadata": {
    "colab": {
     "base_uri": "https://localhost:8080/",
     "height": 81
    },
    "id": "2qbxm2y1e5De",
    "outputId": "ea99d3d1-f58f-4144-8f7b-d4e3e0110a65"
   },
   "outputs": [],
   "source": [
    "cl.Development(\n",
    "    average=['volume']*3 +['regression']*6, \n",
    "    n_periods=[5, 5, 4, 4, 3, 3, 3, 3, 3],\n",
    "    drop_valuation='2008'\n",
    ").fit(genins).cdf_"
   ]
  },
  {
   "cell_type": "markdown",
   "metadata": {
    "id": "w_jl51Qqla5t"
   },
   "source": [
    "If we use a `Development` estimator to transform our Triangle, we can easily examine and `link_ratio` selections and ommissions we've made."
   ]
  },
  {
   "cell_type": "code",
   "execution_count": null,
   "metadata": {
    "colab": {
     "base_uri": "https://localhost:8080/",
     "height": 331
    },
    "id": "7CerwBmjk1sI",
    "outputId": "93f9d22e-49f7-4fba-a88e-00e4eb3c5bb1"
   },
   "outputs": [],
   "source": [
    "cl.Development(\n",
    "    average=['volume']*3 +['regression']*6, \n",
    "    n_periods=[5, 5, 4, 4, 3, 3, 3, 3, 3],\n",
    "    drop_valuation='2008'\n",
    ").fit_transform(genins).link_ratio"
   ]
  },
  {
   "cell_type": "markdown",
   "metadata": {
    "id": "aMD_IWgxe5De"
   },
   "source": [
    "### Composite Estimators (Pipeline)\n",
    "The Development estimator only produces a set of patterns. It doesn't actually estimate IBNR.   To do that you need to couple it with an IBNR model."
   ]
  },
  {
   "cell_type": "code",
   "execution_count": null,
   "metadata": {
    "id": "lB-6dhAMe5De"
   },
   "outputs": [],
   "source": [
    "# Model Specification\n",
    "dev = cl.Development(\n",
    "    average=['regression']*3 +['volume']*6, \n",
    "    n_periods=[5, 5, 4, 4, 3, 3, 3, 3, 3],\n",
    "    drop_valuation='2008'\n",
    ")\n",
    "model = cl.Chainladder()"
   ]
  },
  {
   "cell_type": "markdown",
   "metadata": {
    "id": "4qZ9BsrGe5De"
   },
   "source": [
    "Notice, the `Chainladder` model requires a Triangle to be passed into its `fit` method.  We cannot pass in our Develoment estimator since it is not a Triangle."
   ]
  },
  {
   "cell_type": "code",
   "execution_count": null,
   "metadata": {
    "colab": {
     "base_uri": "https://localhost:8080/"
    },
    "id": "f2kVWMEke5De",
    "outputId": "f7a89b22-f61f-4304-d06d-71598d10397c"
   },
   "outputs": [],
   "source": [
    "type(dev) is cl.Triangle"
   ]
  },
  {
   "cell_type": "markdown",
   "metadata": {
    "id": "F3zYWd9Pe5De"
   },
   "source": [
    "Instead we ue our `Development` estimator to transform our triangle."
   ]
  },
  {
   "cell_type": "code",
   "execution_count": null,
   "metadata": {
    "colab": {
     "base_uri": "https://localhost:8080/"
    },
    "id": "j1P386vje5De",
    "outputId": "ed4bd599-3646-43e4-f98e-11a46bad2d90"
   },
   "outputs": [],
   "source": [
    "print(type(dev.fit_transform(genins)) is cl.Triangle)\n",
    "\n",
    "# Model Fitting\n",
    "model.fit(X=dev.fit_transform(genins))\n",
    "\n",
    "print(f'IBNR estimated as {\"${:,}\".format(int(model.ibnr_.sum()))}')"
   ]
  },
  {
   "cell_type": "markdown",
   "metadata": {
    "id": "p4J3yxnMe5De"
   },
   "source": [
    "Similar to scikit-learn, chainladder provides a `Pipeline` to make composite estimators much easier to build up."
   ]
  },
  {
   "cell_type": "code",
   "execution_count": null,
   "metadata": {
    "colab": {
     "base_uri": "https://localhost:8080/"
    },
    "id": "uQnKK5a1e5De",
    "outputId": "dcda0336-2d47-4270-b34d-e1f9695d6c69"
   },
   "outputs": [],
   "source": [
    "# Model Specification\n",
    "composite_model = cl.Pipeline(\n",
    "    #       Name,    Estimator\n",
    "    steps=[('dev',   dev),\n",
    "           ('model', cl.Chainladder())])\n",
    "\n",
    "# Fit your estimator\n",
    "composite_model.fit(genins)"
   ]
  },
  {
   "cell_type": "markdown",
   "metadata": {
    "id": "5KkzFim5e5Df"
   },
   "source": [
    "The `Pipeline` estimator exposes all features of the model from any step.  To access a specific step, you can reference the `named_steps` property of the `Pipeline`."
   ]
  },
  {
   "cell_type": "code",
   "execution_count": null,
   "metadata": {
    "colab": {
     "base_uri": "https://localhost:8080/",
     "height": 399
    },
    "id": "2Lyw5Ssbe5Df",
    "outputId": "e073961a-67b1-4656-805e-2666a33b6098"
   },
   "outputs": [],
   "source": [
    "print(f'IBNR estimated as {\"${:,}\".format(int(composite_model.named_steps.model.ibnr_.sum()))}')\n",
    "\n",
    "print('Selected development assumptions:')\n",
    "pd.DataFrame(\n",
    "    {'average': composite_model.named_steps.dev.average,\n",
    "     'n_periods': composite_model.named_steps.dev.n_periods},\n",
    "    index=genins.link_ratio.development)"
   ]
  },
  {
   "cell_type": "markdown",
   "metadata": {
    "id": "kp-Vs-aae5Df"
   },
   "source": [
    "Let's throw a Tail into the mix.  We can specify where the tail attaches using an `attachment_age`.  This allows for smoothing out patterns in the edge of a Triangle with limited data."
   ]
  },
  {
   "cell_type": "code",
   "execution_count": null,
   "metadata": {
    "colab": {
     "base_uri": "https://localhost:8080/",
     "height": 298
    },
    "id": "S-XhLA7te5Df",
    "outputId": "e0fc491a-678e-45f1-d368-33b5f1a8381e"
   },
   "outputs": [],
   "source": [
    "# Model Specification\n",
    "composite_model = cl.Pipeline(\n",
    "    steps=[('dev', dev),\n",
    "           ('tail', cl.TailCurve('inverse_power', attachment_age=96)),\n",
    "           ('model', cl.Chainladder())])\n",
    "\n",
    "# Model Fitting\n",
    "composite_model.fit(genins)\n",
    "\n",
    "# Model Diagnostics\n",
    "pd.concat(\n",
    "    (genins.latest_diagonal.to_frame(origin_as_datetime=True).rename(columns={'2010': 'Latest'}), \n",
    "     composite_model.named_steps.model.ibnr_.to_frame(origin_as_datetime=True).rename(columns={'2261': 'IBNR'})\n",
    "     ), axis=1\n",
    ").plot(kind='bar', stacked=True, title='Genins with Inverse Power Tail');"
   ]
  },
  {
   "cell_type": "markdown",
   "metadata": {
    "id": "LKssdtnqe5Di"
   },
   "source": [
    "### Assumption Tuning (GridSearch)\n",
    "Similar to scikit-learns GridSearchCV, one can try various permutations of hyperparameters.  This is an excellent approach for testing assumption sensitivity.\n",
    "\n",
    "To use GridSearch you have to:\n",
    "\n",
    "* Supply an `estimator`, this can be any estimator including `Pipeline`.\n",
    "* Specify a search space dictionary to the `param_grid` argument. If a Pipeline is used, then the parameter name must have the step name prepended (e.g. `stepname__parameter`)\n",
    "* A `scoring` function that grabs the diagnostic info you're interested in scenario testing.\n",
    "\n",
    "**Note** All of this can be done with loops, but `GridSearch` provides a nice shorthand for accomplishing the same as well as parallelism when your CPU has multiple cores."
   ]
  },
  {
   "cell_type": "code",
   "execution_count": null,
   "metadata": {
    "id": "wtmG22UHe5Di"
   },
   "outputs": [],
   "source": [
    "# Model Specification\n",
    "grid = cl.GridSearch(\n",
    "    estimator=cl.Pipeline(steps=[\n",
    "        ('dev', cl.Development()),\n",
    "        ('tail', cl.TailCurve()),\n",
    "        ('model', cl.CapeCod())\n",
    "    ]),\n",
    "    \n",
    "    param_grid={'dev__average': ['simple', 'volume', 'regression'],\n",
    "                'dev__n_periods': list(range(3, 10, 2)),\n",
    "                'tail__curve':['exponential', 'inverse_power'],\n",
    "                'tail__attachment_age':[96, 120],\n",
    "                'model__decay': [0, .5, 1.0],\n",
    "                'model__trend': [-.025, -.01, 0, .01, .025],\n",
    "               },\n",
    "    \n",
    "    scoring=lambda x : x.named_steps.model.ibnr_.sum(),\n",
    "    n_jobs=-1 # Use all cores for parallel processing\n",
    ")\n"
   ]
  },
  {
   "cell_type": "markdown",
   "metadata": {
    "id": "9GSp_v1agjZp"
   },
   "source": [
    "`CapeCod` requires an exposure vector that itself needs to be a `Triangle` object.  To instantiate a Triangle as a vector, you can optionally exclude the\n",
    "`development` argument."
   ]
  },
  {
   "cell_type": "code",
   "execution_count": null,
   "metadata": {
    "colab": {
     "base_uri": "https://localhost:8080/"
    },
    "id": "VjRgL4LDgcTo",
    "outputId": "6027f0a3-67b0-447c-c09e-62d95aaad6c9"
   },
   "outputs": [],
   "source": [
    "exposure = cl.Triangle(\n",
    "    pd.DataFrame({'origin': genins.origin,\n",
    "                  'premium': [6000000]*len(genins.origin)}),\n",
    "    origin='origin', columns='premium', cumulative=True)\n",
    "exposure.development_grain = 'Y'\n",
    "\n",
    "# Model Fitting\n",
    "grid.fit(genins, sample_weight=exposure)"
   ]
  },
  {
   "cell_type": "code",
   "execution_count": null,
   "metadata": {
    "colab": {
     "base_uri": "https://localhost:8080/",
     "height": 423
    },
    "id": "etFzAMAQe5Di",
    "outputId": "3d6acc2c-19f3-4859-e467-5e498dd3f09b"
   },
   "outputs": [],
   "source": [
    "# Model Diagnostics\n",
    "grid.results_.rename(columns={'score': 'IBNR'})"
   ]
  },
  {
   "cell_type": "markdown",
   "metadata": {
    "id": "wXKIA_Mve5Di"
   },
   "source": [
    "The choice of `TailCurve` produces a bimodal distribution of IBNR."
   ]
  },
  {
   "cell_type": "code",
   "execution_count": null,
   "metadata": {
    "colab": {
     "base_uri": "https://localhost:8080/",
     "height": 294
    },
    "id": "zk8gsi3ye5Di",
    "outputId": "1865f490-2a2d-4c8d-ea9b-0f9f9dbd4f10"
   },
   "outputs": [],
   "source": [
    "# More Model Diagnostics\n",
    "ax = grid.results_['score'].plot(\n",
    "    kind='hist', bins=100, ylim=(None, 50),\n",
    "    title=f'CapeCod IBNR ({len(grid.results_)} Scenarios)')\n",
    "\n",
    "ax.annotate(\"Inverse Power Tail\", xy=(3.0e7, 42))\n",
    "ax.annotate(\"Exponential Tail\", xy=(1.6e7, 42));"
   ]
  },
  {
   "cell_type": "markdown",
   "metadata": {
    "id": "Rlckuugxe5Di"
   },
   "source": [
    "CapeCod trend parameter seems to have a very predictible impact on the IBNR estimate."
   ]
  },
  {
   "cell_type": "code",
   "execution_count": null,
   "metadata": {
    "colab": {
     "base_uri": "https://localhost:8080/",
     "height": 298
    },
    "id": "f67akt9Me5Dj",
    "outputId": "3b71dc75-3304-4a36-c893-a8fc81d328be"
   },
   "outputs": [],
   "source": [
    "# More Model Diagnostics\n",
    "(grid.results_.groupby('model__trend')['score'].mean()/1e6).plot(\n",
    "    marker='D', color='teal', \n",
    "    title='IBNR Estimate', ylabel='($Millions)');"
   ]
  },
  {
   "cell_type": "markdown",
   "metadata": {
    "id": "A6_nogOMe5Df"
   },
   "source": [
    "### Fitting vs Diagnostics\n",
    "We can take advantage of the multidimensional nature of our Triangles to estimate patterns at one level, but apply them at another."
   ]
  },
  {
   "cell_type": "code",
   "execution_count": null,
   "metadata": {
    "colab": {
     "base_uri": "https://localhost:8080/",
     "height": 269
    },
    "id": "C--yPbx2e5Df",
    "outputId": "132c9e83-9c21-4d20-c101-55e775e09fb1"
   },
   "outputs": [],
   "source": [
    "# Model Specification\n",
    "pipe = cl.Pipeline(steps=[\n",
    "    ('dev', cl.Development(average='volume', groupby='LOB')),\n",
    "    ('tail', cl.TailCurve('exponential')),\n",
    "    ('model', cl.Chainladder())])\n",
    "\n",
    "# Model Fitting\n",
    "pipe.fit(clrd['CumPaidLoss'])\n",
    "\n",
    "# Model Diagnostics\n",
    "pipe.named_steps.model.cdf_.to_frame(origin_as_datetime=True)"
   ]
  },
  {
   "cell_type": "markdown",
   "metadata": {
    "id": "fzxGn8Gse5Dg"
   },
   "source": [
    "However, we have IBNR estimates at the original index grain of the Triangle.  This can be very useful for summarizing results by region, program, or even individual claim without having to resort to a separate allocation process."
   ]
  },
  {
   "cell_type": "code",
   "execution_count": null,
   "metadata": {
    "colab": {
     "base_uri": "https://localhost:8080/",
     "height": 455
    },
    "id": "l5eUJNFMe5Dg",
    "outputId": "6db2d26f-73a5-4029-d42e-e326ed2e5a16"
   },
   "outputs": [],
   "source": [
    "# More Model Diagnostics\n",
    "pd.pivot_table(\n",
    "    pipe.named_steps.model.ibnr_.sum('origin').to_frame(origin_as_datetime=True).reset_index(),\n",
    "    index='GRNAME', columns='LOB', values=0).fillna(0).round(0)"
   ]
  },
  {
   "cell_type": "markdown",
   "metadata": {
    "id": "k7Fm3Mube5Dg"
   },
   "source": [
    "Let's build a CapeCod estimate of the same.  There are only two things we need to change.\n",
    "\n",
    "1. We have to swap out `Chainladder` for `CapeCod`\n",
    "2. `CapeCod` requires an exposure vector. We can pass this to the fit method using the `sample_weight` argument.\n",
    "\n",
    "**Note** CapeCod, BornhuetterFerguson, and Benktander all require a `sample_weight`"
   ]
  },
  {
   "cell_type": "code",
   "execution_count": null,
   "metadata": {
    "colab": {
     "base_uri": "https://localhost:8080/",
     "height": 455
    },
    "id": "4pdPQkCCe5Dg",
    "outputId": "2c94be80-9ee7-4444-a17e-f1cc92f29acb"
   },
   "outputs": [],
   "source": [
    "# Model Specification\n",
    "pipe = cl.Pipeline(steps=[\n",
    "    ('dev', cl.Development(average='volume', groupby='LOB')),\n",
    "    ('tail', cl.TailCurve('exponential')),\n",
    "    ('model', cl.CapeCod(decay=0.99, trend=.01))\n",
    "])\n",
    "\n",
    "# Model Fitting\n",
    "pipe.fit(clrd['CumPaidLoss'], sample_weight=clrd['EarnedPremDIR'].latest_diagonal)\n",
    "\n",
    "# Model Diagnostics\n",
    "pd.pivot_table(\n",
    "    pipe.named_steps.model.ibnr_.sum('origin').to_frame(origin_as_datetime=True).reset_index(),\n",
    "    index='GRNAME', columns='LOB', values=0).fillna(0).round(0)"
   ]
  },
  {
   "cell_type": "markdown",
   "metadata": {
    "id": "ON9IchkJe5Dh"
   },
   "source": [
    "### Predictions\n",
    "\n",
    "All IBNR models have a `predict` method which allows you to use the model to predict IBNR on other Triangles, such as in a roll-foward analysis.\n",
    "\n",
    "To use models across analyses, you can save the model to disk using `to_pickle` and retrieve the model using `read_pickle`.\n",
    "\n",
    "Here "
   ]
  },
  {
   "cell_type": "code",
   "execution_count": null,
   "metadata": {
    "colab": {
     "base_uri": "https://localhost:8080/",
     "height": 331
    },
    "id": "_YA9Xlrme5Dh",
    "outputId": "a2d0464e-e8dd-4dbb-a18a-f3204518424e"
   },
   "outputs": [],
   "source": [
    "last_time = genins[genins.valuation<genins.valuation_date]\n",
    "last_time"
   ]
  },
  {
   "cell_type": "code",
   "execution_count": null,
   "metadata": {
    "id": "REyD-4TSy1XH"
   },
   "outputs": [],
   "source": [
    "# Model Specification\n",
    "last_time_model = cl.Pipeline(steps=[\n",
    "    ('dev', cl.Development(average='simple')),\n",
    "    ('tail', cl.TailConstant(1.05, decay=0.99)),\n",
    "    ('model', cl.Chainladder())]\n",
    ")\n",
    "\n",
    "# Model Fitting\n",
    "last_time_model.fit(last_time)\n",
    "\n",
    "# Save model to disk\n",
    "last_time_model.to_pickle('last_time.pickle')"
   ]
  },
  {
   "cell_type": "markdown",
   "metadata": {
    "id": "l0QdH3V4y1XK"
   },
   "source": [
    "Notice how our Tail pattern extrapolates lags at least one year into the future.  This allows us to use the model in a roll-forward context."
   ]
  },
  {
   "cell_type": "code",
   "execution_count": null,
   "metadata": {
    "colab": {
     "base_uri": "https://localhost:8080/",
     "height": 81
    },
    "id": "7-t-hLSuy1XK",
    "outputId": "1b585a4e-c178-47f7-e946-d7e5a41c9f8d"
   },
   "outputs": [],
   "source": [
    "last_time_model.named_steps.model.cdf_"
   ]
  },
  {
   "cell_type": "markdown",
   "metadata": {
    "id": "88fJPD6ay1XL"
   },
   "source": [
    "Another Triangle with an additional diagonal."
   ]
  },
  {
   "cell_type": "code",
   "execution_count": null,
   "metadata": {
    "colab": {
     "base_uri": "https://localhost:8080/",
     "height": 363
    },
    "id": "guO7mxyoe5Dh",
    "outputId": "95daeae4-f225-462b-c597-d4dd00394599"
   },
   "outputs": [],
   "source": [
    "genins"
   ]
  },
  {
   "cell_type": "markdown",
   "metadata": {
    "id": "L50yybTzy1XL"
   },
   "source": [
    "Imagine this is an independent analysis and we are grabbing our old model from disk."
   ]
  },
  {
   "cell_type": "code",
   "execution_count": null,
   "metadata": {
    "colab": {
     "base_uri": "https://localhost:8080/",
     "height": 363
    },
    "id": "UWYT3-Oie5Dh",
    "outputId": "97d63f78-b531-43b8-f8ad-18bdcf5f24bf"
   },
   "outputs": [],
   "source": [
    "# Retrieve model from disk\n",
    "last_time = cl.read_pickle('last_time.pickle')\n",
    "\n",
    "# Make predictions on new Triangle\n",
    "last_time.predict(genins).ibnr_"
   ]
  },
  {
   "cell_type": "markdown",
   "metadata": {
    "id": "-dnvtJURe5Dh"
   },
   "source": [
    "### Simulations (BootstrapODPSample)\n",
    "\n",
    "There are many other useful Transformers besides Development and Tail estimators.  We can also use the BootstrapODPSample to generate Triangle simluations from an existing Triangle."
   ]
  },
  {
   "cell_type": "code",
   "execution_count": null,
   "metadata": {
    "colab": {
     "base_uri": "https://localhost:8080/",
     "height": 206
    },
    "id": "O0e30Wo4e5Dh",
    "outputId": "818395cb-db4d-485d-8c0e-dc97fd4ad76c"
   },
   "outputs": [],
   "source": [
    "# Model Specification\n",
    "boot = cl.BootstrapODPSample(n_sims=10000, random_state=42)\n",
    "\n",
    "# Model Fitting\n",
    "boot.fit(genins)\n",
    "\n",
    "# Use transform to generate \"transformed\" triangles\n",
    "simulations  = boot.transform(genins)\n",
    "simulations"
   ]
  },
  {
   "cell_type": "code",
   "execution_count": null,
   "metadata": {
    "colab": {
     "base_uri": "https://localhost:8080/",
     "height": 278
    },
    "id": "CMOS-9iUe5Dh",
    "outputId": "3f396f22-8977-408b-8dc0-c7e3ef708717"
   },
   "outputs": [],
   "source": [
    "cl.Chainladder().fit(simulations).ibnr_.sum('origin').plot(kind='hist', bins=100);"
   ]
  },
  {
   "cell_type": "markdown",
   "metadata": {
    "id": "cOmtv33Ve5Dh"
   },
   "source": [
    "Let's do the same with BornhuetterFerguson.  It is entirely appropriate to consider our apriori loss ratio as being sampled from a distribution too."
   ]
  },
  {
   "cell_type": "code",
   "execution_count": null,
   "metadata": {
    "colab": {
     "base_uri": "https://localhost:8080/",
     "height": 298
    },
    "id": "PltV8nuee5Di",
    "outputId": "3b779098-c9e5-4f01-f64b-ac466038a555"
   },
   "outputs": [],
   "source": [
    "# Model Specification\n",
    "bf = cl.BornhuetterFerguson(\n",
    "    # Normal Distribution with mean 0.8 and std 0.10\n",
    "    apriori=0.80, \n",
    "    apriori_sigma=0.10 \n",
    ")\n",
    "\n",
    "# Model Fitting\n",
    "bf.fit(simulations, sample_weight=exposure)\n",
    "\n",
    "# Model Diagnostics\n",
    "(((bf.full_triangle_ - simulations + genins) /\n",
    "   exposure).loc[..., '2009', :132]\n",
    "           .to_frame(origin_as_datetime=True).sample(4000).T.plot(\n",
    "               color='blue', legend=False, alpha=0.005,\n",
    "               title='AY2009 Loss Ratio Uncertainty'));"
   ]
  },
  {
   "cell_type": "markdown",
   "metadata": {
    "id": "apMK5j92e5Dj"
   },
   "source": [
    "### Conclusion\n",
    "\n",
    "**Data manipulation** using the Triangle follows pandas syntax closely, but extends the functionality to match the actuarial science domain.\n",
    "* Slicing, grouping, aggregations, arithmetic all follow pandas style.\n",
    "* The first two Triangle axes (`index`,`columns`) behave like pandas `index` and `columns`\n",
    "* The last two Triangle axes (`origin`, `development`) behave like pandas `str` or `dt` column accessors\n",
    "\n",
    "**Model construction** follows scikit-learn syntax closely.  The separation of model specification, model estimation, and model prediction is a key feature of the library:\n",
    "* Composing complex models as well as swapping between different models very easy.\n",
    "* Models can be fit at a different (often higher) level of aggregation than results.\n",
    "* Models can be saved and used in other analyses.\n",
    "\n",
    "`chainladder` will reinforce your `pandas` and `scikit-learn` skills and vice versa."
   ]
  },
  {
   "cell_type": "markdown",
   "metadata": {
    "id": "GbXWI7b_e5Dj"
   },
   "source": [
    "#### Additional Resources\n",
    "\n",
    "* Visit the [Documentation](https://chainladder-python.readthedocs.io/en/latest/) for more tutorials and examples.\n",
    "* Visit the [Discussion Forum](https://github.com/casact/chainladder-python/discussions) to ask usage questions.\n",
    "* Visit the [Source Code Respository](https://github.com/casact/chainladder-python) to view the implementation or contribute to it.\n"
   ]
  },
  {
   "cell_type": "code",
   "execution_count": null,
   "metadata": {
    "id": "E0-wQU8He5Dj"
   },
   "outputs": [],
   "source": []
  }
 ],
 "metadata": {
  "colab": {
   "collapsed_sections": [],
   "provenance": [],
   "toc_visible": true
  },
  "kernelspec": {
   "display_name": "Python 3 (ipykernel)",
   "language": "python",
   "name": "python3"
  },
  "language_info": {
   "codemirror_mode": {
    "name": "ipython",
    "version": 3
   },
   "file_extension": ".py",
   "mimetype": "text/x-python",
   "name": "python",
   "nbconvert_exporter": "python",
   "pygments_lexer": "ipython3",
   "version": "3.7.11"
  }
 },
 "nbformat": 4,
 "nbformat_minor": 4
}
